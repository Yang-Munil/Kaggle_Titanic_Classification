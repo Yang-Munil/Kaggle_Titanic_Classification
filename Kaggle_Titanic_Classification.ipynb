{
 "cells": [
  {
   "cell_type": "code",
   "execution_count": 1,
   "metadata": {},
   "outputs": [],
   "source": [
    "# Importing libraries\n",
    "\n",
    "import numpy as np \n",
    "import pandas as pd \n",
    "import matplotlib.pyplot as plt\n",
    "import seaborn as sns\n",
    "\n",
    "from scipy import stats\n",
    "from sklearn.preprocessing import StandardScaler, RobustScaler, MinMaxScaler, Normalizer, LabelEncoder\n",
    "\n",
    "from sklearn.model_selection import KFold, cross_val_score, cross_val_predict, StratifiedKFold, GridSearchCV, RandomizedSearchCV, train_test_split\n",
    "\n",
    "\n",
    "# 일반적으로 회귀에는 기본 k-겹 교차검증을 사용하고, 분류에는 StratifiedKFold를 사용한다.\n",
    "\n",
    "# 또한, cross_val_score 함수에는 KFold의 매개변수를 제어할 수가 없으므로, \n",
    "\n",
    "# 따로 KFold 객체를 만들고 매개변수를 조정한 다음에 cross_val_score의 cv 매개변수에 넣어야 한다.\n",
    "\n",
    "from sklearn.tree import DecisionTreeClassifier\n",
    "from sklearn.ensemble import RandomForestClassifier, BaggingClassifier, GradientBoostingClassifier, AdaBoostClassifier, VotingClassifier\n",
    "from sklearn.svm import SVC\n",
    "from sklearn.neighbors import KNeighborsClassifier #KNN\n",
    "from sklearn.naive_bayes import GaussianNB #Naive bayes\n",
    "from xgboost import XGBClassifier\n",
    "from lightgbm import LGBMClassifier\n",
    "from sklearn.linear_model import LogisticRegression, SGDClassifier\n",
    "from sklearn.tree import DecisionTreeClassifier\n",
    "\n",
    "from sklearn.metrics import confusion_matrix, make_scorer, r2_score, accuracy_score, precision_score, recall_score, f1_score\n",
    "from sklearn.metrics import roc_auc_score\n",
    "\n",
    "import warnings         # warnings : 버전 충돌 및 특정 예외 처리를 위해 불러온 내장 모듈\n",
    "warnings.filterwarnings(\"ignore\", category=RuntimeWarning)"
   ]
  },
  {
   "cell_type": "code",
   "execution_count": 2,
   "metadata": {},
   "outputs": [],
   "source": [
    "import sklearn.metrics as metrics"
   ]
  },
  {
   "cell_type": "code",
   "execution_count": 3,
   "metadata": {},
   "outputs": [],
   "source": [
    "train = pd.read_csv('./train.csv')"
   ]
  },
  {
   "cell_type": "markdown",
   "metadata": {},
   "source": [
    "# 1. EDA"
   ]
  },
  {
   "cell_type": "code",
   "execution_count": 4,
   "metadata": {
    "scrolled": true
   },
   "outputs": [
    {
     "data": {
      "text/html": [
       "<div>\n",
       "<style scoped>\n",
       "    .dataframe tbody tr th:only-of-type {\n",
       "        vertical-align: middle;\n",
       "    }\n",
       "\n",
       "    .dataframe tbody tr th {\n",
       "        vertical-align: top;\n",
       "    }\n",
       "\n",
       "    .dataframe thead th {\n",
       "        text-align: right;\n",
       "    }\n",
       "</style>\n",
       "<table border=\"1\" class=\"dataframe\">\n",
       "  <thead>\n",
       "    <tr style=\"text-align: right;\">\n",
       "      <th></th>\n",
       "      <th>PassengerId</th>\n",
       "      <th>Survived</th>\n",
       "      <th>Pclass</th>\n",
       "      <th>Name</th>\n",
       "      <th>Sex</th>\n",
       "      <th>Age</th>\n",
       "      <th>SibSp</th>\n",
       "      <th>Parch</th>\n",
       "      <th>Ticket</th>\n",
       "      <th>Fare</th>\n",
       "      <th>Cabin</th>\n",
       "      <th>Embarked</th>\n",
       "    </tr>\n",
       "  </thead>\n",
       "  <tbody>\n",
       "    <tr>\n",
       "      <th>0</th>\n",
       "      <td>1</td>\n",
       "      <td>0</td>\n",
       "      <td>3</td>\n",
       "      <td>Braund, Mr. Owen Harris</td>\n",
       "      <td>male</td>\n",
       "      <td>22.0</td>\n",
       "      <td>1</td>\n",
       "      <td>0</td>\n",
       "      <td>A/5 21171</td>\n",
       "      <td>7.2500</td>\n",
       "      <td>NaN</td>\n",
       "      <td>S</td>\n",
       "    </tr>\n",
       "    <tr>\n",
       "      <th>1</th>\n",
       "      <td>2</td>\n",
       "      <td>1</td>\n",
       "      <td>1</td>\n",
       "      <td>Cumings, Mrs. John Bradley (Florence Briggs Th...</td>\n",
       "      <td>female</td>\n",
       "      <td>38.0</td>\n",
       "      <td>1</td>\n",
       "      <td>0</td>\n",
       "      <td>PC 17599</td>\n",
       "      <td>71.2833</td>\n",
       "      <td>C85</td>\n",
       "      <td>C</td>\n",
       "    </tr>\n",
       "    <tr>\n",
       "      <th>2</th>\n",
       "      <td>3</td>\n",
       "      <td>1</td>\n",
       "      <td>3</td>\n",
       "      <td>Heikkinen, Miss. Laina</td>\n",
       "      <td>female</td>\n",
       "      <td>26.0</td>\n",
       "      <td>0</td>\n",
       "      <td>0</td>\n",
       "      <td>STON/O2. 3101282</td>\n",
       "      <td>7.9250</td>\n",
       "      <td>NaN</td>\n",
       "      <td>S</td>\n",
       "    </tr>\n",
       "    <tr>\n",
       "      <th>3</th>\n",
       "      <td>4</td>\n",
       "      <td>1</td>\n",
       "      <td>1</td>\n",
       "      <td>Futrelle, Mrs. Jacques Heath (Lily May Peel)</td>\n",
       "      <td>female</td>\n",
       "      <td>35.0</td>\n",
       "      <td>1</td>\n",
       "      <td>0</td>\n",
       "      <td>113803</td>\n",
       "      <td>53.1000</td>\n",
       "      <td>C123</td>\n",
       "      <td>S</td>\n",
       "    </tr>\n",
       "    <tr>\n",
       "      <th>4</th>\n",
       "      <td>5</td>\n",
       "      <td>0</td>\n",
       "      <td>3</td>\n",
       "      <td>Allen, Mr. William Henry</td>\n",
       "      <td>male</td>\n",
       "      <td>35.0</td>\n",
       "      <td>0</td>\n",
       "      <td>0</td>\n",
       "      <td>373450</td>\n",
       "      <td>8.0500</td>\n",
       "      <td>NaN</td>\n",
       "      <td>S</td>\n",
       "    </tr>\n",
       "  </tbody>\n",
       "</table>\n",
       "</div>"
      ],
      "text/plain": [
       "   PassengerId  Survived  Pclass  \\\n",
       "0            1         0       3   \n",
       "1            2         1       1   \n",
       "2            3         1       3   \n",
       "3            4         1       1   \n",
       "4            5         0       3   \n",
       "\n",
       "                                                Name     Sex   Age  SibSp  \\\n",
       "0                            Braund, Mr. Owen Harris    male  22.0      1   \n",
       "1  Cumings, Mrs. John Bradley (Florence Briggs Th...  female  38.0      1   \n",
       "2                             Heikkinen, Miss. Laina  female  26.0      0   \n",
       "3       Futrelle, Mrs. Jacques Heath (Lily May Peel)  female  35.0      1   \n",
       "4                           Allen, Mr. William Henry    male  35.0      0   \n",
       "\n",
       "   Parch            Ticket     Fare Cabin Embarked  \n",
       "0      0         A/5 21171   7.2500   NaN        S  \n",
       "1      0          PC 17599  71.2833   C85        C  \n",
       "2      0  STON/O2. 3101282   7.9250   NaN        S  \n",
       "3      0            113803  53.1000  C123        S  \n",
       "4      0            373450   8.0500   NaN        S  "
      ]
     },
     "execution_count": 4,
     "metadata": {},
     "output_type": "execute_result"
    }
   ],
   "source": [
    "train.head()"
   ]
  },
  {
   "cell_type": "markdown",
   "metadata": {},
   "source": [
    "## 독립변수, 종속변수 정리\n",
    "\n",
    "- Feature(X, 독립 변수)\n",
    "\n",
    "    1. pclass = 티켓의 등급 ( 1, 2, 3 )\n",
    "    1. sex = 성별\n",
    "    1. age = 나이\n",
    "    1. sibsp = 동승한 형제 자매 / 배우자 수\n",
    "    1. parch = 동승한 부모 / 자식 수\n",
    "    1. fare = 요금\n",
    "    1. embarked = 승선항\n",
    "        - S = Southampton\n",
    "        - Q = Queenstown\n",
    "        - C = Cherbourg\n",
    "    \n",
    "\n",
    "- Target\n",
    "\n",
    "    1. survived = 생존 여부 ( 0 = 사망, 1 = 생존 )"
   ]
  },
  {
   "cell_type": "code",
   "execution_count": 5,
   "metadata": {},
   "outputs": [
    {
     "data": {
      "text/plain": [
       "Index(['PassengerId', 'Survived', 'Pclass', 'Name', 'Sex', 'Age', 'SibSp',\n",
       "       'Parch', 'Ticket', 'Fare', 'Cabin', 'Embarked'],\n",
       "      dtype='object')"
      ]
     },
     "execution_count": 5,
     "metadata": {},
     "output_type": "execute_result"
    }
   ],
   "source": [
    "train.columns"
   ]
  },
  {
   "cell_type": "code",
   "execution_count": 6,
   "metadata": {
    "scrolled": true
   },
   "outputs": [
    {
     "name": "stdout",
     "output_type": "stream",
     "text": [
      "<class 'pandas.core.frame.DataFrame'>\n",
      "RangeIndex: 891 entries, 0 to 890\n",
      "Data columns (total 12 columns):\n",
      " #   Column       Non-Null Count  Dtype  \n",
      "---  ------       --------------  -----  \n",
      " 0   PassengerId  891 non-null    int64  \n",
      " 1   Survived     891 non-null    int64  \n",
      " 2   Pclass       891 non-null    int64  \n",
      " 3   Name         891 non-null    object \n",
      " 4   Sex          891 non-null    object \n",
      " 5   Age          714 non-null    float64\n",
      " 6   SibSp        891 non-null    int64  \n",
      " 7   Parch        891 non-null    int64  \n",
      " 8   Ticket       891 non-null    object \n",
      " 9   Fare         891 non-null    float64\n",
      " 10  Cabin        204 non-null    object \n",
      " 11  Embarked     889 non-null    object \n",
      "dtypes: float64(2), int64(5), object(5)\n",
      "memory usage: 83.7+ KB\n"
     ]
    }
   ],
   "source": [
    "train.info()"
   ]
  },
  {
   "cell_type": "code",
   "execution_count": 7,
   "metadata": {},
   "outputs": [],
   "source": [
    "train.drop(\"PassengerId\", axis = 1, inplace = True)"
   ]
  },
  {
   "cell_type": "code",
   "execution_count": 8,
   "metadata": {
    "scrolled": true
   },
   "outputs": [
    {
     "data": {
      "text/html": [
       "<div>\n",
       "<style scoped>\n",
       "    .dataframe tbody tr th:only-of-type {\n",
       "        vertical-align: middle;\n",
       "    }\n",
       "\n",
       "    .dataframe tbody tr th {\n",
       "        vertical-align: top;\n",
       "    }\n",
       "\n",
       "    .dataframe thead th {\n",
       "        text-align: right;\n",
       "    }\n",
       "</style>\n",
       "<table border=\"1\" class=\"dataframe\">\n",
       "  <thead>\n",
       "    <tr style=\"text-align: right;\">\n",
       "      <th></th>\n",
       "      <th>Survived</th>\n",
       "      <th>Pclass</th>\n",
       "      <th>Name</th>\n",
       "      <th>Sex</th>\n",
       "      <th>Age</th>\n",
       "      <th>SibSp</th>\n",
       "      <th>Parch</th>\n",
       "      <th>Ticket</th>\n",
       "      <th>Fare</th>\n",
       "      <th>Cabin</th>\n",
       "      <th>Embarked</th>\n",
       "    </tr>\n",
       "  </thead>\n",
       "  <tbody>\n",
       "    <tr>\n",
       "      <th>0</th>\n",
       "      <td>0</td>\n",
       "      <td>3</td>\n",
       "      <td>Braund, Mr. Owen Harris</td>\n",
       "      <td>male</td>\n",
       "      <td>22.0</td>\n",
       "      <td>1</td>\n",
       "      <td>0</td>\n",
       "      <td>A/5 21171</td>\n",
       "      <td>7.2500</td>\n",
       "      <td>NaN</td>\n",
       "      <td>S</td>\n",
       "    </tr>\n",
       "    <tr>\n",
       "      <th>1</th>\n",
       "      <td>1</td>\n",
       "      <td>1</td>\n",
       "      <td>Cumings, Mrs. John Bradley (Florence Briggs Th...</td>\n",
       "      <td>female</td>\n",
       "      <td>38.0</td>\n",
       "      <td>1</td>\n",
       "      <td>0</td>\n",
       "      <td>PC 17599</td>\n",
       "      <td>71.2833</td>\n",
       "      <td>C85</td>\n",
       "      <td>C</td>\n",
       "    </tr>\n",
       "    <tr>\n",
       "      <th>2</th>\n",
       "      <td>1</td>\n",
       "      <td>3</td>\n",
       "      <td>Heikkinen, Miss. Laina</td>\n",
       "      <td>female</td>\n",
       "      <td>26.0</td>\n",
       "      <td>0</td>\n",
       "      <td>0</td>\n",
       "      <td>STON/O2. 3101282</td>\n",
       "      <td>7.9250</td>\n",
       "      <td>NaN</td>\n",
       "      <td>S</td>\n",
       "    </tr>\n",
       "    <tr>\n",
       "      <th>3</th>\n",
       "      <td>1</td>\n",
       "      <td>1</td>\n",
       "      <td>Futrelle, Mrs. Jacques Heath (Lily May Peel)</td>\n",
       "      <td>female</td>\n",
       "      <td>35.0</td>\n",
       "      <td>1</td>\n",
       "      <td>0</td>\n",
       "      <td>113803</td>\n",
       "      <td>53.1000</td>\n",
       "      <td>C123</td>\n",
       "      <td>S</td>\n",
       "    </tr>\n",
       "    <tr>\n",
       "      <th>4</th>\n",
       "      <td>0</td>\n",
       "      <td>3</td>\n",
       "      <td>Allen, Mr. William Henry</td>\n",
       "      <td>male</td>\n",
       "      <td>35.0</td>\n",
       "      <td>0</td>\n",
       "      <td>0</td>\n",
       "      <td>373450</td>\n",
       "      <td>8.0500</td>\n",
       "      <td>NaN</td>\n",
       "      <td>S</td>\n",
       "    </tr>\n",
       "  </tbody>\n",
       "</table>\n",
       "</div>"
      ],
      "text/plain": [
       "   Survived  Pclass                                               Name  \\\n",
       "0         0       3                            Braund, Mr. Owen Harris   \n",
       "1         1       1  Cumings, Mrs. John Bradley (Florence Briggs Th...   \n",
       "2         1       3                             Heikkinen, Miss. Laina   \n",
       "3         1       1       Futrelle, Mrs. Jacques Heath (Lily May Peel)   \n",
       "4         0       3                           Allen, Mr. William Henry   \n",
       "\n",
       "      Sex   Age  SibSp  Parch            Ticket     Fare Cabin Embarked  \n",
       "0    male  22.0      1      0         A/5 21171   7.2500   NaN        S  \n",
       "1  female  38.0      1      0          PC 17599  71.2833   C85        C  \n",
       "2  female  26.0      0      0  STON/O2. 3101282   7.9250   NaN        S  \n",
       "3  female  35.0      1      0            113803  53.1000  C123        S  \n",
       "4    male  35.0      0      0            373450   8.0500   NaN        S  "
      ]
     },
     "execution_count": 8,
     "metadata": {},
     "output_type": "execute_result"
    }
   ],
   "source": [
    "train.head()"
   ]
  },
  {
   "cell_type": "code",
   "execution_count": 9,
   "metadata": {},
   "outputs": [
    {
     "data": {
      "text/plain": [
       "(891, 11)"
      ]
     },
     "execution_count": 9,
     "metadata": {},
     "output_type": "execute_result"
    }
   ],
   "source": [
    "train.shape"
   ]
  },
  {
   "cell_type": "code",
   "execution_count": 10,
   "metadata": {
    "scrolled": true
   },
   "outputs": [
    {
     "data": {
      "text/html": [
       "<div>\n",
       "<style scoped>\n",
       "    .dataframe tbody tr th:only-of-type {\n",
       "        vertical-align: middle;\n",
       "    }\n",
       "\n",
       "    .dataframe tbody tr th {\n",
       "        vertical-align: top;\n",
       "    }\n",
       "\n",
       "    .dataframe thead th {\n",
       "        text-align: right;\n",
       "    }\n",
       "</style>\n",
       "<table border=\"1\" class=\"dataframe\">\n",
       "  <thead>\n",
       "    <tr style=\"text-align: right;\">\n",
       "      <th></th>\n",
       "      <th>Survived</th>\n",
       "      <th>Pclass</th>\n",
       "      <th>Age</th>\n",
       "      <th>SibSp</th>\n",
       "      <th>Parch</th>\n",
       "      <th>Fare</th>\n",
       "    </tr>\n",
       "  </thead>\n",
       "  <tbody>\n",
       "    <tr>\n",
       "      <th>count</th>\n",
       "      <td>891.000000</td>\n",
       "      <td>891.000000</td>\n",
       "      <td>714.000000</td>\n",
       "      <td>891.000000</td>\n",
       "      <td>891.000000</td>\n",
       "      <td>891.000000</td>\n",
       "    </tr>\n",
       "    <tr>\n",
       "      <th>mean</th>\n",
       "      <td>0.383838</td>\n",
       "      <td>2.308642</td>\n",
       "      <td>29.699118</td>\n",
       "      <td>0.523008</td>\n",
       "      <td>0.381594</td>\n",
       "      <td>32.204208</td>\n",
       "    </tr>\n",
       "    <tr>\n",
       "      <th>std</th>\n",
       "      <td>0.486592</td>\n",
       "      <td>0.836071</td>\n",
       "      <td>14.526497</td>\n",
       "      <td>1.102743</td>\n",
       "      <td>0.806057</td>\n",
       "      <td>49.693429</td>\n",
       "    </tr>\n",
       "    <tr>\n",
       "      <th>min</th>\n",
       "      <td>0.000000</td>\n",
       "      <td>1.000000</td>\n",
       "      <td>0.420000</td>\n",
       "      <td>0.000000</td>\n",
       "      <td>0.000000</td>\n",
       "      <td>0.000000</td>\n",
       "    </tr>\n",
       "    <tr>\n",
       "      <th>25%</th>\n",
       "      <td>0.000000</td>\n",
       "      <td>2.000000</td>\n",
       "      <td>20.125000</td>\n",
       "      <td>0.000000</td>\n",
       "      <td>0.000000</td>\n",
       "      <td>7.910400</td>\n",
       "    </tr>\n",
       "    <tr>\n",
       "      <th>50%</th>\n",
       "      <td>0.000000</td>\n",
       "      <td>3.000000</td>\n",
       "      <td>28.000000</td>\n",
       "      <td>0.000000</td>\n",
       "      <td>0.000000</td>\n",
       "      <td>14.454200</td>\n",
       "    </tr>\n",
       "    <tr>\n",
       "      <th>75%</th>\n",
       "      <td>1.000000</td>\n",
       "      <td>3.000000</td>\n",
       "      <td>38.000000</td>\n",
       "      <td>1.000000</td>\n",
       "      <td>0.000000</td>\n",
       "      <td>31.000000</td>\n",
       "    </tr>\n",
       "    <tr>\n",
       "      <th>max</th>\n",
       "      <td>1.000000</td>\n",
       "      <td>3.000000</td>\n",
       "      <td>80.000000</td>\n",
       "      <td>8.000000</td>\n",
       "      <td>6.000000</td>\n",
       "      <td>512.329200</td>\n",
       "    </tr>\n",
       "  </tbody>\n",
       "</table>\n",
       "</div>"
      ],
      "text/plain": [
       "         Survived      Pclass         Age       SibSp       Parch        Fare\n",
       "count  891.000000  891.000000  714.000000  891.000000  891.000000  891.000000\n",
       "mean     0.383838    2.308642   29.699118    0.523008    0.381594   32.204208\n",
       "std      0.486592    0.836071   14.526497    1.102743    0.806057   49.693429\n",
       "min      0.000000    1.000000    0.420000    0.000000    0.000000    0.000000\n",
       "25%      0.000000    2.000000   20.125000    0.000000    0.000000    7.910400\n",
       "50%      0.000000    3.000000   28.000000    0.000000    0.000000   14.454200\n",
       "75%      1.000000    3.000000   38.000000    1.000000    0.000000   31.000000\n",
       "max      1.000000    3.000000   80.000000    8.000000    6.000000  512.329200"
      ]
     },
     "execution_count": 10,
     "metadata": {},
     "output_type": "execute_result"
    }
   ],
   "source": [
    "# 수치형 데이터 확인 ( 기술통계량값 출력으로 )\n",
    "\n",
    "train.describe()"
   ]
  },
  {
   "cell_type": "code",
   "execution_count": 11,
   "metadata": {
    "scrolled": true
   },
   "outputs": [
    {
     "data": {
      "text/html": [
       "<div>\n",
       "<style scoped>\n",
       "    .dataframe tbody tr th:only-of-type {\n",
       "        vertical-align: middle;\n",
       "    }\n",
       "\n",
       "    .dataframe tbody tr th {\n",
       "        vertical-align: top;\n",
       "    }\n",
       "\n",
       "    .dataframe thead th {\n",
       "        text-align: right;\n",
       "    }\n",
       "</style>\n",
       "<table border=\"1\" class=\"dataframe\">\n",
       "  <thead>\n",
       "    <tr style=\"text-align: right;\">\n",
       "      <th></th>\n",
       "      <th>Name</th>\n",
       "      <th>Sex</th>\n",
       "      <th>Ticket</th>\n",
       "      <th>Cabin</th>\n",
       "      <th>Embarked</th>\n",
       "    </tr>\n",
       "  </thead>\n",
       "  <tbody>\n",
       "    <tr>\n",
       "      <th>count</th>\n",
       "      <td>891</td>\n",
       "      <td>891</td>\n",
       "      <td>891</td>\n",
       "      <td>204</td>\n",
       "      <td>889</td>\n",
       "    </tr>\n",
       "    <tr>\n",
       "      <th>unique</th>\n",
       "      <td>891</td>\n",
       "      <td>2</td>\n",
       "      <td>681</td>\n",
       "      <td>147</td>\n",
       "      <td>3</td>\n",
       "    </tr>\n",
       "    <tr>\n",
       "      <th>top</th>\n",
       "      <td>Taussig, Mrs. Emil (Tillie Mandelbaum)</td>\n",
       "      <td>male</td>\n",
       "      <td>CA. 2343</td>\n",
       "      <td>C23 C25 C27</td>\n",
       "      <td>S</td>\n",
       "    </tr>\n",
       "    <tr>\n",
       "      <th>freq</th>\n",
       "      <td>1</td>\n",
       "      <td>577</td>\n",
       "      <td>7</td>\n",
       "      <td>4</td>\n",
       "      <td>644</td>\n",
       "    </tr>\n",
       "  </tbody>\n",
       "</table>\n",
       "</div>"
      ],
      "text/plain": [
       "                                          Name   Sex    Ticket        Cabin  \\\n",
       "count                                      891   891       891          204   \n",
       "unique                                     891     2       681          147   \n",
       "top     Taussig, Mrs. Emil (Tillie Mandelbaum)  male  CA. 2343  C23 C25 C27   \n",
       "freq                                         1   577         7            4   \n",
       "\n",
       "       Embarked  \n",
       "count       889  \n",
       "unique        3  \n",
       "top           S  \n",
       "freq        644  "
      ]
     },
     "execution_count": 11,
     "metadata": {},
     "output_type": "execute_result"
    }
   ],
   "source": [
    "# 범주형 데이터 확인 \n",
    "\n",
    "train.describe(include=['O'])"
   ]
  },
  {
   "cell_type": "markdown",
   "metadata": {},
   "source": [
    "# 2. 데이터 전환"
   ]
  },
  {
   "cell_type": "markdown",
   "metadata": {},
   "source": [
    "## 2-1. 결측치 확인"
   ]
  },
  {
   "cell_type": "code",
   "execution_count": 12,
   "metadata": {},
   "outputs": [
    {
     "data": {
      "text/html": [
       "<div>\n",
       "<style scoped>\n",
       "    .dataframe tbody tr th:only-of-type {\n",
       "        vertical-align: middle;\n",
       "    }\n",
       "\n",
       "    .dataframe tbody tr th {\n",
       "        vertical-align: top;\n",
       "    }\n",
       "\n",
       "    .dataframe thead th {\n",
       "        text-align: right;\n",
       "    }\n",
       "</style>\n",
       "<table border=\"1\" class=\"dataframe\">\n",
       "  <thead>\n",
       "    <tr style=\"text-align: right;\">\n",
       "      <th></th>\n",
       "      <th>Missing Value Ratio</th>\n",
       "    </tr>\n",
       "  </thead>\n",
       "  <tbody>\n",
       "    <tr>\n",
       "      <th>Cabin</th>\n",
       "      <td>77.104377</td>\n",
       "    </tr>\n",
       "    <tr>\n",
       "      <th>Age</th>\n",
       "      <td>19.865320</td>\n",
       "    </tr>\n",
       "    <tr>\n",
       "      <th>Embarked</th>\n",
       "      <td>0.224467</td>\n",
       "    </tr>\n",
       "  </tbody>\n",
       "</table>\n",
       "</div>"
      ],
      "text/plain": [
       "          Missing Value Ratio\n",
       "Cabin               77.104377\n",
       "Age                 19.865320\n",
       "Embarked             0.224467"
      ]
     },
     "execution_count": 12,
     "metadata": {},
     "output_type": "execute_result"
    }
   ],
   "source": [
    "train_na = (train.isnull().sum() / len(train)) * 100\n",
    "train_na = train_na.drop(train_na[train_na == 0].index).sort_values(ascending=False)[:30]\n",
    "missing_data = pd.DataFrame({'Missing Value Ratio' :train_na})\n",
    "missing_data.head(20)"
   ]
  },
  {
   "cell_type": "code",
   "execution_count": 13,
   "metadata": {
    "scrolled": false
   },
   "outputs": [
    {
     "data": {
      "text/plain": [
       "Text(0.5, 1.0, 'Ratio of missing values')"
      ]
     },
     "execution_count": 13,
     "metadata": {},
     "output_type": "execute_result"
    },
    {
     "data": {
      "image/png": "[encoded data removed]",
      "text/plain": [
       "<Figure size 576x288 with 1 Axes>"
      ]
     },
     "metadata": {
      "needs_background": "light"
     },
     "output_type": "display_data"
    }
   ],
   "source": [
    "f, ax = plt.subplots(figsize=(8, 4))\n",
    "plt.xticks(rotation='90')\n",
    "sns.barplot(x=train_na.index, y=train_na)\n",
    "plt.xlabel('Columns', fontsize=15)\n",
    "plt.ylabel('Percent of missing values', fontsize=15)\n",
    "plt.title('Ratio of missing values', fontsize=15)"
   ]
  },
  {
   "cell_type": "code",
   "execution_count": 14,
   "metadata": {
    "scrolled": true
   },
   "outputs": [
    {
     "data": {
      "text/plain": [
       "Survived      0\n",
       "Pclass        0\n",
       "Name          0\n",
       "Sex           0\n",
       "Age         177\n",
       "SibSp         0\n",
       "Parch         0\n",
       "Ticket        0\n",
       "Fare          0\n",
       "Cabin       687\n",
       "Embarked      2\n",
       "dtype: int64"
      ]
     },
     "execution_count": 14,
     "metadata": {},
     "output_type": "execute_result"
    }
   ],
   "source": [
    "train.isna().sum()"
   ]
  },
  {
   "cell_type": "code",
   "execution_count": 15,
   "metadata": {},
   "outputs": [
    {
     "data": {
      "text/plain": [
       "S    644\n",
       "C    168\n",
       "Q     77\n",
       "Name: Embarked, dtype: int64"
      ]
     },
     "execution_count": 15,
     "metadata": {},
     "output_type": "execute_result"
    }
   ],
   "source": [
    "# 1. Embarked 결측치 전처리\n",
    "\n",
    "train[\"Embarked\"].value_counts()"
   ]
  },
  {
   "cell_type": "code",
   "execution_count": 16,
   "metadata": {},
   "outputs": [],
   "source": [
    "# 결측치가 2개, 빈도수 가장 많은 S로 대체\n",
    "\n",
    "train[\"Embarked\"] = train[\"Embarked\"].fillna(\"S\")"
   ]
  },
  {
   "cell_type": "code",
   "execution_count": 17,
   "metadata": {},
   "outputs": [
    {
     "data": {
      "text/plain": [
       "S    646\n",
       "C    168\n",
       "Q     77\n",
       "Name: Embarked, dtype: int64"
      ]
     },
     "execution_count": 17,
     "metadata": {},
     "output_type": "execute_result"
    }
   ],
   "source": [
    "train[\"Embarked\"].value_counts()"
   ]
  },
  {
   "cell_type": "code",
   "execution_count": 18,
   "metadata": {
    "scrolled": false
   },
   "outputs": [
    {
     "data": {
      "text/plain": [
       "24.00    30\n",
       "22.00    27\n",
       "18.00    26\n",
       "19.00    25\n",
       "30.00    25\n",
       "         ..\n",
       "55.50     1\n",
       "70.50     1\n",
       "66.00     1\n",
       "23.50     1\n",
       "0.42      1\n",
       "Name: Age, Length: 88, dtype: int64"
      ]
     },
     "execution_count": 18,
     "metadata": {},
     "output_type": "execute_result"
    }
   ],
   "source": [
    "# 2. Age 결측치 전처리\n",
    "\n",
    "train[\"Age\"].value_counts()"
   ]
  },
  {
   "cell_type": "code",
   "execution_count": 19,
   "metadata": {},
   "outputs": [
    {
     "name": "stdout",
     "output_type": "stream",
     "text": [
      "[22 39 35 32 39 37 25 30 23 21 17 16 32 15 17 24 24 35 19 15 19 32 26 33\n",
      " 32 32 30 36 15 33 25 16 40 39 15 25 30 38 16 42 35 32 24 31 32 30 18 31\n",
      " 36 37 16 25 38 39 36 15 28 43 18 26 34 32 18 22 36 25 34 43 18 38 34 18\n",
      " 24 28 36 26 35 16 33 28 28 32 34 21 25 41 27 39 24 16 15 18 41 32 32 43\n",
      " 31 21 41 16 25 39 24 39 31 39 41 32 21 25 28 21 27 29 37 28 28 37 28 24\n",
      " 17 20 31 34 17 21 22 31 19 42 27 31 39 38 15 40 24 37 27 28 42 30 28 22\n",
      " 34 25 41 37 34 27 29 21 25 26 34 37 33 33 42 39 31 26 34 25 19 32 34 26\n",
      " 29 30 23 36 43 21 15 21 42]\n"
     ]
    }
   ],
   "source": [
    "import numpy as np\n",
    "\n",
    "mean = train['Age'].mean()        # age 의 mean 값을 구함\n",
    "std =  train['Age'].std()        # age 의 std 값을 구함\n",
    "size = train['Age'].isna().sum()        # age 에 nan 값이 몇개인지를 구함 \n",
    "\n",
    "\n",
    "rand_age = np.random.randint(mean-std, mean+std, size)    # mean 에서 std 만큼 떨어져 있는 랜덤한 값들을 size 만큼 반환\n",
    "\n",
    "print(rand_age)"
   ]
  },
  {
   "cell_type": "code",
   "execution_count": 20,
   "metadata": {},
   "outputs": [
    {
     "name": "stderr",
     "output_type": "stream",
     "text": [
      "C:\\ProgramData\\Anaconda3\\lib\\site-packages\\pandas\\core\\indexing.py:671: SettingWithCopyWarning: \n",
      "A value is trying to be set on a copy of a slice from a DataFrame\n",
      "\n",
      "See the caveats in the documentation: https://pandas.pydata.org/pandas-docs/stable/user_guide/indexing.html#returning-a-view-versus-a-copy\n",
      "  self._setitem_with_indexer(indexer, value)\n"
     ]
    }
   ],
   "source": [
    "# 기존 'Age'열 중 비어있는 값에 난수생성으로 만든 rand_age를 차례로 넣기\n",
    "\n",
    "train['Age'].loc[train['Age'].isna()] = rand_age"
   ]
  },
  {
   "cell_type": "code",
   "execution_count": 21,
   "metadata": {
    "scrolled": false
   },
   "outputs": [
    {
     "data": {
      "text/plain": [
       "24.00    38\n",
       "28.00    35\n",
       "25.00    34\n",
       "21.00    33\n",
       "18.00    32\n",
       "         ..\n",
       "36.50     1\n",
       "70.50     1\n",
       "55.50     1\n",
       "23.50     1\n",
       "0.42      1\n",
       "Name: Age, Length: 88, dtype: int64"
      ]
     },
     "execution_count": 21,
     "metadata": {},
     "output_type": "execute_result"
    }
   ],
   "source": [
    "train[\"Age\"].value_counts()"
   ]
  },
  {
   "cell_type": "code",
   "execution_count": 22,
   "metadata": {
    "scrolled": true
   },
   "outputs": [
    {
     "data": {
      "text/plain": [
       "C23 C25 C27    4\n",
       "G6             4\n",
       "B96 B98        4\n",
       "D              3\n",
       "F33            3\n",
       "              ..\n",
       "F G63          1\n",
       "E49            1\n",
       "C111           1\n",
       "A26            1\n",
       "E46            1\n",
       "Name: Cabin, Length: 147, dtype: int64"
      ]
     },
     "execution_count": 22,
     "metadata": {},
     "output_type": "execute_result"
    }
   ],
   "source": [
    "# 3. Cabin 결측치 전처리\n",
    "\n",
    "train[\"Cabin\"].value_counts()"
   ]
  },
  {
   "cell_type": "code",
   "execution_count": 23,
   "metadata": {},
   "outputs": [],
   "source": [
    "train.drop('Cabin', axis = 1, inplace = True)"
   ]
  },
  {
   "cell_type": "code",
   "execution_count": 24,
   "metadata": {
    "scrolled": true
   },
   "outputs": [
    {
     "data": {
      "text/plain": [
       "Survived    0\n",
       "Pclass      0\n",
       "Name        0\n",
       "Sex         0\n",
       "Age         0\n",
       "SibSp       0\n",
       "Parch       0\n",
       "Ticket      0\n",
       "Fare        0\n",
       "Embarked    0\n",
       "dtype: int64"
      ]
     },
     "execution_count": 24,
     "metadata": {},
     "output_type": "execute_result"
    }
   ],
   "source": [
    "# 모든 결측치 제거\n",
    "\n",
    "train.isna().sum()"
   ]
  },
  {
   "cell_type": "markdown",
   "metadata": {},
   "source": [
    "## 2-2. 새로운 변수 추가.\n",
    "\n",
    "- 나이가 30세 미만인 사람은 0\n",
    "- 30세 이상, 50세 미만인 사람은 1 \n",
    "- 50세 이상인 사람은 2의 값을 갖는 열 Age_ind 추가"
   ]
  },
  {
   "cell_type": "code",
   "execution_count": 25,
   "metadata": {},
   "outputs": [],
   "source": [
    "train['Age_ind'] = train['Age']\n",
    "train.loc[train['Age_ind'] < 11, 'Age_ind'] = 0\n",
    "train.loc[(train['Age_ind'] >= 11) & (train['Age_ind'] <= 18), 'Age_ind'] = 1\n",
    "train.loc[(train['Age_ind'] > 18) & (train['Age_ind'] <= 22), 'Age_ind'] = 2\n",
    "train.loc[(train['Age_ind'] > 22) & (train['Age_ind'] <= 27), 'Age_ind'] = 3\n",
    "train.loc[(train['Age_ind'] > 27) & (train['Age_ind'] <= 33), 'Age_ind'] = 4\n",
    "train.loc[(train['Age_ind'] > 33) & (train['Age_ind'] <= 40), 'Age_ind'] = 5\n",
    "train.loc[(train['Age_ind'] > 40) & (train['Age_ind'] <= 66), 'Age_ind'] = 6\n",
    "train.loc[(train['Age_ind'] > 66) , 'Age_ind'] = 7\n",
    "train['Age_ind'] = train['Age_ind'].astype(int)"
   ]
  },
  {
   "cell_type": "code",
   "execution_count": 26,
   "metadata": {},
   "outputs": [],
   "source": [
    "train['FamilySize'] = train['SibSp'] + train['Parch']\n",
    "train['FamilySize_ind'] = train['FamilySize']\n",
    "train.loc[train['FamilySize_ind'] == 0, 'FamilySize_ind'] = 0\n",
    "train.loc[(train['FamilySize_ind'] == 1) | (train['FamilySize_ind'] == 2), 'FamilySize_ind'] = 1\n",
    "train.loc[(train['FamilySize_ind'] == 3), 'FamilySize_ind'] = 2\n",
    "train.loc[(train['FamilySize_ind'] == 4) | (train['FamilySize_ind'] == 5), 'FamilySize_ind'] = 3\n",
    "train.loc[(train['FamilySize_ind'] == 6), 'FamilySize_ind'] = 4\n",
    "train.loc[(train['FamilySize_ind'] == 7) | (train['FamilySize_ind'] == 10), 'FamilySize_ind'] = 5\n",
    "train['FamilySize_ind'] = train['FamilySize_ind'].astype(int)"
   ]
  },
  {
   "cell_type": "markdown",
   "metadata": {},
   "source": [
    "## 3. 변수별 시각화"
   ]
  },
  {
   "cell_type": "code",
   "execution_count": 27,
   "metadata": {},
   "outputs": [
    {
     "data": {
      "text/plain": [
       "<matplotlib.axes._subplots.AxesSubplot at 0x1ce7eff7108>"
      ]
     },
     "execution_count": 27,
     "metadata": {},
     "output_type": "execute_result"
    },
    {
     "data": {
      "image/png": "[encoded data removed]",
      "text/plain": [
       "<Figure size 432x288 with 1 Axes>"
      ]
     },
     "metadata": {
      "needs_background": "light"
     },
     "output_type": "display_data"
    }
   ],
   "source": [
    "# 각 클래스별 승객의 수\n",
    "\n",
    "sns.countplot(x = 'Pclass', data = train)"
   ]
  },
  {
   "cell_type": "code",
   "execution_count": 28,
   "metadata": {},
   "outputs": [
    {
     "data": {
      "text/plain": [
       "<matplotlib.axes._subplots.AxesSubplot at 0x1ce7f194388>"
      ]
     },
     "execution_count": 28,
     "metadata": {},
     "output_type": "execute_result"
    },
    {
     "data": {
      "image/png": "[encoded data removed]",
      "text/plain": [
       "<Figure size 432x288 with 1 Axes>"
      ]
     },
     "metadata": {
      "needs_background": "light"
     },
     "output_type": "display_data"
    }
   ],
   "source": [
    "# 클래스별 승객나이 분포\n",
    "\n",
    "sns.countplot(data=train, x='Pclass', hue='Age_ind')"
   ]
  },
  {
   "cell_type": "code",
   "execution_count": 29,
   "metadata": {},
   "outputs": [
    {
     "data": {
      "text/plain": [
       "<matplotlib.axes._subplots.AxesSubplot at 0x1ce7f27f408>"
      ]
     },
     "execution_count": 29,
     "metadata": {},
     "output_type": "execute_result"
    },
    {
     "data": {
      "image/png": "[encoded data removed]",
      "text/plain": [
       "<Figure size 432x288 with 1 Axes>"
      ]
     },
     "metadata": {
      "needs_background": "light"
     },
     "output_type": "display_data"
    }
   ],
   "source": [
    "sns.countplot(x ='Survived',hue = 'Sex', data = train)\n",
    "\n",
    "# 여성 생존율이 더 높음."
   ]
  },
  {
   "cell_type": "code",
   "execution_count": 30,
   "metadata": {},
   "outputs": [
    {
     "data": {
      "text/plain": [
       "<matplotlib.axes._subplots.AxesSubplot at 0x1ce7f2e8e88>"
      ]
     },
     "execution_count": 30,
     "metadata": {},
     "output_type": "execute_result"
    },
    {
     "data": {
      "image/png": "[encoded data removed]",
      "text/plain": [
       "<Figure size 432x288 with 1 Axes>"
      ]
     },
     "metadata": {
      "needs_background": "light"
     },
     "output_type": "display_data"
    }
   ],
   "source": [
    "sns.distplot(train.Age.loc[train['Survived'] == 0], kde = False)\n",
    "sns.distplot(train.Age.loc[train['Survived'] == 1], kde = False)\n",
    "\n",
    "# 빨간색이 생존자\n",
    "\n",
    "# 연령대가 낮은 10대 초반의 생존율이 더 낮은 것을 확인, 80세 이상의 노인도 생존율이 높은 것을 확인."
   ]
  },
  {
   "cell_type": "code",
   "execution_count": 31,
   "metadata": {},
   "outputs": [
    {
     "data": {
      "text/plain": [
       "<matplotlib.axes._subplots.AxesSubplot at 0x1ce7f3b9448>"
      ]
     },
     "execution_count": 31,
     "metadata": {},
     "output_type": "execute_result"
    },
    {
     "data": {
      "image/png": "[encoded data removed]",
      "text/plain": [
       "<Figure size 432x288 with 1 Axes>"
      ]
     },
     "metadata": {
      "needs_background": "light"
     },
     "output_type": "display_data"
    }
   ],
   "source": [
    "sns.countplot(x = train.Survived, hue = train.Pclass, data = train)    # sns(우선되는 기준 열, hue = 비교하려는 열) \n",
    "\n",
    "# Pclass3 에서 사망율이 가장 높음."
   ]
  },
  {
   "cell_type": "code",
   "execution_count": 32,
   "metadata": {},
   "outputs": [
    {
     "data": {
      "text/plain": [
       "<seaborn.axisgrid.FacetGrid at 0x1ce7f3a94c8>"
      ]
     },
     "execution_count": 32,
     "metadata": {},
     "output_type": "execute_result"
    },
    {
     "data": {
      "image/png": "[encoded data removed]",
      "text/plain": [
       "<Figure size 432x648 with 6 Axes>"
      ]
     },
     "metadata": {
      "needs_background": "light"
     },
     "output_type": "display_data"
    }
   ],
   "source": [
    "# Pclass와 생존여부, 연령과의 관계\n",
    "\n",
    "grid = sns.FacetGrid(train, col= 'Survived', row = 'Pclass')\n",
    "grid.map(sns.distplot, 'Age', kde = False)\n",
    "\n",
    "# Pclass가 1등급일수록 생존율이 높고, Pclass3의 저연령대의 사망률이 가장 높음."
   ]
  },
  {
   "cell_type": "code",
   "execution_count": 33,
   "metadata": {},
   "outputs": [
    {
     "name": "stderr",
     "output_type": "stream",
     "text": [
      "C:\\ProgramData\\Anaconda3\\lib\\site-packages\\seaborn\\axisgrid.py:723: UserWarning: Using the countplot function without specifying `order` is likely to produce an incorrect plot.\n",
      "  warnings.warn(warning)\n"
     ]
    },
    {
     "data": {
      "text/plain": [
       "<seaborn.axisgrid.FacetGrid at 0x1ce7f82ef08>"
      ]
     },
     "execution_count": 33,
     "metadata": {},
     "output_type": "execute_result"
    },
    {
     "data": {
      "image/png": "[encoded data removed]",
      "text/plain": [
       "<Figure size 432x648 with 6 Axes>"
      ]
     },
     "metadata": {
      "needs_background": "light"
     },
     "output_type": "display_data"
    }
   ],
   "source": [
    "# Pclass와 생존여부. 성별간의 관계\n",
    "\n",
    "grid = sns.FacetGrid(train, col= 'Survived', row = 'Pclass')\n",
    "grid.map(sns.countplot, 'Sex')\n",
    "\n",
    "# 모든 Pclass에 여성 생존자의 생존율이 높고, Pclass3의 사망률이 가장 높음."
   ]
  },
  {
   "cell_type": "code",
   "execution_count": 34,
   "metadata": {},
   "outputs": [],
   "source": [
    "train['FamilySize'] = train['SibSp'] + train['Parch']"
   ]
  },
  {
   "cell_type": "code",
   "execution_count": 35,
   "metadata": {
    "scrolled": true
   },
   "outputs": [
    {
     "data": {
      "text/plain": [
       "<matplotlib.axes._subplots.AxesSubplot at 0x1ce7fcb2688>"
      ]
     },
     "execution_count": 35,
     "metadata": {},
     "output_type": "execute_result"
    },
    {
     "data": {
      "image/png": "[encoded data removed]",
      "text/plain": [
       "<Figure size 432x288 with 1 Axes>"
      ]
     },
     "metadata": {
      "needs_background": "light"
     },
     "output_type": "display_data"
    }
   ],
   "source": [
    "# 가족수가 1~3명 이상이면 생존율이 높음.\n",
    "\n",
    "sns.countplot('FamilySize', hue = 'Survived', data = train)"
   ]
  },
  {
   "cell_type": "code",
   "execution_count": 36,
   "metadata": {},
   "outputs": [
    {
     "data": {
      "text/html": [
       "<div>\n",
       "<style scoped>\n",
       "    .dataframe tbody tr th:only-of-type {\n",
       "        vertical-align: middle;\n",
       "    }\n",
       "\n",
       "    .dataframe tbody tr th {\n",
       "        vertical-align: top;\n",
       "    }\n",
       "\n",
       "    .dataframe thead th {\n",
       "        text-align: right;\n",
       "    }\n",
       "</style>\n",
       "<table border=\"1\" class=\"dataframe\">\n",
       "  <thead>\n",
       "    <tr style=\"text-align: right;\">\n",
       "      <th></th>\n",
       "      <th>Survived</th>\n",
       "      <th>Pclass</th>\n",
       "      <th>Name</th>\n",
       "      <th>Sex</th>\n",
       "      <th>Age</th>\n",
       "      <th>SibSp</th>\n",
       "      <th>Parch</th>\n",
       "      <th>Ticket</th>\n",
       "      <th>Fare</th>\n",
       "      <th>Embarked</th>\n",
       "      <th>Age_ind</th>\n",
       "      <th>FamilySize</th>\n",
       "      <th>FamilySize_ind</th>\n",
       "    </tr>\n",
       "  </thead>\n",
       "  <tbody>\n",
       "    <tr>\n",
       "      <th>0</th>\n",
       "      <td>0</td>\n",
       "      <td>3</td>\n",
       "      <td>Braund, Mr. Owen Harris</td>\n",
       "      <td>male</td>\n",
       "      <td>22.0</td>\n",
       "      <td>1</td>\n",
       "      <td>0</td>\n",
       "      <td>A/5 21171</td>\n",
       "      <td>7.2500</td>\n",
       "      <td>S</td>\n",
       "      <td>2</td>\n",
       "      <td>1</td>\n",
       "      <td>1</td>\n",
       "    </tr>\n",
       "    <tr>\n",
       "      <th>1</th>\n",
       "      <td>1</td>\n",
       "      <td>1</td>\n",
       "      <td>Cumings, Mrs. John Bradley (Florence Briggs Th...</td>\n",
       "      <td>female</td>\n",
       "      <td>38.0</td>\n",
       "      <td>1</td>\n",
       "      <td>0</td>\n",
       "      <td>PC 17599</td>\n",
       "      <td>71.2833</td>\n",
       "      <td>C</td>\n",
       "      <td>5</td>\n",
       "      <td>1</td>\n",
       "      <td>1</td>\n",
       "    </tr>\n",
       "    <tr>\n",
       "      <th>2</th>\n",
       "      <td>1</td>\n",
       "      <td>3</td>\n",
       "      <td>Heikkinen, Miss. Laina</td>\n",
       "      <td>female</td>\n",
       "      <td>26.0</td>\n",
       "      <td>0</td>\n",
       "      <td>0</td>\n",
       "      <td>STON/O2. 3101282</td>\n",
       "      <td>7.9250</td>\n",
       "      <td>S</td>\n",
       "      <td>3</td>\n",
       "      <td>0</td>\n",
       "      <td>0</td>\n",
       "    </tr>\n",
       "    <tr>\n",
       "      <th>3</th>\n",
       "      <td>1</td>\n",
       "      <td>1</td>\n",
       "      <td>Futrelle, Mrs. Jacques Heath (Lily May Peel)</td>\n",
       "      <td>female</td>\n",
       "      <td>35.0</td>\n",
       "      <td>1</td>\n",
       "      <td>0</td>\n",
       "      <td>113803</td>\n",
       "      <td>53.1000</td>\n",
       "      <td>S</td>\n",
       "      <td>5</td>\n",
       "      <td>1</td>\n",
       "      <td>1</td>\n",
       "    </tr>\n",
       "    <tr>\n",
       "      <th>4</th>\n",
       "      <td>0</td>\n",
       "      <td>3</td>\n",
       "      <td>Allen, Mr. William Henry</td>\n",
       "      <td>male</td>\n",
       "      <td>35.0</td>\n",
       "      <td>0</td>\n",
       "      <td>0</td>\n",
       "      <td>373450</td>\n",
       "      <td>8.0500</td>\n",
       "      <td>S</td>\n",
       "      <td>5</td>\n",
       "      <td>0</td>\n",
       "      <td>0</td>\n",
       "    </tr>\n",
       "  </tbody>\n",
       "</table>\n",
       "</div>"
      ],
      "text/plain": [
       "   Survived  Pclass                                               Name  \\\n",
       "0         0       3                            Braund, Mr. Owen Harris   \n",
       "1         1       1  Cumings, Mrs. John Bradley (Florence Briggs Th...   \n",
       "2         1       3                             Heikkinen, Miss. Laina   \n",
       "3         1       1       Futrelle, Mrs. Jacques Heath (Lily May Peel)   \n",
       "4         0       3                           Allen, Mr. William Henry   \n",
       "\n",
       "      Sex   Age  SibSp  Parch            Ticket     Fare Embarked  Age_ind  \\\n",
       "0    male  22.0      1      0         A/5 21171   7.2500        S        2   \n",
       "1  female  38.0      1      0          PC 17599  71.2833        C        5   \n",
       "2  female  26.0      0      0  STON/O2. 3101282   7.9250        S        3   \n",
       "3  female  35.0      1      0            113803  53.1000        S        5   \n",
       "4    male  35.0      0      0            373450   8.0500        S        5   \n",
       "\n",
       "   FamilySize  FamilySize_ind  \n",
       "0           1               1  \n",
       "1           1               1  \n",
       "2           0               0  \n",
       "3           1               1  \n",
       "4           0               0  "
      ]
     },
     "execution_count": 36,
     "metadata": {},
     "output_type": "execute_result"
    }
   ],
   "source": [
    "train.head()"
   ]
  },
  {
   "cell_type": "code",
   "execution_count": 37,
   "metadata": {},
   "outputs": [
    {
     "data": {
      "text/plain": [
       "<matplotlib.axes._subplots.AxesSubplot at 0x1ce7fe6b148>"
      ]
     },
     "execution_count": 37,
     "metadata": {},
     "output_type": "execute_result"
    },
    {
     "data": {
      "image/png": "[encoded data removed]",
      "text/plain": [
       "<Figure size 432x288 with 1 Axes>"
      ]
     },
     "metadata": {
      "needs_background": "light"
     },
     "output_type": "display_data"
    }
   ],
   "source": [
    "# 성별이 남자일 때의 연령분포\n",
    "\n",
    "sns.distplot(train['Age'].loc[train['Sex'] == 'male'])"
   ]
  },
  {
   "cell_type": "code",
   "execution_count": 38,
   "metadata": {
    "scrolled": true
   },
   "outputs": [
    {
     "data": {
      "text/plain": [
       "<matplotlib.axes._subplots.AxesSubplot at 0x1ce7ff182c8>"
      ]
     },
     "execution_count": 38,
     "metadata": {},
     "output_type": "execute_result"
    },
    {
     "data": {
      "image/png": "[encoded data removed]",
      "text/plain": [
       "<Figure size 432x288 with 1 Axes>"
      ]
     },
     "metadata": {
      "needs_background": "light"
     },
     "output_type": "display_data"
    }
   ],
   "source": [
    "# 성별이 여자일 때의 연령분포\n",
    "\n",
    "sns.distplot(train['Age'].loc[train['Sex'] == 'female'])"
   ]
  },
  {
   "cell_type": "code",
   "execution_count": 39,
   "metadata": {},
   "outputs": [
    {
     "data": {
      "text/plain": [
       "<matplotlib.axes._subplots.AxesSubplot at 0x1ce7ff86748>"
      ]
     },
     "execution_count": 39,
     "metadata": {},
     "output_type": "execute_result"
    },
    {
     "data": {
      "image/png": "[encoded data removed]",
      "text/plain": [
       "<Figure size 432x288 with 1 Axes>"
      ]
     },
     "metadata": {
      "needs_background": "light"
     },
     "output_type": "display_data"
    }
   ],
   "source": [
    "# 남녀 나이대별 분포 비교\n",
    "\n",
    "sns.distplot(train['Age'].loc[train['Sex'] == 'male'])\n",
    "sns.distplot(train['Age'].loc[train['Sex'] == 'female'])"
   ]
  },
  {
   "cell_type": "code",
   "execution_count": 40,
   "metadata": {},
   "outputs": [
    {
     "data": {
      "text/plain": [
       "<seaborn.axisgrid.FacetGrid at 0x1ce01068a48>"
      ]
     },
     "execution_count": 40,
     "metadata": {},
     "output_type": "execute_result"
    },
    {
     "data": {
      "image/png": "[encoded data removed]",
      "text/plain": [
       "<Figure size 430.5x360 with 1 Axes>"
      ]
     },
     "metadata": {
      "needs_background": "light"
     },
     "output_type": "display_data"
    }
   ],
   "source": [
    "# 남성의 경우 나이가 많을수록(80에 가까울수록) 사망자 (Y축이 0에 가까움)가 많음.\n",
    "# 여성의 경우 나이가 많을수록 생존자( Y축이 1에 가까움)가 많음.\n",
    "\n",
    "sns.lmplot('Age', 'Survived', hue = 'Sex', data = train)"
   ]
  },
  {
   "cell_type": "code",
   "execution_count": 41,
   "metadata": {},
   "outputs": [
    {
     "data": {
      "text/plain": [
       "<matplotlib.axes._subplots.AxesSubplot at 0x1ce017e0488>"
      ]
     },
     "execution_count": 41,
     "metadata": {},
     "output_type": "execute_result"
    },
    {
     "data": {
      "image/png": "[encoded data removed]",
      "text/plain": [
       "<Figure size 720x360 with 1 Axes>"
      ]
     },
     "metadata": {
      "needs_background": "light"
     },
     "output_type": "display_data"
    }
   ],
   "source": [
    "# 항구별로 승선하는 Pclass 등급비율\n",
    "\n",
    "Pclass1 = train[train['Pclass'] == 1]['Embarked'].value_counts()\n",
    "Pclass2 = train[train['Pclass'] == 2]['Embarked'].value_counts()\n",
    "Pclass3 = train[train['Pclass'] == 3]['Embarked'].value_counts()\n",
    "df = pd.DataFrame([Pclass1, Pclass2, Pclass3])\n",
    "df.index = ['1st class', '2nd class', '3rd class']\n",
    "df.plot(kind='bar', stacked=True, figsize=(10,5))"
   ]
  },
  {
   "cell_type": "code",
   "execution_count": 42,
   "metadata": {
    "scrolled": false
   },
   "outputs": [
    {
     "data": {
      "text/plain": [
       "<seaborn.axisgrid.FacetGrid at 0x1ce01867908>"
      ]
     },
     "execution_count": 42,
     "metadata": {},
     "output_type": "execute_result"
    },
    {
     "data": {
      "image/png": "[encoded data removed]",
      "text/plain": [
       "<Figure size 411.875x360 with 1 Axes>"
      ]
     },
     "metadata": {
      "needs_background": "light"
     },
     "output_type": "display_data"
    }
   ],
   "source": [
    "# 항구와 사망*생존율간의 관계\n",
    "\n",
    "sns.catplot('Embarked', kind = 'count', hue = 'Survived', data = train)"
   ]
  },
  {
   "cell_type": "code",
   "execution_count": 43,
   "metadata": {},
   "outputs": [
    {
     "data": {
      "text/plain": [
       "<seaborn.axisgrid.FacetGrid at 0x1ce028aedc8>"
      ]
     },
     "execution_count": 43,
     "metadata": {},
     "output_type": "execute_result"
    },
    {
     "data": {
      "image/png": "[encoded data removed]",
      "text/plain": [
       "<Figure size 430.5x360 with 1 Axes>"
      ]
     },
     "metadata": {
      "needs_background": "light"
     },
     "output_type": "display_data"
    }
   ],
   "source": [
    "# 여성의 경우 형제*자매가 많을수록 사망률이 증가.\n",
    "\n",
    "sns.lmplot('SibSp', 'Survived', hue = 'Sex', data = train)"
   ]
  },
  {
   "cell_type": "code",
   "execution_count": 44,
   "metadata": {},
   "outputs": [
    {
     "data": {
      "text/plain": [
       "<seaborn.axisgrid.FacetGrid at 0x1ce7fef8908>"
      ]
     },
     "execution_count": 44,
     "metadata": {},
     "output_type": "execute_result"
    },
    {
     "data": {
      "image/png": "[encoded data removed]",
      "text/plain": [
       "<Figure size 430.5x360 with 1 Axes>"
      ]
     },
     "metadata": {
      "needs_background": "light"
     },
     "output_type": "display_data"
    }
   ],
   "source": [
    "# 부모가 자식이 많을수록 여성의 경우엔 사망률이 높고, 남자의 경우 생존율이 높음.\n",
    "\n",
    "sns.lmplot('Parch', 'Survived', hue = 'Sex', data = train)"
   ]
  },
  {
   "cell_type": "code",
   "execution_count": 45,
   "metadata": {},
   "outputs": [
    {
     "data": {
      "text/plain": [
       "<seaborn.axisgrid.FacetGrid at 0x1ce029a5448>"
      ]
     },
     "execution_count": 45,
     "metadata": {},
     "output_type": "execute_result"
    },
    {
     "data": {
      "image/png": "[encoded data removed]",
      "text/plain": [
       "<Figure size 430.5x360 with 1 Axes>"
      ]
     },
     "metadata": {
      "needs_background": "light"
     },
     "output_type": "display_data"
    }
   ],
   "source": [
    "# 총 가족수가 많을수록 여성의 경우엔 사망률이 높고, 남자의 경우 생존율이 높음.\n",
    "\n",
    "sns.lmplot('FamilySize', 'Survived', hue = 'Sex', data = train)"
   ]
  },
  {
   "cell_type": "code",
   "execution_count": 46,
   "metadata": {
    "scrolled": false
   },
   "outputs": [
    {
     "data": {
      "text/plain": [
       "<seaborn.axisgrid.FacetGrid at 0x1ce029e0308>"
      ]
     },
     "execution_count": 46,
     "metadata": {},
     "output_type": "execute_result"
    },
    {
     "data": {
      "image/png": "[encoded data removed]",
      "text/plain": [
       "<Figure size 430.5x360 with 1 Axes>"
      ]
     },
     "metadata": {
      "needs_background": "light"
     },
     "output_type": "display_data"
    }
   ],
   "source": [
    "# 티켓값이 높을수록 남녀 상관없이 사망률이 낮음.\n",
    "\n",
    "sns.lmplot('Fare', 'Survived', hue = 'Sex', data = train)"
   ]
  },
  {
   "cell_type": "code",
   "execution_count": 47,
   "metadata": {},
   "outputs": [],
   "source": [
    "train_corr = train.corr()"
   ]
  },
  {
   "cell_type": "code",
   "execution_count": 48,
   "metadata": {},
   "outputs": [
    {
     "data": {
      "text/plain": [
       "(9.5, -0.5)"
      ]
     },
     "execution_count": 48,
     "metadata": {},
     "output_type": "execute_result"
    },
    {
     "data": {
      "image/png": "[encoded data removed]",
      "text/plain": [
       "<Figure size 720x720 with 2 Axes>"
      ]
     },
     "metadata": {
      "needs_background": "light"
     },
     "output_type": "display_data"
    }
   ],
   "source": [
    "# 히트맵으로 상관계수 표현\n",
    "\n",
    "fig, ax = plt.subplots(figsize = (10, 10))\n",
    "\n",
    "sns.heatmap(train_corr,\n",
    "            cmap = 'YlGnBu',\n",
    "            xticklabels = train_corr.columns.values,\n",
    "           yticklabels = train_corr.columns.values,\n",
    "           annot = True, linewidths = .5, ax = ax)\n",
    "\n",
    "b, t = plt.ylim() # discover the values for bottom and top\n",
    "b += 0.5 # Add 0.5 to the bottom\n",
    "t -= 0.5 # Subtract 0.5 from the top\n",
    "plt.ylim(b, t) # update the ylim(bottom, top) values\n"
   ]
  },
  {
   "cell_type": "markdown",
   "metadata": {},
   "source": [
    "### 생존여부와 상관관계 있는 변수\n",
    "\n",
    "- Possitive\n",
    "\n",
    "    1. Fare : 0.23\n",
    "    \n",
    "---\n",
    "- Negative\n",
    "    \n",
    "    1. Pclass : -0.26 (등급이 낮을수록 Pclass값이 올라가기 때문에 음의 상관관계)\n",
    "    1. Age_ind : -0.14 (고연령일수록 Age_ind값이 올라가기 때문에 음의 상관관계)"
   ]
  },
  {
   "cell_type": "markdown",
   "metadata": {},
   "source": [
    "# ---"
   ]
  },
  {
   "cell_type": "code",
   "execution_count": 49,
   "metadata": {},
   "outputs": [
    {
     "data": {
      "text/html": [
       "<div>\n",
       "<style scoped>\n",
       "    .dataframe tbody tr th:only-of-type {\n",
       "        vertical-align: middle;\n",
       "    }\n",
       "\n",
       "    .dataframe tbody tr th {\n",
       "        vertical-align: top;\n",
       "    }\n",
       "\n",
       "    .dataframe thead th {\n",
       "        text-align: right;\n",
       "    }\n",
       "</style>\n",
       "<table border=\"1\" class=\"dataframe\">\n",
       "  <thead>\n",
       "    <tr style=\"text-align: right;\">\n",
       "      <th></th>\n",
       "      <th>Survived</th>\n",
       "      <th>Pclass</th>\n",
       "      <th>Name</th>\n",
       "      <th>Sex</th>\n",
       "      <th>Age</th>\n",
       "      <th>SibSp</th>\n",
       "      <th>Parch</th>\n",
       "      <th>Ticket</th>\n",
       "      <th>Fare</th>\n",
       "      <th>Embarked</th>\n",
       "      <th>Age_ind</th>\n",
       "      <th>FamilySize</th>\n",
       "      <th>FamilySize_ind</th>\n",
       "    </tr>\n",
       "  </thead>\n",
       "  <tbody>\n",
       "    <tr>\n",
       "      <th>0</th>\n",
       "      <td>0</td>\n",
       "      <td>3</td>\n",
       "      <td>Braund, Mr. Owen Harris</td>\n",
       "      <td>male</td>\n",
       "      <td>22.0</td>\n",
       "      <td>1</td>\n",
       "      <td>0</td>\n",
       "      <td>A/5 21171</td>\n",
       "      <td>7.2500</td>\n",
       "      <td>S</td>\n",
       "      <td>2</td>\n",
       "      <td>1</td>\n",
       "      <td>1</td>\n",
       "    </tr>\n",
       "    <tr>\n",
       "      <th>1</th>\n",
       "      <td>1</td>\n",
       "      <td>1</td>\n",
       "      <td>Cumings, Mrs. John Bradley (Florence Briggs Th...</td>\n",
       "      <td>female</td>\n",
       "      <td>38.0</td>\n",
       "      <td>1</td>\n",
       "      <td>0</td>\n",
       "      <td>PC 17599</td>\n",
       "      <td>71.2833</td>\n",
       "      <td>C</td>\n",
       "      <td>5</td>\n",
       "      <td>1</td>\n",
       "      <td>1</td>\n",
       "    </tr>\n",
       "    <tr>\n",
       "      <th>2</th>\n",
       "      <td>1</td>\n",
       "      <td>3</td>\n",
       "      <td>Heikkinen, Miss. Laina</td>\n",
       "      <td>female</td>\n",
       "      <td>26.0</td>\n",
       "      <td>0</td>\n",
       "      <td>0</td>\n",
       "      <td>STON/O2. 3101282</td>\n",
       "      <td>7.9250</td>\n",
       "      <td>S</td>\n",
       "      <td>3</td>\n",
       "      <td>0</td>\n",
       "      <td>0</td>\n",
       "    </tr>\n",
       "    <tr>\n",
       "      <th>3</th>\n",
       "      <td>1</td>\n",
       "      <td>1</td>\n",
       "      <td>Futrelle, Mrs. Jacques Heath (Lily May Peel)</td>\n",
       "      <td>female</td>\n",
       "      <td>35.0</td>\n",
       "      <td>1</td>\n",
       "      <td>0</td>\n",
       "      <td>113803</td>\n",
       "      <td>53.1000</td>\n",
       "      <td>S</td>\n",
       "      <td>5</td>\n",
       "      <td>1</td>\n",
       "      <td>1</td>\n",
       "    </tr>\n",
       "    <tr>\n",
       "      <th>4</th>\n",
       "      <td>0</td>\n",
       "      <td>3</td>\n",
       "      <td>Allen, Mr. William Henry</td>\n",
       "      <td>male</td>\n",
       "      <td>35.0</td>\n",
       "      <td>0</td>\n",
       "      <td>0</td>\n",
       "      <td>373450</td>\n",
       "      <td>8.0500</td>\n",
       "      <td>S</td>\n",
       "      <td>5</td>\n",
       "      <td>0</td>\n",
       "      <td>0</td>\n",
       "    </tr>\n",
       "  </tbody>\n",
       "</table>\n",
       "</div>"
      ],
      "text/plain": [
       "   Survived  Pclass                                               Name  \\\n",
       "0         0       3                            Braund, Mr. Owen Harris   \n",
       "1         1       1  Cumings, Mrs. John Bradley (Florence Briggs Th...   \n",
       "2         1       3                             Heikkinen, Miss. Laina   \n",
       "3         1       1       Futrelle, Mrs. Jacques Heath (Lily May Peel)   \n",
       "4         0       3                           Allen, Mr. William Henry   \n",
       "\n",
       "      Sex   Age  SibSp  Parch            Ticket     Fare Embarked  Age_ind  \\\n",
       "0    male  22.0      1      0         A/5 21171   7.2500        S        2   \n",
       "1  female  38.0      1      0          PC 17599  71.2833        C        5   \n",
       "2  female  26.0      0      0  STON/O2. 3101282   7.9250        S        3   \n",
       "3  female  35.0      1      0            113803  53.1000        S        5   \n",
       "4    male  35.0      0      0            373450   8.0500        S        5   \n",
       "\n",
       "   FamilySize  FamilySize_ind  \n",
       "0           1               1  \n",
       "1           1               1  \n",
       "2           0               0  \n",
       "3           1               1  \n",
       "4           0               0  "
      ]
     },
     "execution_count": 49,
     "metadata": {},
     "output_type": "execute_result"
    }
   ],
   "source": [
    "train.head()"
   ]
  },
  {
   "cell_type": "markdown",
   "metadata": {},
   "source": [
    "## Name 변수의 Mr, Mrs ... 등등 기혼유무에 따른 생존율 시각화(정규표현식 활용)"
   ]
  },
  {
   "cell_type": "code",
   "execution_count": 50,
   "metadata": {},
   "outputs": [],
   "source": [
    "train_copy = train.copy()"
   ]
  },
  {
   "cell_type": "code",
   "execution_count": 51,
   "metadata": {},
   "outputs": [],
   "source": [
    "train_copy['New'] = train_copy['Name'].str.replace(r'\\([^)]*\\)', '').str.strip()"
   ]
  },
  {
   "cell_type": "code",
   "execution_count": 52,
   "metadata": {},
   "outputs": [
    {
     "data": {
      "text/html": [
       "<div>\n",
       "<style scoped>\n",
       "    .dataframe tbody tr th:only-of-type {\n",
       "        vertical-align: middle;\n",
       "    }\n",
       "\n",
       "    .dataframe tbody tr th {\n",
       "        vertical-align: top;\n",
       "    }\n",
       "\n",
       "    .dataframe thead th {\n",
       "        text-align: right;\n",
       "    }\n",
       "</style>\n",
       "<table border=\"1\" class=\"dataframe\">\n",
       "  <thead>\n",
       "    <tr style=\"text-align: right;\">\n",
       "      <th></th>\n",
       "      <th>Survived</th>\n",
       "      <th>Pclass</th>\n",
       "      <th>Name</th>\n",
       "      <th>Sex</th>\n",
       "      <th>Age</th>\n",
       "      <th>SibSp</th>\n",
       "      <th>Parch</th>\n",
       "      <th>Ticket</th>\n",
       "      <th>Fare</th>\n",
       "      <th>Embarked</th>\n",
       "      <th>Age_ind</th>\n",
       "      <th>FamilySize</th>\n",
       "      <th>FamilySize_ind</th>\n",
       "      <th>New</th>\n",
       "    </tr>\n",
       "  </thead>\n",
       "  <tbody>\n",
       "    <tr>\n",
       "      <th>0</th>\n",
       "      <td>0</td>\n",
       "      <td>3</td>\n",
       "      <td>Braund, Mr. Owen Harris</td>\n",
       "      <td>male</td>\n",
       "      <td>22.0</td>\n",
       "      <td>1</td>\n",
       "      <td>0</td>\n",
       "      <td>A/5 21171</td>\n",
       "      <td>7.2500</td>\n",
       "      <td>S</td>\n",
       "      <td>2</td>\n",
       "      <td>1</td>\n",
       "      <td>1</td>\n",
       "      <td>Braund, Mr. Owen Harris</td>\n",
       "    </tr>\n",
       "    <tr>\n",
       "      <th>1</th>\n",
       "      <td>1</td>\n",
       "      <td>1</td>\n",
       "      <td>Cumings, Mrs. John Bradley (Florence Briggs Th...</td>\n",
       "      <td>female</td>\n",
       "      <td>38.0</td>\n",
       "      <td>1</td>\n",
       "      <td>0</td>\n",
       "      <td>PC 17599</td>\n",
       "      <td>71.2833</td>\n",
       "      <td>C</td>\n",
       "      <td>5</td>\n",
       "      <td>1</td>\n",
       "      <td>1</td>\n",
       "      <td>Cumings, Mrs. John Bradley</td>\n",
       "    </tr>\n",
       "    <tr>\n",
       "      <th>2</th>\n",
       "      <td>1</td>\n",
       "      <td>3</td>\n",
       "      <td>Heikkinen, Miss. Laina</td>\n",
       "      <td>female</td>\n",
       "      <td>26.0</td>\n",
       "      <td>0</td>\n",
       "      <td>0</td>\n",
       "      <td>STON/O2. 3101282</td>\n",
       "      <td>7.9250</td>\n",
       "      <td>S</td>\n",
       "      <td>3</td>\n",
       "      <td>0</td>\n",
       "      <td>0</td>\n",
       "      <td>Heikkinen, Miss. Laina</td>\n",
       "    </tr>\n",
       "    <tr>\n",
       "      <th>3</th>\n",
       "      <td>1</td>\n",
       "      <td>1</td>\n",
       "      <td>Futrelle, Mrs. Jacques Heath (Lily May Peel)</td>\n",
       "      <td>female</td>\n",
       "      <td>35.0</td>\n",
       "      <td>1</td>\n",
       "      <td>0</td>\n",
       "      <td>113803</td>\n",
       "      <td>53.1000</td>\n",
       "      <td>S</td>\n",
       "      <td>5</td>\n",
       "      <td>1</td>\n",
       "      <td>1</td>\n",
       "      <td>Futrelle, Mrs. Jacques Heath</td>\n",
       "    </tr>\n",
       "    <tr>\n",
       "      <th>4</th>\n",
       "      <td>0</td>\n",
       "      <td>3</td>\n",
       "      <td>Allen, Mr. William Henry</td>\n",
       "      <td>male</td>\n",
       "      <td>35.0</td>\n",
       "      <td>0</td>\n",
       "      <td>0</td>\n",
       "      <td>373450</td>\n",
       "      <td>8.0500</td>\n",
       "      <td>S</td>\n",
       "      <td>5</td>\n",
       "      <td>0</td>\n",
       "      <td>0</td>\n",
       "      <td>Allen, Mr. William Henry</td>\n",
       "    </tr>\n",
       "  </tbody>\n",
       "</table>\n",
       "</div>"
      ],
      "text/plain": [
       "   Survived  Pclass                                               Name  \\\n",
       "0         0       3                            Braund, Mr. Owen Harris   \n",
       "1         1       1  Cumings, Mrs. John Bradley (Florence Briggs Th...   \n",
       "2         1       3                             Heikkinen, Miss. Laina   \n",
       "3         1       1       Futrelle, Mrs. Jacques Heath (Lily May Peel)   \n",
       "4         0       3                           Allen, Mr. William Henry   \n",
       "\n",
       "      Sex   Age  SibSp  Parch            Ticket     Fare Embarked  Age_ind  \\\n",
       "0    male  22.0      1      0         A/5 21171   7.2500        S        2   \n",
       "1  female  38.0      1      0          PC 17599  71.2833        C        5   \n",
       "2  female  26.0      0      0  STON/O2. 3101282   7.9250        S        3   \n",
       "3  female  35.0      1      0            113803  53.1000        S        5   \n",
       "4    male  35.0      0      0            373450   8.0500        S        5   \n",
       "\n",
       "   FamilySize  FamilySize_ind                           New  \n",
       "0           1               1       Braund, Mr. Owen Harris  \n",
       "1           1               1    Cumings, Mrs. John Bradley  \n",
       "2           0               0        Heikkinen, Miss. Laina  \n",
       "3           1               1  Futrelle, Mrs. Jacques Heath  \n",
       "4           0               0      Allen, Mr. William Henry  "
      ]
     },
     "execution_count": 52,
     "metadata": {},
     "output_type": "execute_result"
    }
   ],
   "source": [
    "train_copy.head()"
   ]
  },
  {
   "cell_type": "code",
   "execution_count": 53,
   "metadata": {},
   "outputs": [],
   "source": [
    "# 판다스의 정규표현식 함수를 이용하여 Mr, Miss, Mrs, Miss, Master 단어를 추출.\n",
    "\n",
    "train_copy['Title'] = train_copy.New.str.extract(' ([A-Za-z]+)\\.', expand=False)"
   ]
  },
  {
   "cell_type": "code",
   "execution_count": 54,
   "metadata": {},
   "outputs": [
    {
     "data": {
      "text/plain": [
       "Mr          517\n",
       "Miss        182\n",
       "Mrs         125\n",
       "Master       40\n",
       "Dr            7\n",
       "Rev           6\n",
       "Major         2\n",
       "Mlle          2\n",
       "Col           2\n",
       "Capt          1\n",
       "Don           1\n",
       "Lady          1\n",
       "Mme           1\n",
       "Sir           1\n",
       "Countess      1\n",
       "Ms            1\n",
       "Jonkheer      1\n",
       "Name: Title, dtype: int64"
      ]
     },
     "execution_count": 54,
     "metadata": {},
     "output_type": "execute_result"
    }
   ],
   "source": [
    "train_copy['Title'].value_counts()"
   ]
  },
  {
   "cell_type": "code",
   "execution_count": 55,
   "metadata": {},
   "outputs": [],
   "source": [
    "# 상위 4개를 제외한 나머지는 Rare라는 변수로 합쳐서 표현.\n",
    "\n",
    "train_copy['Title'] = train_copy['Title'].replace(['Lady', 'Countess','Capt', 'Col', 'Don',\\\n",
    "                                             'Dr', 'Major', 'Rev', 'Sir', 'Jonkheer', 'Dona'],\\\n",
    "                                             'Rare')\n",
    "train_copy['Title'] = train_copy['Title'].replace('Mlle', 'Miss')\n",
    "train_copy['Title'] = train_copy['Title'].replace('Ms', 'Miss')\n",
    "train_copy['Title'] = train_copy['Title'].replace('Mme', 'Mrs')"
   ]
  },
  {
   "cell_type": "code",
   "execution_count": 56,
   "metadata": {},
   "outputs": [
    {
     "data": {
      "text/plain": [
       "array(['Mr', 'Mrs', 'Miss', 'Master', 'Rare'], dtype=object)"
      ]
     },
     "execution_count": 56,
     "metadata": {},
     "output_type": "execute_result"
    }
   ],
   "source": [
    "train_copy['Title'].unique()"
   ]
  },
  {
   "cell_type": "markdown",
   "metadata": {},
   "source": [
    "# 4. 머신러닝 학습을 위한 변수변환"
   ]
  },
  {
   "cell_type": "code",
   "execution_count": 57,
   "metadata": {},
   "outputs": [
    {
     "data": {
      "text/html": [
       "<div>\n",
       "<style scoped>\n",
       "    .dataframe tbody tr th:only-of-type {\n",
       "        vertical-align: middle;\n",
       "    }\n",
       "\n",
       "    .dataframe tbody tr th {\n",
       "        vertical-align: top;\n",
       "    }\n",
       "\n",
       "    .dataframe thead th {\n",
       "        text-align: right;\n",
       "    }\n",
       "</style>\n",
       "<table border=\"1\" class=\"dataframe\">\n",
       "  <thead>\n",
       "    <tr style=\"text-align: right;\">\n",
       "      <th></th>\n",
       "      <th>Survived</th>\n",
       "      <th>Pclass</th>\n",
       "      <th>Name</th>\n",
       "      <th>Sex</th>\n",
       "      <th>Age</th>\n",
       "      <th>SibSp</th>\n",
       "      <th>Parch</th>\n",
       "      <th>Ticket</th>\n",
       "      <th>Fare</th>\n",
       "      <th>Embarked</th>\n",
       "      <th>Age_ind</th>\n",
       "      <th>FamilySize</th>\n",
       "      <th>FamilySize_ind</th>\n",
       "    </tr>\n",
       "  </thead>\n",
       "  <tbody>\n",
       "    <tr>\n",
       "      <th>0</th>\n",
       "      <td>0</td>\n",
       "      <td>3</td>\n",
       "      <td>Braund, Mr. Owen Harris</td>\n",
       "      <td>male</td>\n",
       "      <td>22.0</td>\n",
       "      <td>1</td>\n",
       "      <td>0</td>\n",
       "      <td>A/5 21171</td>\n",
       "      <td>7.2500</td>\n",
       "      <td>S</td>\n",
       "      <td>2</td>\n",
       "      <td>1</td>\n",
       "      <td>1</td>\n",
       "    </tr>\n",
       "    <tr>\n",
       "      <th>1</th>\n",
       "      <td>1</td>\n",
       "      <td>1</td>\n",
       "      <td>Cumings, Mrs. John Bradley (Florence Briggs Th...</td>\n",
       "      <td>female</td>\n",
       "      <td>38.0</td>\n",
       "      <td>1</td>\n",
       "      <td>0</td>\n",
       "      <td>PC 17599</td>\n",
       "      <td>71.2833</td>\n",
       "      <td>C</td>\n",
       "      <td>5</td>\n",
       "      <td>1</td>\n",
       "      <td>1</td>\n",
       "    </tr>\n",
       "    <tr>\n",
       "      <th>2</th>\n",
       "      <td>1</td>\n",
       "      <td>3</td>\n",
       "      <td>Heikkinen, Miss. Laina</td>\n",
       "      <td>female</td>\n",
       "      <td>26.0</td>\n",
       "      <td>0</td>\n",
       "      <td>0</td>\n",
       "      <td>STON/O2. 3101282</td>\n",
       "      <td>7.9250</td>\n",
       "      <td>S</td>\n",
       "      <td>3</td>\n",
       "      <td>0</td>\n",
       "      <td>0</td>\n",
       "    </tr>\n",
       "    <tr>\n",
       "      <th>3</th>\n",
       "      <td>1</td>\n",
       "      <td>1</td>\n",
       "      <td>Futrelle, Mrs. Jacques Heath (Lily May Peel)</td>\n",
       "      <td>female</td>\n",
       "      <td>35.0</td>\n",
       "      <td>1</td>\n",
       "      <td>0</td>\n",
       "      <td>113803</td>\n",
       "      <td>53.1000</td>\n",
       "      <td>S</td>\n",
       "      <td>5</td>\n",
       "      <td>1</td>\n",
       "      <td>1</td>\n",
       "    </tr>\n",
       "    <tr>\n",
       "      <th>4</th>\n",
       "      <td>0</td>\n",
       "      <td>3</td>\n",
       "      <td>Allen, Mr. William Henry</td>\n",
       "      <td>male</td>\n",
       "      <td>35.0</td>\n",
       "      <td>0</td>\n",
       "      <td>0</td>\n",
       "      <td>373450</td>\n",
       "      <td>8.0500</td>\n",
       "      <td>S</td>\n",
       "      <td>5</td>\n",
       "      <td>0</td>\n",
       "      <td>0</td>\n",
       "    </tr>\n",
       "  </tbody>\n",
       "</table>\n",
       "</div>"
      ],
      "text/plain": [
       "   Survived  Pclass                                               Name  \\\n",
       "0         0       3                            Braund, Mr. Owen Harris   \n",
       "1         1       1  Cumings, Mrs. John Bradley (Florence Briggs Th...   \n",
       "2         1       3                             Heikkinen, Miss. Laina   \n",
       "3         1       1       Futrelle, Mrs. Jacques Heath (Lily May Peel)   \n",
       "4         0       3                           Allen, Mr. William Henry   \n",
       "\n",
       "      Sex   Age  SibSp  Parch            Ticket     Fare Embarked  Age_ind  \\\n",
       "0    male  22.0      1      0         A/5 21171   7.2500        S        2   \n",
       "1  female  38.0      1      0          PC 17599  71.2833        C        5   \n",
       "2  female  26.0      0      0  STON/O2. 3101282   7.9250        S        3   \n",
       "3  female  35.0      1      0            113803  53.1000        S        5   \n",
       "4    male  35.0      0      0            373450   8.0500        S        5   \n",
       "\n",
       "   FamilySize  FamilySize_ind  \n",
       "0           1               1  \n",
       "1           1               1  \n",
       "2           0               0  \n",
       "3           1               1  \n",
       "4           0               0  "
      ]
     },
     "execution_count": 57,
     "metadata": {},
     "output_type": "execute_result"
    }
   ],
   "source": [
    "train.head()"
   ]
  },
  {
   "cell_type": "code",
   "execution_count": 58,
   "metadata": {},
   "outputs": [
    {
     "data": {
      "text/html": [
       "<div>\n",
       "<style scoped>\n",
       "    .dataframe tbody tr th:only-of-type {\n",
       "        vertical-align: middle;\n",
       "    }\n",
       "\n",
       "    .dataframe tbody tr th {\n",
       "        vertical-align: top;\n",
       "    }\n",
       "\n",
       "    .dataframe thead th {\n",
       "        text-align: right;\n",
       "    }\n",
       "</style>\n",
       "<table border=\"1\" class=\"dataframe\">\n",
       "  <thead>\n",
       "    <tr style=\"text-align: right;\">\n",
       "      <th></th>\n",
       "      <th>Survived</th>\n",
       "      <th>Pclass</th>\n",
       "      <th>Name</th>\n",
       "      <th>Sex</th>\n",
       "      <th>Age</th>\n",
       "      <th>SibSp</th>\n",
       "      <th>Parch</th>\n",
       "      <th>Ticket</th>\n",
       "      <th>Fare</th>\n",
       "      <th>Embarked</th>\n",
       "      <th>Age_ind</th>\n",
       "      <th>FamilySize</th>\n",
       "      <th>FamilySize_ind</th>\n",
       "      <th>New</th>\n",
       "      <th>Title</th>\n",
       "    </tr>\n",
       "  </thead>\n",
       "  <tbody>\n",
       "    <tr>\n",
       "      <th>0</th>\n",
       "      <td>0</td>\n",
       "      <td>3</td>\n",
       "      <td>Braund, Mr. Owen Harris</td>\n",
       "      <td>male</td>\n",
       "      <td>22.0</td>\n",
       "      <td>1</td>\n",
       "      <td>0</td>\n",
       "      <td>A/5 21171</td>\n",
       "      <td>7.2500</td>\n",
       "      <td>S</td>\n",
       "      <td>2</td>\n",
       "      <td>1</td>\n",
       "      <td>1</td>\n",
       "      <td>Braund, Mr. Owen Harris</td>\n",
       "      <td>Mr</td>\n",
       "    </tr>\n",
       "    <tr>\n",
       "      <th>1</th>\n",
       "      <td>1</td>\n",
       "      <td>1</td>\n",
       "      <td>Cumings, Mrs. John Bradley (Florence Briggs Th...</td>\n",
       "      <td>female</td>\n",
       "      <td>38.0</td>\n",
       "      <td>1</td>\n",
       "      <td>0</td>\n",
       "      <td>PC 17599</td>\n",
       "      <td>71.2833</td>\n",
       "      <td>C</td>\n",
       "      <td>5</td>\n",
       "      <td>1</td>\n",
       "      <td>1</td>\n",
       "      <td>Cumings, Mrs. John Bradley</td>\n",
       "      <td>Mrs</td>\n",
       "    </tr>\n",
       "    <tr>\n",
       "      <th>2</th>\n",
       "      <td>1</td>\n",
       "      <td>3</td>\n",
       "      <td>Heikkinen, Miss. Laina</td>\n",
       "      <td>female</td>\n",
       "      <td>26.0</td>\n",
       "      <td>0</td>\n",
       "      <td>0</td>\n",
       "      <td>STON/O2. 3101282</td>\n",
       "      <td>7.9250</td>\n",
       "      <td>S</td>\n",
       "      <td>3</td>\n",
       "      <td>0</td>\n",
       "      <td>0</td>\n",
       "      <td>Heikkinen, Miss. Laina</td>\n",
       "      <td>Miss</td>\n",
       "    </tr>\n",
       "    <tr>\n",
       "      <th>3</th>\n",
       "      <td>1</td>\n",
       "      <td>1</td>\n",
       "      <td>Futrelle, Mrs. Jacques Heath (Lily May Peel)</td>\n",
       "      <td>female</td>\n",
       "      <td>35.0</td>\n",
       "      <td>1</td>\n",
       "      <td>0</td>\n",
       "      <td>113803</td>\n",
       "      <td>53.1000</td>\n",
       "      <td>S</td>\n",
       "      <td>5</td>\n",
       "      <td>1</td>\n",
       "      <td>1</td>\n",
       "      <td>Futrelle, Mrs. Jacques Heath</td>\n",
       "      <td>Mrs</td>\n",
       "    </tr>\n",
       "    <tr>\n",
       "      <th>4</th>\n",
       "      <td>0</td>\n",
       "      <td>3</td>\n",
       "      <td>Allen, Mr. William Henry</td>\n",
       "      <td>male</td>\n",
       "      <td>35.0</td>\n",
       "      <td>0</td>\n",
       "      <td>0</td>\n",
       "      <td>373450</td>\n",
       "      <td>8.0500</td>\n",
       "      <td>S</td>\n",
       "      <td>5</td>\n",
       "      <td>0</td>\n",
       "      <td>0</td>\n",
       "      <td>Allen, Mr. William Henry</td>\n",
       "      <td>Mr</td>\n",
       "    </tr>\n",
       "  </tbody>\n",
       "</table>\n",
       "</div>"
      ],
      "text/plain": [
       "   Survived  Pclass                                               Name  \\\n",
       "0         0       3                            Braund, Mr. Owen Harris   \n",
       "1         1       1  Cumings, Mrs. John Bradley (Florence Briggs Th...   \n",
       "2         1       3                             Heikkinen, Miss. Laina   \n",
       "3         1       1       Futrelle, Mrs. Jacques Heath (Lily May Peel)   \n",
       "4         0       3                           Allen, Mr. William Henry   \n",
       "\n",
       "      Sex   Age  SibSp  Parch            Ticket     Fare Embarked  Age_ind  \\\n",
       "0    male  22.0      1      0         A/5 21171   7.2500        S        2   \n",
       "1  female  38.0      1      0          PC 17599  71.2833        C        5   \n",
       "2  female  26.0      0      0  STON/O2. 3101282   7.9250        S        3   \n",
       "3  female  35.0      1      0            113803  53.1000        S        5   \n",
       "4    male  35.0      0      0            373450   8.0500        S        5   \n",
       "\n",
       "   FamilySize  FamilySize_ind                           New Title  \n",
       "0           1               1       Braund, Mr. Owen Harris    Mr  \n",
       "1           1               1    Cumings, Mrs. John Bradley   Mrs  \n",
       "2           0               0        Heikkinen, Miss. Laina  Miss  \n",
       "3           1               1  Futrelle, Mrs. Jacques Heath   Mrs  \n",
       "4           0               0      Allen, Mr. William Henry    Mr  "
      ]
     },
     "execution_count": 58,
     "metadata": {},
     "output_type": "execute_result"
    }
   ],
   "source": [
    "train_copy.head()"
   ]
  },
  {
   "cell_type": "code",
   "execution_count": 59,
   "metadata": {},
   "outputs": [],
   "source": [
    "train['Title'] = train_copy['Title']"
   ]
  },
  {
   "cell_type": "code",
   "execution_count": 60,
   "metadata": {},
   "outputs": [
    {
     "data": {
      "text/html": [
       "<div>\n",
       "<style scoped>\n",
       "    .dataframe tbody tr th:only-of-type {\n",
       "        vertical-align: middle;\n",
       "    }\n",
       "\n",
       "    .dataframe tbody tr th {\n",
       "        vertical-align: top;\n",
       "    }\n",
       "\n",
       "    .dataframe thead th {\n",
       "        text-align: right;\n",
       "    }\n",
       "</style>\n",
       "<table border=\"1\" class=\"dataframe\">\n",
       "  <thead>\n",
       "    <tr style=\"text-align: right;\">\n",
       "      <th></th>\n",
       "      <th>Survived</th>\n",
       "      <th>Pclass</th>\n",
       "      <th>Name</th>\n",
       "      <th>Sex</th>\n",
       "      <th>Age</th>\n",
       "      <th>SibSp</th>\n",
       "      <th>Parch</th>\n",
       "      <th>Ticket</th>\n",
       "      <th>Fare</th>\n",
       "      <th>Embarked</th>\n",
       "      <th>Age_ind</th>\n",
       "      <th>FamilySize</th>\n",
       "      <th>FamilySize_ind</th>\n",
       "      <th>Title</th>\n",
       "    </tr>\n",
       "  </thead>\n",
       "  <tbody>\n",
       "    <tr>\n",
       "      <th>0</th>\n",
       "      <td>0</td>\n",
       "      <td>3</td>\n",
       "      <td>Braund, Mr. Owen Harris</td>\n",
       "      <td>male</td>\n",
       "      <td>22.0</td>\n",
       "      <td>1</td>\n",
       "      <td>0</td>\n",
       "      <td>A/5 21171</td>\n",
       "      <td>7.2500</td>\n",
       "      <td>S</td>\n",
       "      <td>2</td>\n",
       "      <td>1</td>\n",
       "      <td>1</td>\n",
       "      <td>Mr</td>\n",
       "    </tr>\n",
       "    <tr>\n",
       "      <th>1</th>\n",
       "      <td>1</td>\n",
       "      <td>1</td>\n",
       "      <td>Cumings, Mrs. John Bradley (Florence Briggs Th...</td>\n",
       "      <td>female</td>\n",
       "      <td>38.0</td>\n",
       "      <td>1</td>\n",
       "      <td>0</td>\n",
       "      <td>PC 17599</td>\n",
       "      <td>71.2833</td>\n",
       "      <td>C</td>\n",
       "      <td>5</td>\n",
       "      <td>1</td>\n",
       "      <td>1</td>\n",
       "      <td>Mrs</td>\n",
       "    </tr>\n",
       "    <tr>\n",
       "      <th>2</th>\n",
       "      <td>1</td>\n",
       "      <td>3</td>\n",
       "      <td>Heikkinen, Miss. Laina</td>\n",
       "      <td>female</td>\n",
       "      <td>26.0</td>\n",
       "      <td>0</td>\n",
       "      <td>0</td>\n",
       "      <td>STON/O2. 3101282</td>\n",
       "      <td>7.9250</td>\n",
       "      <td>S</td>\n",
       "      <td>3</td>\n",
       "      <td>0</td>\n",
       "      <td>0</td>\n",
       "      <td>Miss</td>\n",
       "    </tr>\n",
       "    <tr>\n",
       "      <th>3</th>\n",
       "      <td>1</td>\n",
       "      <td>1</td>\n",
       "      <td>Futrelle, Mrs. Jacques Heath (Lily May Peel)</td>\n",
       "      <td>female</td>\n",
       "      <td>35.0</td>\n",
       "      <td>1</td>\n",
       "      <td>0</td>\n",
       "      <td>113803</td>\n",
       "      <td>53.1000</td>\n",
       "      <td>S</td>\n",
       "      <td>5</td>\n",
       "      <td>1</td>\n",
       "      <td>1</td>\n",
       "      <td>Mrs</td>\n",
       "    </tr>\n",
       "    <tr>\n",
       "      <th>4</th>\n",
       "      <td>0</td>\n",
       "      <td>3</td>\n",
       "      <td>Allen, Mr. William Henry</td>\n",
       "      <td>male</td>\n",
       "      <td>35.0</td>\n",
       "      <td>0</td>\n",
       "      <td>0</td>\n",
       "      <td>373450</td>\n",
       "      <td>8.0500</td>\n",
       "      <td>S</td>\n",
       "      <td>5</td>\n",
       "      <td>0</td>\n",
       "      <td>0</td>\n",
       "      <td>Mr</td>\n",
       "    </tr>\n",
       "  </tbody>\n",
       "</table>\n",
       "</div>"
      ],
      "text/plain": [
       "   Survived  Pclass                                               Name  \\\n",
       "0         0       3                            Braund, Mr. Owen Harris   \n",
       "1         1       1  Cumings, Mrs. John Bradley (Florence Briggs Th...   \n",
       "2         1       3                             Heikkinen, Miss. Laina   \n",
       "3         1       1       Futrelle, Mrs. Jacques Heath (Lily May Peel)   \n",
       "4         0       3                           Allen, Mr. William Henry   \n",
       "\n",
       "      Sex   Age  SibSp  Parch            Ticket     Fare Embarked  Age_ind  \\\n",
       "0    male  22.0      1      0         A/5 21171   7.2500        S        2   \n",
       "1  female  38.0      1      0          PC 17599  71.2833        C        5   \n",
       "2  female  26.0      0      0  STON/O2. 3101282   7.9250        S        3   \n",
       "3  female  35.0      1      0            113803  53.1000        S        5   \n",
       "4    male  35.0      0      0            373450   8.0500        S        5   \n",
       "\n",
       "   FamilySize  FamilySize_ind Title  \n",
       "0           1               1    Mr  \n",
       "1           1               1   Mrs  \n",
       "2           0               0  Miss  \n",
       "3           1               1   Mrs  \n",
       "4           0               0    Mr  "
      ]
     },
     "execution_count": 60,
     "metadata": {},
     "output_type": "execute_result"
    }
   ],
   "source": [
    "train.head()"
   ]
  },
  {
   "cell_type": "code",
   "execution_count": 61,
   "metadata": {},
   "outputs": [
    {
     "data": {
      "text/html": [
       "<div>\n",
       "<style scoped>\n",
       "    .dataframe tbody tr th:only-of-type {\n",
       "        vertical-align: middle;\n",
       "    }\n",
       "\n",
       "    .dataframe tbody tr th {\n",
       "        vertical-align: top;\n",
       "    }\n",
       "\n",
       "    .dataframe thead th {\n",
       "        text-align: right;\n",
       "    }\n",
       "</style>\n",
       "<table border=\"1\" class=\"dataframe\">\n",
       "  <thead>\n",
       "    <tr style=\"text-align: right;\">\n",
       "      <th></th>\n",
       "      <th>FareBand</th>\n",
       "      <th>Survived</th>\n",
       "    </tr>\n",
       "  </thead>\n",
       "  <tbody>\n",
       "    <tr>\n",
       "      <th>0</th>\n",
       "      <td>(-0.001, 7.91]</td>\n",
       "      <td>0.197309</td>\n",
       "    </tr>\n",
       "    <tr>\n",
       "      <th>1</th>\n",
       "      <td>(7.91, 14.454]</td>\n",
       "      <td>0.303571</td>\n",
       "    </tr>\n",
       "    <tr>\n",
       "      <th>2</th>\n",
       "      <td>(14.454, 31.0]</td>\n",
       "      <td>0.454955</td>\n",
       "    </tr>\n",
       "    <tr>\n",
       "      <th>3</th>\n",
       "      <td>(31.0, 512.329]</td>\n",
       "      <td>0.581081</td>\n",
       "    </tr>\n",
       "  </tbody>\n",
       "</table>\n",
       "</div>"
      ],
      "text/plain": [
       "          FareBand  Survived\n",
       "0   (-0.001, 7.91]  0.197309\n",
       "1   (7.91, 14.454]  0.303571\n",
       "2   (14.454, 31.0]  0.454955\n",
       "3  (31.0, 512.329]  0.581081"
      ]
     },
     "execution_count": 61,
     "metadata": {},
     "output_type": "execute_result"
    }
   ],
   "source": [
    "train['FareBand'] = pd.qcut(train['Fare'], 4)\n",
    "train[['FareBand', 'Survived']].groupby(['FareBand'], as_index=False).mean().sort_values(by='FareBand', ascending=True)"
   ]
  },
  {
   "cell_type": "code",
   "execution_count": 62,
   "metadata": {},
   "outputs": [],
   "source": [
    "# 요금을 더미변수로 만들기 위해 구간별로 나눠줌.\n",
    "\n",
    "train['Fare_cat']=0\n",
    "train.loc[train['Fare']<=7.91,'Fare_cat']=0\n",
    "train.loc[(train['Fare']>7.91)&(train['Fare']<=14.454),'Fare_cat']=1\n",
    "train.loc[(train['Fare']>14.454)&(train['Fare']<=31),'Fare_cat']=2\n",
    "train.loc[(train['Fare']>31)&(train['Fare']<=513),'Fare_cat']=3"
   ]
  },
  {
   "cell_type": "code",
   "execution_count": 63,
   "metadata": {},
   "outputs": [
    {
     "data": {
      "text/html": [
       "<div>\n",
       "<style scoped>\n",
       "    .dataframe tbody tr th:only-of-type {\n",
       "        vertical-align: middle;\n",
       "    }\n",
       "\n",
       "    .dataframe tbody tr th {\n",
       "        vertical-align: top;\n",
       "    }\n",
       "\n",
       "    .dataframe thead th {\n",
       "        text-align: right;\n",
       "    }\n",
       "</style>\n",
       "<table border=\"1\" class=\"dataframe\">\n",
       "  <thead>\n",
       "    <tr style=\"text-align: right;\">\n",
       "      <th></th>\n",
       "      <th>Survived</th>\n",
       "      <th>Pclass</th>\n",
       "      <th>Name</th>\n",
       "      <th>Sex</th>\n",
       "      <th>Age</th>\n",
       "      <th>SibSp</th>\n",
       "      <th>Parch</th>\n",
       "      <th>Ticket</th>\n",
       "      <th>Fare</th>\n",
       "      <th>Embarked</th>\n",
       "      <th>Age_ind</th>\n",
       "      <th>FamilySize</th>\n",
       "      <th>FamilySize_ind</th>\n",
       "      <th>Title</th>\n",
       "      <th>FareBand</th>\n",
       "      <th>Fare_cat</th>\n",
       "    </tr>\n",
       "  </thead>\n",
       "  <tbody>\n",
       "    <tr>\n",
       "      <th>0</th>\n",
       "      <td>0</td>\n",
       "      <td>3</td>\n",
       "      <td>Braund, Mr. Owen Harris</td>\n",
       "      <td>male</td>\n",
       "      <td>22.0</td>\n",
       "      <td>1</td>\n",
       "      <td>0</td>\n",
       "      <td>A/5 21171</td>\n",
       "      <td>7.2500</td>\n",
       "      <td>S</td>\n",
       "      <td>2</td>\n",
       "      <td>1</td>\n",
       "      <td>1</td>\n",
       "      <td>Mr</td>\n",
       "      <td>(-0.001, 7.91]</td>\n",
       "      <td>0</td>\n",
       "    </tr>\n",
       "    <tr>\n",
       "      <th>1</th>\n",
       "      <td>1</td>\n",
       "      <td>1</td>\n",
       "      <td>Cumings, Mrs. John Bradley (Florence Briggs Th...</td>\n",
       "      <td>female</td>\n",
       "      <td>38.0</td>\n",
       "      <td>1</td>\n",
       "      <td>0</td>\n",
       "      <td>PC 17599</td>\n",
       "      <td>71.2833</td>\n",
       "      <td>C</td>\n",
       "      <td>5</td>\n",
       "      <td>1</td>\n",
       "      <td>1</td>\n",
       "      <td>Mrs</td>\n",
       "      <td>(31.0, 512.329]</td>\n",
       "      <td>3</td>\n",
       "    </tr>\n",
       "    <tr>\n",
       "      <th>2</th>\n",
       "      <td>1</td>\n",
       "      <td>3</td>\n",
       "      <td>Heikkinen, Miss. Laina</td>\n",
       "      <td>female</td>\n",
       "      <td>26.0</td>\n",
       "      <td>0</td>\n",
       "      <td>0</td>\n",
       "      <td>STON/O2. 3101282</td>\n",
       "      <td>7.9250</td>\n",
       "      <td>S</td>\n",
       "      <td>3</td>\n",
       "      <td>0</td>\n",
       "      <td>0</td>\n",
       "      <td>Miss</td>\n",
       "      <td>(7.91, 14.454]</td>\n",
       "      <td>1</td>\n",
       "    </tr>\n",
       "    <tr>\n",
       "      <th>3</th>\n",
       "      <td>1</td>\n",
       "      <td>1</td>\n",
       "      <td>Futrelle, Mrs. Jacques Heath (Lily May Peel)</td>\n",
       "      <td>female</td>\n",
       "      <td>35.0</td>\n",
       "      <td>1</td>\n",
       "      <td>0</td>\n",
       "      <td>113803</td>\n",
       "      <td>53.1000</td>\n",
       "      <td>S</td>\n",
       "      <td>5</td>\n",
       "      <td>1</td>\n",
       "      <td>1</td>\n",
       "      <td>Mrs</td>\n",
       "      <td>(31.0, 512.329]</td>\n",
       "      <td>3</td>\n",
       "    </tr>\n",
       "    <tr>\n",
       "      <th>4</th>\n",
       "      <td>0</td>\n",
       "      <td>3</td>\n",
       "      <td>Allen, Mr. William Henry</td>\n",
       "      <td>male</td>\n",
       "      <td>35.0</td>\n",
       "      <td>0</td>\n",
       "      <td>0</td>\n",
       "      <td>373450</td>\n",
       "      <td>8.0500</td>\n",
       "      <td>S</td>\n",
       "      <td>5</td>\n",
       "      <td>0</td>\n",
       "      <td>0</td>\n",
       "      <td>Mr</td>\n",
       "      <td>(7.91, 14.454]</td>\n",
       "      <td>1</td>\n",
       "    </tr>\n",
       "  </tbody>\n",
       "</table>\n",
       "</div>"
      ],
      "text/plain": [
       "   Survived  Pclass                                               Name  \\\n",
       "0         0       3                            Braund, Mr. Owen Harris   \n",
       "1         1       1  Cumings, Mrs. John Bradley (Florence Briggs Th...   \n",
       "2         1       3                             Heikkinen, Miss. Laina   \n",
       "3         1       1       Futrelle, Mrs. Jacques Heath (Lily May Peel)   \n",
       "4         0       3                           Allen, Mr. William Henry   \n",
       "\n",
       "      Sex   Age  SibSp  Parch            Ticket     Fare Embarked  Age_ind  \\\n",
       "0    male  22.0      1      0         A/5 21171   7.2500        S        2   \n",
       "1  female  38.0      1      0          PC 17599  71.2833        C        5   \n",
       "2  female  26.0      0      0  STON/O2. 3101282   7.9250        S        3   \n",
       "3  female  35.0      1      0            113803  53.1000        S        5   \n",
       "4    male  35.0      0      0            373450   8.0500        S        5   \n",
       "\n",
       "   FamilySize  FamilySize_ind Title         FareBand  Fare_cat  \n",
       "0           1               1    Mr   (-0.001, 7.91]         0  \n",
       "1           1               1   Mrs  (31.0, 512.329]         3  \n",
       "2           0               0  Miss   (7.91, 14.454]         1  \n",
       "3           1               1   Mrs  (31.0, 512.329]         3  \n",
       "4           0               0    Mr   (7.91, 14.454]         1  "
      ]
     },
     "execution_count": 63,
     "metadata": {},
     "output_type": "execute_result"
    }
   ],
   "source": [
    "train.head()"
   ]
  },
  {
   "cell_type": "code",
   "execution_count": 64,
   "metadata": {},
   "outputs": [],
   "source": [
    "# 더미변수 생성\n",
    "\n",
    "df1 = pd.get_dummies(train['Pclass'], prefix = 'Pclass' ,drop_first=True)\n",
    "df2 = pd.get_dummies(train['Sex'], prefix = 'Sex', drop_first=True)\n",
    "df3 = pd.get_dummies(train['Embarked'], prefix = 'Embarked', drop_first=True)\n",
    "df4 = pd.get_dummies(train['Age_ind'], prefix = 'Age_ind', drop_first=True)\n",
    "df5 = pd.get_dummies(train['Fare_cat'], prefix = 'Fare_cat', drop_first=True)\n",
    "df7 = pd.get_dummies(train['Title'], prefix = 'Title', drop_first=True)\n",
    "df8 = pd.get_dummies(train['FamilySize_ind'], prefix = 'FamilySize_ind', drop_first=True)"
   ]
  },
  {
   "cell_type": "code",
   "execution_count": 65,
   "metadata": {
    "scrolled": false
   },
   "outputs": [
    {
     "data": {
      "text/html": [
       "<div>\n",
       "<style scoped>\n",
       "    .dataframe tbody tr th:only-of-type {\n",
       "        vertical-align: middle;\n",
       "    }\n",
       "\n",
       "    .dataframe tbody tr th {\n",
       "        vertical-align: top;\n",
       "    }\n",
       "\n",
       "    .dataframe thead th {\n",
       "        text-align: right;\n",
       "    }\n",
       "</style>\n",
       "<table border=\"1\" class=\"dataframe\">\n",
       "  <thead>\n",
       "    <tr style=\"text-align: right;\">\n",
       "      <th></th>\n",
       "      <th>Survived</th>\n",
       "      <th>Pclass</th>\n",
       "      <th>Name</th>\n",
       "      <th>Sex</th>\n",
       "      <th>Age</th>\n",
       "      <th>SibSp</th>\n",
       "      <th>Parch</th>\n",
       "      <th>Ticket</th>\n",
       "      <th>Fare</th>\n",
       "      <th>Embarked</th>\n",
       "      <th>...</th>\n",
       "      <th>Fare_cat_3</th>\n",
       "      <th>Title_Miss</th>\n",
       "      <th>Title_Mr</th>\n",
       "      <th>Title_Mrs</th>\n",
       "      <th>Title_Rare</th>\n",
       "      <th>FamilySize_ind_1</th>\n",
       "      <th>FamilySize_ind_2</th>\n",
       "      <th>FamilySize_ind_3</th>\n",
       "      <th>FamilySize_ind_4</th>\n",
       "      <th>FamilySize_ind_5</th>\n",
       "    </tr>\n",
       "  </thead>\n",
       "  <tbody>\n",
       "    <tr>\n",
       "      <th>0</th>\n",
       "      <td>0</td>\n",
       "      <td>3</td>\n",
       "      <td>Braund, Mr. Owen Harris</td>\n",
       "      <td>male</td>\n",
       "      <td>22.0</td>\n",
       "      <td>1</td>\n",
       "      <td>0</td>\n",
       "      <td>A/5 21171</td>\n",
       "      <td>7.2500</td>\n",
       "      <td>S</td>\n",
       "      <td>...</td>\n",
       "      <td>0</td>\n",
       "      <td>0</td>\n",
       "      <td>1</td>\n",
       "      <td>0</td>\n",
       "      <td>0</td>\n",
       "      <td>1</td>\n",
       "      <td>0</td>\n",
       "      <td>0</td>\n",
       "      <td>0</td>\n",
       "      <td>0</td>\n",
       "    </tr>\n",
       "    <tr>\n",
       "      <th>1</th>\n",
       "      <td>1</td>\n",
       "      <td>1</td>\n",
       "      <td>Cumings, Mrs. John Bradley (Florence Briggs Th...</td>\n",
       "      <td>female</td>\n",
       "      <td>38.0</td>\n",
       "      <td>1</td>\n",
       "      <td>0</td>\n",
       "      <td>PC 17599</td>\n",
       "      <td>71.2833</td>\n",
       "      <td>C</td>\n",
       "      <td>...</td>\n",
       "      <td>1</td>\n",
       "      <td>0</td>\n",
       "      <td>0</td>\n",
       "      <td>1</td>\n",
       "      <td>0</td>\n",
       "      <td>1</td>\n",
       "      <td>0</td>\n",
       "      <td>0</td>\n",
       "      <td>0</td>\n",
       "      <td>0</td>\n",
       "    </tr>\n",
       "    <tr>\n",
       "      <th>2</th>\n",
       "      <td>1</td>\n",
       "      <td>3</td>\n",
       "      <td>Heikkinen, Miss. Laina</td>\n",
       "      <td>female</td>\n",
       "      <td>26.0</td>\n",
       "      <td>0</td>\n",
       "      <td>0</td>\n",
       "      <td>STON/O2. 3101282</td>\n",
       "      <td>7.9250</td>\n",
       "      <td>S</td>\n",
       "      <td>...</td>\n",
       "      <td>0</td>\n",
       "      <td>1</td>\n",
       "      <td>0</td>\n",
       "      <td>0</td>\n",
       "      <td>0</td>\n",
       "      <td>0</td>\n",
       "      <td>0</td>\n",
       "      <td>0</td>\n",
       "      <td>0</td>\n",
       "      <td>0</td>\n",
       "    </tr>\n",
       "    <tr>\n",
       "      <th>3</th>\n",
       "      <td>1</td>\n",
       "      <td>1</td>\n",
       "      <td>Futrelle, Mrs. Jacques Heath (Lily May Peel)</td>\n",
       "      <td>female</td>\n",
       "      <td>35.0</td>\n",
       "      <td>1</td>\n",
       "      <td>0</td>\n",
       "      <td>113803</td>\n",
       "      <td>53.1000</td>\n",
       "      <td>S</td>\n",
       "      <td>...</td>\n",
       "      <td>1</td>\n",
       "      <td>0</td>\n",
       "      <td>0</td>\n",
       "      <td>1</td>\n",
       "      <td>0</td>\n",
       "      <td>1</td>\n",
       "      <td>0</td>\n",
       "      <td>0</td>\n",
       "      <td>0</td>\n",
       "      <td>0</td>\n",
       "    </tr>\n",
       "    <tr>\n",
       "      <th>4</th>\n",
       "      <td>0</td>\n",
       "      <td>3</td>\n",
       "      <td>Allen, Mr. William Henry</td>\n",
       "      <td>male</td>\n",
       "      <td>35.0</td>\n",
       "      <td>0</td>\n",
       "      <td>0</td>\n",
       "      <td>373450</td>\n",
       "      <td>8.0500</td>\n",
       "      <td>S</td>\n",
       "      <td>...</td>\n",
       "      <td>0</td>\n",
       "      <td>0</td>\n",
       "      <td>1</td>\n",
       "      <td>0</td>\n",
       "      <td>0</td>\n",
       "      <td>0</td>\n",
       "      <td>0</td>\n",
       "      <td>0</td>\n",
       "      <td>0</td>\n",
       "      <td>0</td>\n",
       "    </tr>\n",
       "  </tbody>\n",
       "</table>\n",
       "<p>5 rows × 40 columns</p>\n",
       "</div>"
      ],
      "text/plain": [
       "   Survived  Pclass                                               Name  \\\n",
       "0         0       3                            Braund, Mr. Owen Harris   \n",
       "1         1       1  Cumings, Mrs. John Bradley (Florence Briggs Th...   \n",
       "2         1       3                             Heikkinen, Miss. Laina   \n",
       "3         1       1       Futrelle, Mrs. Jacques Heath (Lily May Peel)   \n",
       "4         0       3                           Allen, Mr. William Henry   \n",
       "\n",
       "      Sex   Age  SibSp  Parch            Ticket     Fare Embarked  ...  \\\n",
       "0    male  22.0      1      0         A/5 21171   7.2500        S  ...   \n",
       "1  female  38.0      1      0          PC 17599  71.2833        C  ...   \n",
       "2  female  26.0      0      0  STON/O2. 3101282   7.9250        S  ...   \n",
       "3  female  35.0      1      0            113803  53.1000        S  ...   \n",
       "4    male  35.0      0      0            373450   8.0500        S  ...   \n",
       "\n",
       "   Fare_cat_3  Title_Miss  Title_Mr Title_Mrs Title_Rare  FamilySize_ind_1  \\\n",
       "0           0           0         1         0          0                 1   \n",
       "1           1           0         0         1          0                 1   \n",
       "2           0           1         0         0          0                 0   \n",
       "3           1           0         0         1          0                 1   \n",
       "4           0           0         1         0          0                 0   \n",
       "\n",
       "   FamilySize_ind_2  FamilySize_ind_3  FamilySize_ind_4  FamilySize_ind_5  \n",
       "0                 0                 0                 0                 0  \n",
       "1                 0                 0                 0                 0  \n",
       "2                 0                 0                 0                 0  \n",
       "3                 0                 0                 0                 0  \n",
       "4                 0                 0                 0                 0  \n",
       "\n",
       "[5 rows x 40 columns]"
      ]
     },
     "execution_count": 65,
     "metadata": {},
     "output_type": "execute_result"
    }
   ],
   "source": [
    "train = pd.concat([train, df1, df2, df3, df4, df5, df7, df8 ], axis=1 )\n",
    "train.head()"
   ]
  },
  {
   "cell_type": "code",
   "execution_count": 66,
   "metadata": {},
   "outputs": [
    {
     "data": {
      "text/plain": [
       "Index(['Survived', 'Pclass', 'Name', 'Sex', 'Age', 'SibSp', 'Parch', 'Ticket',\n",
       "       'Fare', 'Embarked', 'Age_ind', 'FamilySize', 'FamilySize_ind', 'Title',\n",
       "       'FareBand', 'Fare_cat', 'Pclass_2', 'Pclass_3', 'Sex_male',\n",
       "       'Embarked_Q', 'Embarked_S', 'Age_ind_1', 'Age_ind_2', 'Age_ind_3',\n",
       "       'Age_ind_4', 'Age_ind_5', 'Age_ind_6', 'Age_ind_7', 'Fare_cat_1',\n",
       "       'Fare_cat_2', 'Fare_cat_3', 'Title_Miss', 'Title_Mr', 'Title_Mrs',\n",
       "       'Title_Rare', 'FamilySize_ind_1', 'FamilySize_ind_2',\n",
       "       'FamilySize_ind_3', 'FamilySize_ind_4', 'FamilySize_ind_5'],\n",
       "      dtype='object')"
      ]
     },
     "execution_count": 66,
     "metadata": {},
     "output_type": "execute_result"
    }
   ],
   "source": [
    "train.columns"
   ]
  },
  {
   "cell_type": "code",
   "execution_count": 67,
   "metadata": {
    "scrolled": true
   },
   "outputs": [
    {
     "data": {
      "text/html": [
       "<div>\n",
       "<style scoped>\n",
       "    .dataframe tbody tr th:only-of-type {\n",
       "        vertical-align: middle;\n",
       "    }\n",
       "\n",
       "    .dataframe tbody tr th {\n",
       "        vertical-align: top;\n",
       "    }\n",
       "\n",
       "    .dataframe thead th {\n",
       "        text-align: right;\n",
       "    }\n",
       "</style>\n",
       "<table border=\"1\" class=\"dataframe\">\n",
       "  <thead>\n",
       "    <tr style=\"text-align: right;\">\n",
       "      <th></th>\n",
       "      <th>Survived</th>\n",
       "      <th>Pclass_2</th>\n",
       "      <th>Pclass_3</th>\n",
       "      <th>Sex_male</th>\n",
       "      <th>Embarked_Q</th>\n",
       "      <th>Embarked_S</th>\n",
       "      <th>Age_ind_1</th>\n",
       "      <th>Age_ind_2</th>\n",
       "      <th>Age_ind_3</th>\n",
       "      <th>Age_ind_4</th>\n",
       "      <th>...</th>\n",
       "      <th>Fare_cat_3</th>\n",
       "      <th>Title_Miss</th>\n",
       "      <th>Title_Mr</th>\n",
       "      <th>Title_Mrs</th>\n",
       "      <th>Title_Rare</th>\n",
       "      <th>FamilySize_ind_1</th>\n",
       "      <th>FamilySize_ind_2</th>\n",
       "      <th>FamilySize_ind_3</th>\n",
       "      <th>FamilySize_ind_4</th>\n",
       "      <th>FamilySize_ind_5</th>\n",
       "    </tr>\n",
       "  </thead>\n",
       "  <tbody>\n",
       "    <tr>\n",
       "      <th>0</th>\n",
       "      <td>0</td>\n",
       "      <td>0</td>\n",
       "      <td>1</td>\n",
       "      <td>1</td>\n",
       "      <td>0</td>\n",
       "      <td>1</td>\n",
       "      <td>0</td>\n",
       "      <td>1</td>\n",
       "      <td>0</td>\n",
       "      <td>0</td>\n",
       "      <td>...</td>\n",
       "      <td>0</td>\n",
       "      <td>0</td>\n",
       "      <td>1</td>\n",
       "      <td>0</td>\n",
       "      <td>0</td>\n",
       "      <td>1</td>\n",
       "      <td>0</td>\n",
       "      <td>0</td>\n",
       "      <td>0</td>\n",
       "      <td>0</td>\n",
       "    </tr>\n",
       "    <tr>\n",
       "      <th>1</th>\n",
       "      <td>1</td>\n",
       "      <td>0</td>\n",
       "      <td>0</td>\n",
       "      <td>0</td>\n",
       "      <td>0</td>\n",
       "      <td>0</td>\n",
       "      <td>0</td>\n",
       "      <td>0</td>\n",
       "      <td>0</td>\n",
       "      <td>0</td>\n",
       "      <td>...</td>\n",
       "      <td>1</td>\n",
       "      <td>0</td>\n",
       "      <td>0</td>\n",
       "      <td>1</td>\n",
       "      <td>0</td>\n",
       "      <td>1</td>\n",
       "      <td>0</td>\n",
       "      <td>0</td>\n",
       "      <td>0</td>\n",
       "      <td>0</td>\n",
       "    </tr>\n",
       "    <tr>\n",
       "      <th>2</th>\n",
       "      <td>1</td>\n",
       "      <td>0</td>\n",
       "      <td>1</td>\n",
       "      <td>0</td>\n",
       "      <td>0</td>\n",
       "      <td>1</td>\n",
       "      <td>0</td>\n",
       "      <td>0</td>\n",
       "      <td>1</td>\n",
       "      <td>0</td>\n",
       "      <td>...</td>\n",
       "      <td>0</td>\n",
       "      <td>1</td>\n",
       "      <td>0</td>\n",
       "      <td>0</td>\n",
       "      <td>0</td>\n",
       "      <td>0</td>\n",
       "      <td>0</td>\n",
       "      <td>0</td>\n",
       "      <td>0</td>\n",
       "      <td>0</td>\n",
       "    </tr>\n",
       "    <tr>\n",
       "      <th>3</th>\n",
       "      <td>1</td>\n",
       "      <td>0</td>\n",
       "      <td>0</td>\n",
       "      <td>0</td>\n",
       "      <td>0</td>\n",
       "      <td>1</td>\n",
       "      <td>0</td>\n",
       "      <td>0</td>\n",
       "      <td>0</td>\n",
       "      <td>0</td>\n",
       "      <td>...</td>\n",
       "      <td>1</td>\n",
       "      <td>0</td>\n",
       "      <td>0</td>\n",
       "      <td>1</td>\n",
       "      <td>0</td>\n",
       "      <td>1</td>\n",
       "      <td>0</td>\n",
       "      <td>0</td>\n",
       "      <td>0</td>\n",
       "      <td>0</td>\n",
       "    </tr>\n",
       "    <tr>\n",
       "      <th>4</th>\n",
       "      <td>0</td>\n",
       "      <td>0</td>\n",
       "      <td>1</td>\n",
       "      <td>1</td>\n",
       "      <td>0</td>\n",
       "      <td>1</td>\n",
       "      <td>0</td>\n",
       "      <td>0</td>\n",
       "      <td>0</td>\n",
       "      <td>0</td>\n",
       "      <td>...</td>\n",
       "      <td>0</td>\n",
       "      <td>0</td>\n",
       "      <td>1</td>\n",
       "      <td>0</td>\n",
       "      <td>0</td>\n",
       "      <td>0</td>\n",
       "      <td>0</td>\n",
       "      <td>0</td>\n",
       "      <td>0</td>\n",
       "      <td>0</td>\n",
       "    </tr>\n",
       "  </tbody>\n",
       "</table>\n",
       "<p>5 rows × 25 columns</p>\n",
       "</div>"
      ],
      "text/plain": [
       "   Survived  Pclass_2  Pclass_3  Sex_male  Embarked_Q  Embarked_S  Age_ind_1  \\\n",
       "0         0         0         1         1           0           1          0   \n",
       "1         1         0         0         0           0           0          0   \n",
       "2         1         0         1         0           0           1          0   \n",
       "3         1         0         0         0           0           1          0   \n",
       "4         0         0         1         1           0           1          0   \n",
       "\n",
       "   Age_ind_2  Age_ind_3  Age_ind_4  ...  Fare_cat_3  Title_Miss  Title_Mr  \\\n",
       "0          1          0          0  ...           0           0         1   \n",
       "1          0          0          0  ...           1           0         0   \n",
       "2          0          1          0  ...           0           1         0   \n",
       "3          0          0          0  ...           1           0         0   \n",
       "4          0          0          0  ...           0           0         1   \n",
       "\n",
       "   Title_Mrs  Title_Rare  FamilySize_ind_1  FamilySize_ind_2  \\\n",
       "0          0           0                 1                 0   \n",
       "1          1           0                 1                 0   \n",
       "2          0           0                 0                 0   \n",
       "3          1           0                 1                 0   \n",
       "4          0           0                 0                 0   \n",
       "\n",
       "   FamilySize_ind_3  FamilySize_ind_4  FamilySize_ind_5  \n",
       "0                 0                 0                 0  \n",
       "1                 0                 0                 0  \n",
       "2                 0                 0                 0  \n",
       "3                 0                 0                 0  \n",
       "4                 0                 0                 0  \n",
       "\n",
       "[5 rows x 25 columns]"
      ]
     },
     "execution_count": 67,
     "metadata": {},
     "output_type": "execute_result"
    }
   ],
   "source": [
    "# 더미변수와 유의미한 독립변수를 제외한 나머지 제거.\n",
    "\n",
    "train.drop(['Pclass', 'Name', 'Sex', 'Age', 'SibSp', 'Parch', 'Ticket',\n",
    "       'Fare', 'Embarked', 'Age_ind', 'FamilySize', 'FamilySize_ind',\n",
    "       'Title', 'FareBand', 'Fare_cat'], axis=1, inplace=True)\n",
    "train.head()"
   ]
  },
  {
   "cell_type": "markdown",
   "metadata": {},
   "source": [
    "# 5. 모델링"
   ]
  },
  {
   "cell_type": "code",
   "execution_count": 68,
   "metadata": {
    "scrolled": true
   },
   "outputs": [
    {
     "data": {
      "text/plain": [
       "(891,)"
      ]
     },
     "execution_count": 68,
     "metadata": {},
     "output_type": "execute_result"
    }
   ],
   "source": [
    "y = train['Survived']\n",
    "y.shape"
   ]
  },
  {
   "cell_type": "code",
   "execution_count": 69,
   "metadata": {},
   "outputs": [
    {
     "data": {
      "text/plain": [
       "(891, 24)"
      ]
     },
     "execution_count": 69,
     "metadata": {},
     "output_type": "execute_result"
    }
   ],
   "source": [
    "X = train.drop('Survived', axis=1)\n",
    "X.shape"
   ]
  },
  {
   "cell_type": "code",
   "execution_count": 70,
   "metadata": {},
   "outputs": [],
   "source": [
    "from sklearn.model_selection import train_test_split\n",
    "\n",
    "X_train, X_test, y_train, y_test = train_test_split(X, y, test_size=0.2, stratify = y)"
   ]
  },
  {
   "cell_type": "code",
   "execution_count": 71,
   "metadata": {
    "scrolled": true
   },
   "outputs": [
    {
     "name": "stdout",
     "output_type": "stream",
     "text": [
      "학습 세트 Shape:(712, 24), 테스트 세트 Shape:(179, 24)\n",
      " 학습 세트 레이블 값 분포 비율\n",
      "0    0.616573\n",
      "1    0.383427\n",
      "Name: Survived, dtype: float64\n",
      "\n",
      " 테스트 세트 레이블 값 분포 비율\n",
      "0    0.614525\n",
      "1    0.385475\n",
      "Name: Survived, dtype: float64\n"
     ]
    }
   ],
   "source": [
    "# 추후 오버,언더,하이드리브 샘플링 적용시 레이블 값 분포를 보기위한 코드.\n",
    "\n",
    "train_cnt = y_train.count()\n",
    "test_cnt = y_test.count()\n",
    "print('학습 세트 Shape:{0}, 테스트 세트 Shape:{1}'.format(X_train.shape , X_test.shape))\n",
    "\n",
    "print(' 학습 세트 레이블 값 분포 비율')\n",
    "print(y_train.value_counts()/train_cnt)\n",
    "print('\\n 테스트 세트 레이블 값 분포 비율')\n",
    "print(y_test.value_counts()/test_cnt)"
   ]
  },
  {
   "cell_type": "code",
   "execution_count": 72,
   "metadata": {},
   "outputs": [
    {
     "name": "stdout",
     "output_type": "stream",
     "text": [
      "Precision for rbf logistic is  0.7246376811594203\n",
      "Recall for rbf logistic is  0.8620689655172413\n",
      "F1_score for rbf logistic is  0.7874015748031497\n",
      "\n",
      "The cross validated precision for logistic is: 0.7648212978647762\n",
      "The cross validated recall for logistic is: 0.73994708994709\n",
      "The cross validated f1_score for logistic is: 0.7494977471770486\n"
     ]
    }
   ],
   "source": [
    "# logistic\n",
    "\n",
    "log_cl =  LogisticRegression(n_jobs = -1)\n",
    "log_cl.fit(X_train, y_train)\n",
    "log_cl_pred = log_cl.predict(X_test)\n",
    "\n",
    "log_cl_cv_pre = cross_val_score(log_cl, X_train, y_train, cv = 10, scoring = 'precision', n_jobs=-1)\n",
    "log_cl_cv_rec = cross_val_score(log_cl, X_train, y_train, cv = 10, scoring = 'recall', n_jobs=-1)\n",
    "log_cl_cv_f1 = cross_val_score(log_cl, X_train, y_train, cv = 10, scoring = 'f1', n_jobs=-1)\n",
    "\n",
    "print('Precision for rbf logistic is ', metrics.precision_score(log_cl_pred, y_test))\n",
    "print('Recall for rbf logistic is ', metrics.recall_score(log_cl_pred, y_test))\n",
    "print('F1_score for rbf logistic is ', metrics.f1_score(log_cl_pred, y_test))\n",
    "print()\n",
    "print('The cross validated precision for logistic is:', log_cl_cv_pre.mean())\n",
    "print('The cross validated recall for logistic is:', log_cl_cv_rec.mean())\n",
    "print('The cross validated f1_score for logistic is:', log_cl_cv_f1.mean())"
   ]
  },
  {
   "cell_type": "code",
   "execution_count": 73,
   "metadata": {},
   "outputs": [
    {
     "name": "stdout",
     "output_type": "stream",
     "text": [
      "Precision for random forest is  0.7391304347826086\n",
      "Recall for random forest is  0.8947368421052632\n",
      "F1_score for random forest is  0.8095238095238095\n",
      "\n",
      "The cross validated precision for random forest is: 0.7600497228119731\n",
      "The cross validated recall for random forest is: 0.7145502645502646\n",
      "The cross validated f1_score for random forest is: 0.7376668533174047\n"
     ]
    }
   ],
   "source": [
    "# Random forest\n",
    "\n",
    "rf_cl = RandomForestClassifier(n_jobs = -1)\n",
    "rf_cl.fit(X_train, y_train)\n",
    "rf_cl_pred = rf_cl.predict(X_test)\n",
    "\n",
    "rf_cl_cv_pre = cross_val_score(rf_cl, X_train, y_train, cv = 10, scoring = 'precision', n_jobs=-1)\n",
    "rf_cl_cv_rec = cross_val_score(rf_cl, X_train, y_train, cv = 10, scoring = 'recall', n_jobs=-1)\n",
    "rf_cl_cv_f1 = cross_val_score(rf_cl, X_train, y_train, cv = 10, scoring = 'f1', n_jobs=-1)\n",
    "\n",
    "print('Precision for random forest is ', metrics.precision_score(rf_cl_pred, y_test))\n",
    "print('Recall for random forest is ', metrics.recall_score(rf_cl_pred, y_test))\n",
    "print('F1_score for random forest is ', metrics.f1_score(rf_cl_pred, y_test))\n",
    "print()\n",
    "print('The cross validated precision for random forest is:', rf_cl_cv_pre.mean())\n",
    "print('The cross validated recall for random forest is:', rf_cl_cv_rec.mean())\n",
    "print('The cross validated f1_score for random forest is:', rf_cl_cv_f1.mean())"
   ]
  },
  {
   "cell_type": "code",
   "execution_count": 74,
   "metadata": {
    "scrolled": true
   },
   "outputs": [
    {
     "name": "stdout",
     "output_type": "stream",
     "text": [
      "Precision for KNN is  0.7681159420289855\n",
      "Recall for KNN is  0.8833333333333333\n",
      "F1_score for KNN is  0.8217054263565893\n",
      "\n",
      "The cross validated precison for KNN is: 0.7648212978647762\n",
      "The cross validated recall for KNN is: 0.73994708994709\n",
      "The cross validated f1_score for KNN is: 0.7494977471770486\n"
     ]
    }
   ],
   "source": [
    "# KNN 군집분석\n",
    "\n",
    "knn_model=KNeighborsClassifier() \n",
    "knn_model.fit(X_train, y_train)\n",
    "knn_model_pred = knn_model.predict(X_test)\n",
    "\n",
    "knn_model_cv_pre = cross_val_score(log_cl, X_train, y_train, cv = 10, scoring = 'precision', n_jobs=-1)\n",
    "knn_model_cv_rec = cross_val_score(log_cl, X_train, y_train, cv = 10, scoring = 'recall', n_jobs=-1)\n",
    "knn_model_cv_f1 = cross_val_score(log_cl, X_train, y_train, cv = 10, scoring = 'f1', n_jobs=-1)\n",
    "\n",
    "print('Precision for KNN is ', metrics.precision_score(knn_model_pred, y_test))\n",
    "print('Recall for KNN is ', metrics.recall_score(knn_model_pred, y_test))\n",
    "print('F1_score for KNN is ', metrics.f1_score(knn_model_pred, y_test))\n",
    "print()\n",
    "print('The cross validated precison for KNN is:', knn_model_cv_pre.mean())\n",
    "print('The cross validated recall for KNN is:', knn_model_cv_rec.mean())\n",
    "print('The cross validated f1_score for KNN is:', knn_model_cv_f1.mean())"
   ]
  },
  {
   "cell_type": "code",
   "execution_count": 75,
   "metadata": {},
   "outputs": [
    {
     "name": "stderr",
     "output_type": "stream",
     "text": [
      "C:\\ProgramData\\Anaconda3\\lib\\site-packages\\ipykernel_launcher.py:4: DeprecationWarning: The default dtype for empty Series will be 'object' instead of 'float64' in a future version. Specify a dtype explicitly to silence this warning.\n",
      "  after removing the cwd from sys.path.\n"
     ]
    },
    {
     "data": {
      "image/png": "[encoded data removed]",
      "text/plain": [
       "<Figure size 864x432 with 1 Axes>"
      ]
     },
     "metadata": {
      "needs_background": "light"
     },
     "output_type": "display_data"
    },
    {
     "name": "stdout",
     "output_type": "stream",
     "text": [
      "Accuracies for different values of n are: [0.73015873 0.70909091 0.77862595 0.79365079 0.82170543] with the max value as  0.8217054263565893\n"
     ]
    }
   ],
   "source": [
    "# KNN 하이퍼파라미터에 따른 F1_Score 차이 보기\n",
    "\n",
    "a_index = list(range(1,6))\n",
    "a = pd.Series()\n",
    "x = [0,1,2,3,4,5]\n",
    "for i in list(range(1,6)):\n",
    "    knn_model = KNeighborsClassifier(n_neighbors=i) \n",
    "    knn_model.fit(X_train, y_train)\n",
    "    knn_model_pred = knn_model.predict(X_test)\n",
    "    a=a.append(pd.Series(metrics.f1_score(knn_model_pred, y_test)))\n",
    "plt.plot(a_index, a)\n",
    "plt.xticks(x)\n",
    "fig=plt.gcf()\n",
    "fig.set_size_inches(12,6)\n",
    "plt.show()\n",
    "print('Accuracies for different values of n are:',a.values,'with the max value as ',a.values.max())"
   ]
  },
  {
   "cell_type": "code",
   "execution_count": 76,
   "metadata": {},
   "outputs": [
    {
     "name": "stdout",
     "output_type": "stream",
     "text": [
      "Precision for Bagged DecisionTree is  0.7246376811594203\n",
      "Recall for Bagged DecisionTree is  0.8771929824561403\n",
      "F1_score for Bagged DecisionTree is  0.7936507936507936\n",
      "\n",
      "The cross validated precision for Bagged DecisionTree is: 0.7544430059085231\n",
      "The cross validated recall for Bagged DecisionTree is: 0.707010582010582\n",
      "The cross validated f1_score for Bagged DecisionTree is: 0.7285913695899676\n"
     ]
    }
   ],
   "source": [
    "# Bagged DecisionTree\n",
    "\n",
    "ba_dt_model = BaggingClassifier(base_estimator = DecisionTreeClassifier(), random_state=0, n_estimators=100, n_jobs=-1)\n",
    "ba_dt_model.fit(X_train, y_train)\n",
    "ba_dt_model_pred = ba_dt_model.predict(X_test)\n",
    "\n",
    "ba_dt_model_cv_pre = cross_val_score(ba_dt_model, X_train, y_train, cv = 10, scoring = 'precision', n_jobs=-1)\n",
    "ba_dt_model_cv_rec = cross_val_score(ba_dt_model, X_train, y_train, cv = 10, scoring = 'recall', n_jobs=-1)\n",
    "ba_dt_model_cv_f1 = cross_val_score(ba_dt_model, X_train, y_train, cv = 10, scoring = 'f1', n_jobs=-1)\n",
    "\n",
    "print('Precision for Bagged DecisionTree is ', metrics.precision_score(ba_dt_model_pred, y_test))\n",
    "print('Recall for Bagged DecisionTree is ', metrics.recall_score(ba_dt_model_pred, y_test))\n",
    "print('F1_score for Bagged DecisionTree is ', metrics.f1_score(ba_dt_model_pred, y_test))\n",
    "print()\n",
    "print('The cross validated precision for Bagged DecisionTree is:', ba_dt_model_cv_pre.mean())\n",
    "print('The cross validated recall for Bagged DecisionTree is:', ba_dt_model_cv_rec.mean())\n",
    "print('The cross validated f1_score for Bagged DecisionTree is:', ba_dt_model_cv_f1.mean())"
   ]
  },
  {
   "cell_type": "code",
   "execution_count": 77,
   "metadata": {},
   "outputs": [
    {
     "name": "stdout",
     "output_type": "stream",
     "text": [
      "Precision for AdaBoost is  0.6956521739130435\n",
      "Recall for rbf AdaBoost is  0.8571428571428571\n",
      "F1_score for rbf AdaBoost is  0.7679999999999999\n",
      "\n",
      "The cross validated precision for AdaBoost is: 0.7737798723016114\n",
      "The cross validated recall for AdaBoost is: 0.7107142857142859\n",
      "The cross validated f1_score for AdaBoost is: 0.7385313533542904\n"
     ]
    }
   ],
   "source": [
    "# AdaBoost (Adaptive boosting)\n",
    "\n",
    "ada_cl = AdaBoostClassifier(n_estimators = 200, learning_rate = 0.1)\n",
    "ada_cl.fit(X_train, y_train)\n",
    "ada_cl_pred = ada_cl.predict(X_test)\n",
    "\n",
    "ada_cl_cv_pre = cross_val_score(ada_cl, X_train, y_train, cv = 10, scoring = 'precision', n_jobs=-1)\n",
    "ada_cl_cv_rec = cross_val_score(ada_cl, X_train, y_train, cv = 10, scoring = 'recall', n_jobs=-1)\n",
    "ada_cl_cv_f1 = cross_val_score(ada_cl, X_train, y_train, cv = 10, scoring = 'f1', n_jobs=-1)\n",
    "\n",
    "print('Precision for AdaBoost is ', metrics.precision_score(ada_cl_pred, y_test))\n",
    "print('Recall for rbf AdaBoost is ', metrics.recall_score(ada_cl_pred, y_test))\n",
    "print('F1_score for rbf AdaBoost is ', metrics.f1_score(ada_cl_pred, y_test))\n",
    "print()\n",
    "print('The cross validated precision for AdaBoost is:', ada_cl_cv_pre.mean())\n",
    "print('The cross validated recall for AdaBoost is:', ada_cl_cv_rec.mean())\n",
    "print('The cross validated f1_score for AdaBoost is:', ada_cl_cv_f1.mean())"
   ]
  },
  {
   "cell_type": "code",
   "execution_count": 78,
   "metadata": {},
   "outputs": [
    {
     "name": "stdout",
     "output_type": "stream",
     "text": [
      "Precision for Gradient Boost is  0.7246376811594203\n",
      "Recall for Gradient Boost is  0.8620689655172413\n",
      "F1_score for Gradient Boost is  0.7874015748031497\n",
      "\n",
      "The cross validated precision for Gradient Boost is: 0.7841812969639057\n",
      "The cross validated recall for Gradient Boost is: 0.6994708994708996\n",
      "The cross validated f1_score for Gradient Boost is: 0.7378386568302535\n"
     ]
    }
   ],
   "source": [
    "# Gradient Boost\n",
    "\n",
    "gr_grad = GradientBoostingClassifier(n_estimators = 200, learning_rate = 0.1)\n",
    "gr_grad.fit(X_train, y_train)\n",
    "gr_grad_pred = gr_grad.predict(X_test)\n",
    "\n",
    "gr_grad_cv_pre = cross_val_score(gr_grad, X_train, y_train, cv = 10, scoring = 'precision', n_jobs=-1)\n",
    "gr_grad_cv_rec = cross_val_score(gr_grad, X_train, y_train, cv = 10, scoring = 'recall', n_jobs=-1)\n",
    "gr_grad_cv_f1 = cross_val_score(gr_grad, X_train, y_train, cv = 10, scoring = 'f1', n_jobs=-1)\n",
    "\n",
    "print('Precision for Gradient Boost is ', metrics.precision_score(gr_grad_pred, y_test))\n",
    "print('Recall for Gradient Boost is ', metrics.recall_score(gr_grad_pred, y_test))\n",
    "print('F1_score for Gradient Boost is ', metrics.f1_score(gr_grad_pred, y_test))\n",
    "print()\n",
    "print('The cross validated precision for Gradient Boost is:', gr_grad_cv_pre.mean())\n",
    "print('The cross validated recall for Gradient Boost is:', gr_grad_cv_rec.mean())\n",
    "print('The cross validated f1_score for Gradient Boost is:', gr_grad_cv_f1.mean())"
   ]
  },
  {
   "cell_type": "code",
   "execution_count": 79,
   "metadata": {},
   "outputs": [
    {
     "name": "stdout",
     "output_type": "stream",
     "text": [
      "Precision for XGBoost is  0.6956521739130435\n",
      "Recall for XGBoost is  0.8888888888888888\n",
      "F1_score for XGBoost is  0.7804878048780488\n",
      "\n",
      "The cross validated prediction for XGBoost is: 0.8034747474747475\n",
      "The cross validated recall for XGBoost is: 0.707010582010582\n",
      "The cross validated f1_score for XGBoost is: 0.7510686183403006\n"
     ]
    }
   ],
   "source": [
    "# XGBoost\n",
    "\n",
    "xgb_model = XGBClassifier(n_estimators = 200, learning_rate = 0.1)\n",
    "xgb_model.fit(X_train,y_train)\n",
    "xgb_model_pred = xgb_model.predict(X_test)\n",
    "\n",
    "xgb_model_cv_pre = cross_val_score(xgb_model, X_train, y_train, cv = 10, scoring = 'precision', n_jobs=-1)\n",
    "xgb_model_cv_rec = cross_val_score(xgb_model, X_train, y_train, cv = 10, scoring = 'recall', n_jobs=-1)\n",
    "xgb_model_cv_f1 = cross_val_score(xgb_model, X_train, y_train, cv = 10, scoring = 'f1', n_jobs=-1)\n",
    "\n",
    "print('Precision for XGBoost is ', metrics.precision_score(xgb_model_pred, y_test))\n",
    "print('Recall for XGBoost is ', metrics.recall_score(xgb_model_pred, y_test))\n",
    "print('F1_score for XGBoost is ', metrics.f1_score(xgb_model_pred, y_test))\n",
    "print()\n",
    "print('The cross validated prediction for XGBoost is:', xgb_model_cv_pre.mean())\n",
    "print('The cross validated recall for XGBoost is:', xgb_model_cv_rec.mean())\n",
    "print('The cross validated f1_score for XGBoost is:', xgb_model_cv_f1.mean())"
   ]
  },
  {
   "cell_type": "code",
   "execution_count": 80,
   "metadata": {},
   "outputs": [
    {
     "name": "stdout",
     "output_type": "stream",
     "text": [
      "Precision for Light GBM is  0.7391304347826086\n",
      "Recall for Light GBM is  0.8947368421052632\n",
      "F1_score for Light GBM is  0.8095238095238095\n",
      "\n",
      "The cross validated precision for Light GBM is: 0.7655808426677991\n",
      "The cross validated recall for Light GBM is: 0.6927248677248677\n",
      "The cross validated f1_score for Light GBM is: 0.725834226611141\n"
     ]
    }
   ],
   "source": [
    "# Light GBM\n",
    "\n",
    "lgbm_clf = LGBMClassifier(n_estimators=400, n_jobs = -1)\n",
    "lgbm_clf.fit(X_train, y_train)\n",
    "lgbm_clf_pred = lgbm_clf.predict(X_test)\n",
    "\n",
    "lgbm_clf_cv_pre = cross_val_score(lgbm_clf, X_train, y_train, cv = 10, scoring = 'precision', n_jobs=-1)\n",
    "lgbm_clf_cv_rec = cross_val_score(lgbm_clf, X_train, y_train, cv = 10, scoring = 'recall', n_jobs=-1)\n",
    "lgbm_clf_cv_f1 = cross_val_score(lgbm_clf, X_train, y_train, cv = 10, scoring = 'f1', n_jobs=-1)\n",
    "\n",
    "print('Precision for Light GBM is ', metrics.precision_score(lgbm_clf_pred, y_test))\n",
    "print('Recall for Light GBM is ', metrics.recall_score(lgbm_clf_pred, y_test))\n",
    "print('F1_score for Light GBM is ', metrics.f1_score(lgbm_clf_pred, y_test))\n",
    "print()\n",
    "print('The cross validated precision for Light GBM is:', lgbm_clf_cv_pre.mean())\n",
    "print('The cross validated recall for Light GBM is:', lgbm_clf_cv_rec.mean())\n",
    "print('The cross validated f1_score for Light GBM is:', lgbm_clf_cv_f1.mean())"
   ]
  },
  {
   "cell_type": "markdown",
   "metadata": {},
   "source": [
    "## 모델별 학습결과 데이터프레임"
   ]
  },
  {
   "cell_type": "code",
   "execution_count": 81,
   "metadata": {
    "scrolled": true
   },
   "outputs": [],
   "source": [
    "results = pd.DataFrame({\n",
    "    'Model': ['Logistic Classifier',\n",
    "              'Random forest', 'Bagged DecisionTree', 'Adaptive Boost', 'knn_model',\n",
    "              'Gradient Boost', 'XGBoost', 'Light GBM'],\n",
    "    'F1_Score': [metrics.f1_score(log_cl_pred, y_test),  \n",
    "                 metrics.f1_score(rf_cl_pred, y_test),\n",
    "                 metrics.f1_score(ba_dt_model_pred, y_test), metrics.f1_score(ada_cl_pred, y_test),\n",
    "                 metrics.f1_score(knn_model_pred, y_test),\n",
    "                 metrics.f1_score(gr_grad_pred, y_test), metrics.f1_score(xgb_model_pred, y_test),\n",
    "                 metrics.f1_score(lgbm_clf_pred, y_test)],\n",
    "    'Precision' :[metrics.precision_score(log_cl_pred, y_test),  \n",
    "                 metrics.precision_score(rf_cl_pred, y_test),\n",
    "                 metrics.precision_score(ba_dt_model_pred, y_test), metrics.precision_score(ada_cl_pred, y_test),\n",
    "                 metrics.precision_score(knn_model_pred, y_test),\n",
    "                 metrics.precision_score(gr_grad_pred, y_test), metrics.precision_score(xgb_model_pred, y_test),\n",
    "                 metrics.precision_score(lgbm_clf_pred, y_test)],\n",
    "    'Recall' : [metrics.recall_score(log_cl_pred, y_test),  \n",
    "                 metrics.recall_score(rf_cl_pred, y_test),\n",
    "                 metrics.recall_score(ba_dt_model_pred, y_test), metrics.recall_score(ada_cl_pred, y_test),\n",
    "                 metrics.recall_score(knn_model_pred, y_test),\n",
    "                 metrics.recall_score(gr_grad_pred, y_test), metrics.recall_score(xgb_model_pred, y_test),\n",
    "                 metrics.recall_score(lgbm_clf_pred, y_test)],\n",
    "    'F1_CV_Mean': [log_cl_cv_f1.mean(), rf_cl_cv_f1.mean(),\n",
    "                ba_dt_model_cv_f1.mean(), ada_cl_cv_f1.mean(), knn_model_cv_f1.mean(),gr_grad_cv_f1.mean(), \n",
    "                xgb_model_cv_f1.mean(), lgbm_clf_cv_f1.mean()],\n",
    "    'F1_CV_std':[log_cl_cv_f1.std(), rf_cl_cv_f1.std(),\n",
    "                ba_dt_model_cv_f1.std(), ada_cl_cv_f1.std(), knn_model_cv_f1.std(), \n",
    "                gr_grad_cv_f1.std(), \n",
    "                xgb_model_cv_f1.std(), lgbm_clf_cv_f1.std()],\n",
    "    'Pre_CV_Mean': [log_cl_cv_pre.mean(), rf_cl_cv_pre.mean(),\n",
    "                ba_dt_model_cv_pre.mean(), ada_cl_cv_pre.mean(), knn_model_cv_pre.mean(),gr_grad_cv_pre.mean(), \n",
    "                xgb_model_cv_pre.mean(), lgbm_clf_cv_pre.mean()],\n",
    "    'Pre_CV_std': [log_cl_cv_pre.std(), rf_cl_cv_pre.std(),\n",
    "                ba_dt_model_cv_pre.std(), ada_cl_cv_pre.std(), knn_model_cv_pre.std(), gr_grad_cv_pre.std(), \n",
    "                xgb_model_cv_pre.std(), lgbm_clf_cv_pre.std()],    \n",
    "    'Recall_CV_Mean': [log_cl_cv_rec.mean(), rf_cl_cv_rec.mean(),\n",
    "                ba_dt_model_cv_rec.mean(), ada_cl_cv_rec.mean(), knn_model_cv_rec.mean(),gr_grad_cv_rec.mean(), \n",
    "                xgb_model_cv_rec.mean(), lgbm_clf_cv_rec.mean()],\n",
    "    'Recall_CV_std': [log_cl_cv_rec.std(), rf_cl_cv_rec.std(),\n",
    "                ba_dt_model_cv_rec.std(), ada_cl_cv_rec.std(), knn_model_cv_rec.std(),gr_grad_cv_rec.std(), \n",
    "                xgb_model_cv_rec.std(), lgbm_clf_cv_rec.std()]    \n",
    "})"
   ]
  },
  {
   "cell_type": "code",
   "execution_count": 82,
   "metadata": {
    "scrolled": true
   },
   "outputs": [
    {
     "data": {
      "text/html": [
       "<div>\n",
       "<style scoped>\n",
       "    .dataframe tbody tr th:only-of-type {\n",
       "        vertical-align: middle;\n",
       "    }\n",
       "\n",
       "    .dataframe tbody tr th {\n",
       "        vertical-align: top;\n",
       "    }\n",
       "\n",
       "    .dataframe thead th {\n",
       "        text-align: right;\n",
       "    }\n",
       "</style>\n",
       "<table border=\"1\" class=\"dataframe\">\n",
       "  <thead>\n",
       "    <tr style=\"text-align: right;\">\n",
       "      <th></th>\n",
       "      <th>F1_Score</th>\n",
       "      <th>Precision</th>\n",
       "      <th>Recall</th>\n",
       "      <th>F1_CV_Mean</th>\n",
       "      <th>F1_CV_std</th>\n",
       "      <th>Pre_CV_Mean</th>\n",
       "      <th>Pre_CV_std</th>\n",
       "      <th>Recall_CV_Mean</th>\n",
       "      <th>Recall_CV_std</th>\n",
       "    </tr>\n",
       "    <tr>\n",
       "      <th>Model</th>\n",
       "      <th></th>\n",
       "      <th></th>\n",
       "      <th></th>\n",
       "      <th></th>\n",
       "      <th></th>\n",
       "      <th></th>\n",
       "      <th></th>\n",
       "      <th></th>\n",
       "      <th></th>\n",
       "    </tr>\n",
       "  </thead>\n",
       "  <tbody>\n",
       "    <tr>\n",
       "      <th>XGBoost</th>\n",
       "      <td>0.780488</td>\n",
       "      <td>0.695652</td>\n",
       "      <td>0.888889</td>\n",
       "      <td>0.751069</td>\n",
       "      <td>0.065779</td>\n",
       "      <td>0.803475</td>\n",
       "      <td>0.074418</td>\n",
       "      <td>0.707011</td>\n",
       "      <td>0.069134</td>\n",
       "    </tr>\n",
       "    <tr>\n",
       "      <th>Logistic Classifier</th>\n",
       "      <td>0.787402</td>\n",
       "      <td>0.724638</td>\n",
       "      <td>0.862069</td>\n",
       "      <td>0.749498</td>\n",
       "      <td>0.069473</td>\n",
       "      <td>0.764821</td>\n",
       "      <td>0.081368</td>\n",
       "      <td>0.739947</td>\n",
       "      <td>0.085926</td>\n",
       "    </tr>\n",
       "    <tr>\n",
       "      <th>knn_model</th>\n",
       "      <td>0.821705</td>\n",
       "      <td>0.768116</td>\n",
       "      <td>0.883333</td>\n",
       "      <td>0.749498</td>\n",
       "      <td>0.069473</td>\n",
       "      <td>0.764821</td>\n",
       "      <td>0.081368</td>\n",
       "      <td>0.739947</td>\n",
       "      <td>0.085926</td>\n",
       "    </tr>\n",
       "    <tr>\n",
       "      <th>Adaptive Boost</th>\n",
       "      <td>0.768000</td>\n",
       "      <td>0.695652</td>\n",
       "      <td>0.857143</td>\n",
       "      <td>0.738531</td>\n",
       "      <td>0.069653</td>\n",
       "      <td>0.773780</td>\n",
       "      <td>0.077942</td>\n",
       "      <td>0.710714</td>\n",
       "      <td>0.087001</td>\n",
       "    </tr>\n",
       "    <tr>\n",
       "      <th>Gradient Boost</th>\n",
       "      <td>0.787402</td>\n",
       "      <td>0.724638</td>\n",
       "      <td>0.862069</td>\n",
       "      <td>0.737839</td>\n",
       "      <td>0.083222</td>\n",
       "      <td>0.784181</td>\n",
       "      <td>0.083316</td>\n",
       "      <td>0.699471</td>\n",
       "      <td>0.094751</td>\n",
       "    </tr>\n",
       "    <tr>\n",
       "      <th>Random forest</th>\n",
       "      <td>0.809524</td>\n",
       "      <td>0.739130</td>\n",
       "      <td>0.894737</td>\n",
       "      <td>0.737667</td>\n",
       "      <td>0.064701</td>\n",
       "      <td>0.760050</td>\n",
       "      <td>0.071265</td>\n",
       "      <td>0.714550</td>\n",
       "      <td>0.082967</td>\n",
       "    </tr>\n",
       "    <tr>\n",
       "      <th>Bagged DecisionTree</th>\n",
       "      <td>0.793651</td>\n",
       "      <td>0.724638</td>\n",
       "      <td>0.877193</td>\n",
       "      <td>0.728591</td>\n",
       "      <td>0.061096</td>\n",
       "      <td>0.754443</td>\n",
       "      <td>0.071503</td>\n",
       "      <td>0.707011</td>\n",
       "      <td>0.065045</td>\n",
       "    </tr>\n",
       "    <tr>\n",
       "      <th>Light GBM</th>\n",
       "      <td>0.809524</td>\n",
       "      <td>0.739130</td>\n",
       "      <td>0.894737</td>\n",
       "      <td>0.725834</td>\n",
       "      <td>0.060751</td>\n",
       "      <td>0.765581</td>\n",
       "      <td>0.052904</td>\n",
       "      <td>0.692725</td>\n",
       "      <td>0.078320</td>\n",
       "    </tr>\n",
       "  </tbody>\n",
       "</table>\n",
       "</div>"
      ],
      "text/plain": [
       "                     F1_Score  Precision    Recall  F1_CV_Mean  F1_CV_std  \\\n",
       "Model                                                                       \n",
       "XGBoost              0.780488   0.695652  0.888889    0.751069   0.065779   \n",
       "Logistic Classifier  0.787402   0.724638  0.862069    0.749498   0.069473   \n",
       "knn_model            0.821705   0.768116  0.883333    0.749498   0.069473   \n",
       "Adaptive Boost       0.768000   0.695652  0.857143    0.738531   0.069653   \n",
       "Gradient Boost       0.787402   0.724638  0.862069    0.737839   0.083222   \n",
       "Random forest        0.809524   0.739130  0.894737    0.737667   0.064701   \n",
       "Bagged DecisionTree  0.793651   0.724638  0.877193    0.728591   0.061096   \n",
       "Light GBM            0.809524   0.739130  0.894737    0.725834   0.060751   \n",
       "\n",
       "                     Pre_CV_Mean  Pre_CV_std  Recall_CV_Mean  Recall_CV_std  \n",
       "Model                                                                        \n",
       "XGBoost                 0.803475    0.074418        0.707011       0.069134  \n",
       "Logistic Classifier     0.764821    0.081368        0.739947       0.085926  \n",
       "knn_model               0.764821    0.081368        0.739947       0.085926  \n",
       "Adaptive Boost          0.773780    0.077942        0.710714       0.087001  \n",
       "Gradient Boost          0.784181    0.083316        0.699471       0.094751  \n",
       "Random forest           0.760050    0.071265        0.714550       0.082967  \n",
       "Bagged DecisionTree     0.754443    0.071503        0.707011       0.065045  \n",
       "Light GBM               0.765581    0.052904        0.692725       0.078320  "
      ]
     },
     "metadata": {},
     "output_type": "display_data"
    }
   ],
   "source": [
    "result = results.sort_values(by='F1_CV_Mean', ascending=False)\n",
    "result = result.set_index('Model')\n",
    "display(result.head(13))"
   ]
  },
  {
   "cell_type": "markdown",
   "metadata": {},
   "source": [
    "## 최적의 임계값 찾기"
   ]
  },
  {
   "cell_type": "code",
   "execution_count": 83,
   "metadata": {},
   "outputs": [],
   "source": [
    "# 최적의 임계값 찾기\n",
    "from sklearn.preprocessing import Binarizer\n",
    "\n",
    "def Find_threshold(model, X_test, y_test):\n",
    "    thresholds = np.arange(0,1,0.05)\n",
    "    threshold_count = []\n",
    "    pred_proba=model.predict_proba(X_test)\n",
    "    pred_proba_1 = pred_proba[:,1].reshape(-1,1)\n",
    "    for threshold in thresholds:\n",
    "        binarizer = Binarizer(threshold=threshold)\n",
    "        model_cl_pred = binarizer.transform(pred_proba_1)\n",
    "        threshold_count.append([threshold, metrics.f1_score(model_cl_pred, y_test)])\n",
    "\n",
    "    MAX=thresholds[np.array(threshold_count)[:,1].argmax()]\n",
    "    \n",
    "    thresholds = np.arange(MAX-0.05,MAX+0.05,0.005)\n",
    "    threshold_count = []\n",
    "    for threshold in thresholds:\n",
    "        binarizer = Binarizer(threshold=threshold)\n",
    "        model_cl_pred = binarizer.transform(pred_proba_1)\n",
    "        #threshold_count.append([threshold, metrics.f1_score(log_cl_pred, y_test)])\n",
    "        #print('threshold: {0:.4f}, f1_score: {1:.4f}'.format(threshold,metrics.f1_score(model_cl_pred, y_test)))\n",
    "        threshold_count.append([threshold, metrics.f1_score(model_cl_pred, y_test)])\n",
    "    \n",
    "    threshold=np.round(thresholds[np.array(threshold_count)[:,1].argmax()],4)\n",
    "    \n",
    "    return np.round(thresholds[np.array(threshold_count)[:,1].argmax()],4), np.round(metrics.f1_score(Binarizer(threshold=thresholds[np.array(threshold_count)[:,1].argmax()]).transform(pred_proba_1), y_test),4)\n"
   ]
  },
  {
   "cell_type": "code",
   "execution_count": 84,
   "metadata": {},
   "outputs": [],
   "source": [
    "def Find_metrics(model, threshold, X_test, y_test):\n",
    "    pred_proba=model.predict_proba(X_test)\n",
    "    pred_proba_1 = pred_proba[:,1].reshape(-1,1)\n",
    "    binarizer = Binarizer(threshold=threshold)\n",
    "    model_cl_pred = binarizer.transform(pred_proba_1)\n",
    "    confusion = confusion_matrix(y_test,model_cl_pred)\n",
    "    \n",
    "    print(model)\n",
    "    print('오차 행렬')\n",
    "    print(confusion)\n",
    "    print('Precision is {0:.4f}'.format(metrics.precision_score(model_cl_pred, y_test)))\n",
    "    print('Recall is {0:.4f}'.format(metrics.recall_score(model_cl_pred, y_test)))\n",
    "    print('F1_score is {0:.4f}'.format(metrics.f1_score(model_cl_pred, y_test)))\n",
    "    print('\\n')"
   ]
  },
  {
   "cell_type": "code",
   "execution_count": 85,
   "metadata": {
    "scrolled": false
   },
   "outputs": [
    {
     "name": "stdout",
     "output_type": "stream",
     "text": [
      "RandomForestClassifier(n_estimators=200, n_jobs=-1)\n",
      "오차 행렬\n",
      "[[100  10]\n",
      " [ 18  51]]\n",
      "Precision is 0.7391\n",
      "Recall is 0.8361\n",
      "F1_score is 0.7846\n",
      "\n",
      "\n",
      "LogisticRegression(n_jobs=-1)\n",
      "오차 행렬\n",
      "[[98 12]\n",
      " [13 56]]\n",
      "Precision is 0.8116\n",
      "Recall is 0.8235\n",
      "F1_score is 0.8175\n",
      "\n",
      "\n",
      "KNeighborsClassifier()\n",
      "오차 행렬\n",
      "[[103   7]\n",
      " [ 16  53]]\n",
      "Precision is 0.7681\n",
      "Recall is 0.8833\n",
      "F1_score is 0.8217\n",
      "\n",
      "\n",
      "BaggingClassifier(base_estimator=DecisionTreeClassifier(), n_estimators=100,\n",
      "                  n_jobs=-1, random_state=0)\n",
      "오차 행렬\n",
      "[[101   9]\n",
      " [ 19  50]]\n",
      "Precision is 0.7246\n",
      "Recall is 0.8475\n",
      "F1_score is 0.7812\n",
      "\n",
      "\n",
      "AdaBoostClassifier(learning_rate=0.1, n_estimators=200)\n",
      "오차 행렬\n",
      "[[102   8]\n",
      " [ 16  53]]\n",
      "Precision is 0.7681\n",
      "Recall is 0.8689\n",
      "F1_score is 0.8154\n",
      "\n",
      "\n",
      "GradientBoostingClassifier(n_estimators=200)\n",
      "오차 행렬\n",
      "[[102   8]\n",
      " [ 17  52]]\n",
      "Precision is 0.7536\n",
      "Recall is 0.8667\n",
      "F1_score is 0.8062\n",
      "\n",
      "\n",
      "XGBClassifier(base_score=0.5, booster='gbtree', colsample_bylevel=1,\n",
      "              colsample_bynode=1, colsample_bytree=1, gamma=0, gpu_id=-1,\n",
      "              importance_type='gain', interaction_constraints='',\n",
      "              learning_rate=0.1, max_delta_step=0, max_depth=6,\n",
      "              min_child_weight=1, missing=nan, monotone_constraints='()',\n",
      "              n_estimators=200, n_jobs=0, num_parallel_tree=1, random_state=0,\n",
      "              reg_alpha=0, reg_lambda=1, scale_pos_weight=1, subsample=1,\n",
      "              tree_method='exact', validate_parameters=1, verbosity=None)\n",
      "오차 행렬\n",
      "[[104   6]\n",
      " [ 20  49]]\n",
      "Precision is 0.7101\n",
      "Recall is 0.8909\n",
      "F1_score is 0.7903\n",
      "\n",
      "\n",
      "LGBMClassifier(n_estimators=400)\n",
      "오차 행렬\n",
      "[[100  10]\n",
      " [ 18  51]]\n",
      "Precision is 0.7391\n",
      "Recall is 0.8361\n",
      "F1_score is 0.7846\n",
      "\n",
      "\n"
     ]
    }
   ],
   "source": [
    "def model_define(X_train, y_train, X_test, y_test):\n",
    "    rf_cl = RandomForestClassifier(n_estimators = 200, n_jobs = -1)\n",
    "    rf_cl.fit(X_train, y_train)\n",
    "    rf_cl_thr=Find_threshold(rf_cl,X_train, y_train)[0]\n",
    "    Find_metrics(rf_cl, rf_cl_thr, X_test, y_test)\n",
    "    \n",
    "    lr_cl = LogisticRegression(n_jobs=-1)\n",
    "    lr_cl.fit(X_train, y_train)\n",
    "    lr_cl_thr=Find_threshold(lr_cl,X_train, y_train)[0]\n",
    "    Find_metrics(lr_cl, lr_cl_thr, X_test, y_test)\n",
    "    \n",
    "    knn_model=KNeighborsClassifier() \n",
    "    knn_model.fit(X_train, y_train)\n",
    "    knn_model_thr=Find_threshold(knn_model,X_train, y_train)[0]\n",
    "    Find_metrics(knn_model, knn_model_thr, X_test, y_test)\n",
    "    \n",
    "    ba_dt_model = BaggingClassifier(base_estimator = DecisionTreeClassifier(), random_state=0, n_estimators=100, n_jobs=-1)\n",
    "    ba_dt_model.fit(X_train, y_train)\n",
    "    ba_dt_model_thr=Find_threshold(ba_dt_model,X_train, y_train)[0]\n",
    "    Find_metrics(ba_dt_model, ba_dt_model_thr, X_test, y_test)\n",
    "    \n",
    "    ada_cl = AdaBoostClassifier(n_estimators = 200, learning_rate = 0.1)\n",
    "    ada_cl.fit(X_train, y_train)\n",
    "    ada_cl_thr=Find_threshold(ada_cl,X_train, y_train)[0]\n",
    "    Find_metrics(ada_cl, ada_cl_thr, X_test, y_test)\n",
    "    \n",
    "    gr_grad = GradientBoostingClassifier(n_estimators = 200, learning_rate = 0.1)\n",
    "    gr_grad.fit(X_train, y_train)\n",
    "    gr_grad_thr=Find_threshold(gr_grad,X_train, y_train)[0]\n",
    "    Find_metrics(gr_grad,gr_grad_thr, X_test, y_test)\n",
    "    \n",
    "    xgb_model = XGBClassifier(n_estimators = 200, learning_rate = 0.1)\n",
    "    xgb_model.fit(X_train,y_train)\n",
    "    xgb_model_thr=Find_threshold(xgb_model,X_train, y_train)[0]\n",
    "    Find_metrics(xgb_model, xgb_model_thr, X_test, y_test)\n",
    "    \n",
    "    lgbm_clf = LGBMClassifier(n_estimators=400, n_jobs = -1)\n",
    "    lgbm_clf.fit(X_train, y_train)\n",
    "    lgbm_clf_thr=Find_threshold(lgbm_clf,X_train, y_train)[0]\n",
    "    Find_metrics(lgbm_clf, lgbm_clf_thr, X_test, y_test)\n",
    "    \n",
    "model_define(X_train, y_train, X_test, y_test)"
   ]
  },
  {
   "cell_type": "markdown",
   "metadata": {},
   "source": [
    "# 6. 하이퍼파라미터 튜닝(Light GBM)"
   ]
  },
  {
   "cell_type": "markdown",
   "metadata": {},
   "source": [
    "## 6-1. GridSearchCV"
   ]
  },
  {
   "cell_type": "code",
   "execution_count": 86,
   "metadata": {},
   "outputs": [],
   "source": [
    "from sklearn.model_selection import GridSearchCV\n",
    "\n",
    "params = {'num_leaves': [32, 64],\n",
    "          'max_depth':[128, 160, None],\n",
    "          'min_child_samples':[60, 100],\n",
    "          'subsample':[0.8, 1]}\n",
    "\n",
    "gridcv = GridSearchCV(lgbm_clf, param_grid=params, verbose=3, n_jobs=-1, cv=3)"
   ]
  },
  {
   "cell_type": "code",
   "execution_count": 87,
   "metadata": {
    "scrolled": false
   },
   "outputs": [
    {
     "name": "stdout",
     "output_type": "stream",
     "text": [
      "Fitting 3 folds for each of 24 candidates, totalling 72 fits\n"
     ]
    },
    {
     "name": "stderr",
     "output_type": "stream",
     "text": [
      "[Parallel(n_jobs=-1)]: Using backend LokyBackend with 8 concurrent workers.\n",
      "[Parallel(n_jobs=-1)]: Done  16 tasks      | elapsed:    0.7s\n"
     ]
    },
    {
     "name": "stdout",
     "output_type": "stream",
     "text": [
      "[1]\ttraining's binary_logloss: 0.630436\tvalid_1's binary_logloss: 0.62747\n",
      "Training until validation scores don't improve for 30 rounds\n",
      "[2]\ttraining's binary_logloss: 0.602266\tvalid_1's binary_logloss: 0.59583\n",
      "[3]\ttraining's binary_logloss: 0.579366\tvalid_1's binary_logloss: 0.569063\n",
      "[4]\ttraining's binary_logloss: 0.559256\tvalid_1's binary_logloss: 0.54478\n",
      "[5]\ttraining's binary_logloss: 0.542584\tvalid_1's binary_logloss: 0.525687\n",
      "[6]\ttraining's binary_logloss: 0.52823\tvalid_1's binary_logloss: 0.50822\n",
      "[7]\ttraining's binary_logloss: 0.515891\tvalid_1's binary_logloss: 0.493498\n",
      "[8]\ttraining's binary_logloss: 0.505412\tvalid_1's binary_logloss: 0.480634\n",
      "[9]\ttraining's binary_logloss: 0.496485\tvalid_1's binary_logloss: 0.470364\n",
      "[10]\ttraining's binary_logloss: 0.488548\tvalid_1's binary_logloss: 0.460096\n",
      "[11]\ttraining's binary_logloss: 0.481913\tvalid_1's binary_logloss: 0.452431\n",
      "[12]\ttraining's binary_logloss: 0.476036\tvalid_1's binary_logloss: 0.445084\n",
      "[13]\ttraining's binary_logloss: 0.470875\tvalid_1's binary_logloss: 0.438498\n",
      "[14]\ttraining's binary_logloss: 0.466142\tvalid_1's binary_logloss: 0.432059\n",
      "[15]\ttraining's binary_logloss: 0.462304\tvalid_1's binary_logloss: 0.427209\n",
      "[16]\ttraining's binary_logloss: 0.457774\tvalid_1's binary_logloss: 0.421867\n",
      "[17]\ttraining's binary_logloss: 0.454344\tvalid_1's binary_logloss: 0.418666\n",
      "[18]\ttraining's binary_logloss: 0.45093\tvalid_1's binary_logloss: 0.415358\n",
      "[19]\ttraining's binary_logloss: 0.448232\tvalid_1's binary_logloss: 0.41286\n",
      "[20]\ttraining's binary_logloss: 0.444864\tvalid_1's binary_logloss: 0.407756\n",
      "[21]\ttraining's binary_logloss: 0.442195\tvalid_1's binary_logloss: 0.404292\n",
      "[22]\ttraining's binary_logloss: 0.439936\tvalid_1's binary_logloss: 0.400483\n",
      "[23]\ttraining's binary_logloss: 0.43812\tvalid_1's binary_logloss: 0.399088\n",
      "[24]\ttraining's binary_logloss: 0.436427\tvalid_1's binary_logloss: 0.395719\n",
      "[25]\ttraining's binary_logloss: 0.434677\tvalid_1's binary_logloss: 0.393264\n",
      "[26]\ttraining's binary_logloss: 0.4332\tvalid_1's binary_logloss: 0.391443\n",
      "[27]\ttraining's binary_logloss: 0.431944\tvalid_1's binary_logloss: 0.390689\n",
      "[28]\ttraining's binary_logloss: 0.43079\tvalid_1's binary_logloss: 0.388133\n",
      "[29]\ttraining's binary_logloss: 0.429706\tvalid_1's binary_logloss: 0.387004\n",
      "[30]\ttraining's binary_logloss: 0.427946\tvalid_1's binary_logloss: 0.385203\n",
      "[31]\ttraining's binary_logloss: 0.42675\tvalid_1's binary_logloss: 0.385051\n",
      "[32]\ttraining's binary_logloss: 0.425328\tvalid_1's binary_logloss: 0.383528\n",
      "[33]\ttraining's binary_logloss: 0.424556\tvalid_1's binary_logloss: 0.382745\n",
      "[34]\ttraining's binary_logloss: 0.422761\tvalid_1's binary_logloss: 0.381\n",
      "[35]\ttraining's binary_logloss: 0.421897\tvalid_1's binary_logloss: 0.381014\n",
      "[36]\ttraining's binary_logloss: 0.420437\tvalid_1's binary_logloss: 0.379549\n",
      "[37]\ttraining's binary_logloss: 0.419284\tvalid_1's binary_logloss: 0.377822\n",
      "[38]\ttraining's binary_logloss: 0.418738\tvalid_1's binary_logloss: 0.377569\n",
      "[39]\ttraining's binary_logloss: 0.41778\tvalid_1's binary_logloss: 0.37609\n",
      "[40]\ttraining's binary_logloss: 0.417324\tvalid_1's binary_logloss: 0.375723\n",
      "[41]\ttraining's binary_logloss: 0.416851\tvalid_1's binary_logloss: 0.37479\n",
      "[42]\ttraining's binary_logloss: 0.416235\tvalid_1's binary_logloss: 0.374706\n",
      "[43]\ttraining's binary_logloss: 0.415539\tvalid_1's binary_logloss: 0.373576\n",
      "[44]\ttraining's binary_logloss: 0.415183\tvalid_1's binary_logloss: 0.373508\n",
      "[45]\ttraining's binary_logloss: 0.414602\tvalid_1's binary_logloss: 0.372529\n",
      "[46]\ttraining's binary_logloss: 0.414116\tvalid_1's binary_logloss: 0.37337\n",
      "[47]\ttraining's binary_logloss: 0.413531\tvalid_1's binary_logloss: 0.37312\n",
      "[48]\ttraining's binary_logloss: 0.413061\tvalid_1's binary_logloss: 0.374058\n",
      "[49]\ttraining's binary_logloss: 0.412576\tvalid_1's binary_logloss: 0.373818\n",
      "[50]\ttraining's binary_logloss: 0.41233\tvalid_1's binary_logloss: 0.37312\n",
      "[51]\ttraining's binary_logloss: 0.411923\tvalid_1's binary_logloss: 0.374039\n",
      "[52]\ttraining's binary_logloss: 0.411618\tvalid_1's binary_logloss: 0.373922\n",
      "[53]\ttraining's binary_logloss: 0.411167\tvalid_1's binary_logloss: 0.37398\n",
      "[54]\ttraining's binary_logloss: 0.410778\tvalid_1's binary_logloss: 0.37313\n",
      "[55]\ttraining's binary_logloss: 0.41056\tvalid_1's binary_logloss: 0.372419\n",
      "[56]\ttraining's binary_logloss: 0.410202\tvalid_1's binary_logloss: 0.373349\n",
      "[57]\ttraining's binary_logloss: 0.409812\tvalid_1's binary_logloss: 0.373465\n",
      "[58]\ttraining's binary_logloss: 0.40961\tvalid_1's binary_logloss: 0.372785\n",
      "[59]\ttraining's binary_logloss: 0.40921\tvalid_1's binary_logloss: 0.373088\n",
      "[60]\ttraining's binary_logloss: 0.408854\tvalid_1's binary_logloss: 0.372943\n",
      "[61]\ttraining's binary_logloss: 0.408293\tvalid_1's binary_logloss: 0.371588\n",
      "[62]\ttraining's binary_logloss: 0.407948\tvalid_1's binary_logloss: 0.371901\n",
      "[63]\ttraining's binary_logloss: 0.40749\tvalid_1's binary_logloss: 0.372135\n",
      "[64]\ttraining's binary_logloss: 0.40708\tvalid_1's binary_logloss: 0.370988\n",
      "[65]\ttraining's binary_logloss: 0.406719\tvalid_1's binary_logloss: 0.371278\n",
      "[66]\ttraining's binary_logloss: 0.406185\tvalid_1's binary_logloss: 0.37106\n",
      "[67]\ttraining's binary_logloss: 0.40586\tvalid_1's binary_logloss: 0.36997\n",
      "[68]\ttraining's binary_logloss: 0.405562\tvalid_1's binary_logloss: 0.3703\n",
      "[69]\ttraining's binary_logloss: 0.405204\tvalid_1's binary_logloss: 0.369608\n",
      "[70]\ttraining's binary_logloss: 0.404969\tvalid_1's binary_logloss: 0.370363\n",
      "[71]\ttraining's binary_logloss: 0.404575\tvalid_1's binary_logloss: 0.370171\n",
      "[72]\ttraining's binary_logloss: 0.403972\tvalid_1's binary_logloss: 0.37006\n",
      "[73]\ttraining's binary_logloss: 0.403772\tvalid_1's binary_logloss: 0.370797\n",
      "[74]\ttraining's binary_logloss: 0.403296\tvalid_1's binary_logloss: 0.369374\n",
      "[75]\ttraining's binary_logloss: 0.403099\tvalid_1's binary_logloss: 0.370326\n",
      "[76]\ttraining's binary_logloss: 0.402836\tvalid_1's binary_logloss: 0.370676\n",
      "[77]\ttraining's binary_logloss: 0.402338\tvalid_1's binary_logloss: 0.37045\n",
      "[78]\ttraining's binary_logloss: 0.401934\tvalid_1's binary_logloss: 0.369157\n",
      "[79]\ttraining's binary_logloss: 0.401509\tvalid_1's binary_logloss: 0.369482\n",
      "[80]\ttraining's binary_logloss: 0.401219\tvalid_1's binary_logloss: 0.369173\n",
      "[81]\ttraining's binary_logloss: 0.400731\tvalid_1's binary_logloss: 0.370128\n",
      "[82]\ttraining's binary_logloss: 0.40032\tvalid_1's binary_logloss: 0.37071\n",
      "[83]\ttraining's binary_logloss: 0.400042\tvalid_1's binary_logloss: 0.370762\n",
      "[84]\ttraining's binary_logloss: 0.399678\tvalid_1's binary_logloss: 0.371286\n",
      "[85]\ttraining's binary_logloss: 0.399286\tvalid_1's binary_logloss: 0.370988\n",
      "[86]\ttraining's binary_logloss: 0.399051\tvalid_1's binary_logloss: 0.370499\n",
      "[87]\ttraining's binary_logloss: 0.398862\tvalid_1's binary_logloss: 0.370546\n",
      "[88]\ttraining's binary_logloss: 0.398658\tvalid_1's binary_logloss: 0.370013\n",
      "[89]\ttraining's binary_logloss: 0.3983\tvalid_1's binary_logloss: 0.370198\n",
      "[90]\ttraining's binary_logloss: 0.397959\tvalid_1's binary_logloss: 0.37016\n",
      "[91]\ttraining's binary_logloss: 0.397646\tvalid_1's binary_logloss: 0.370374\n",
      "[92]\ttraining's binary_logloss: 0.397018\tvalid_1's binary_logloss: 0.370341\n",
      "[93]\ttraining's binary_logloss: 0.396732\tvalid_1's binary_logloss: 0.370585\n",
      "[94]\ttraining's binary_logloss: 0.396388\tvalid_1's binary_logloss: 0.371198\n",
      "[95]\ttraining's binary_logloss: 0.395826\tvalid_1's binary_logloss: 0.371184\n",
      "[96]\ttraining's binary_logloss: 0.395369\tvalid_1's binary_logloss: 0.371225\n",
      "[97]\ttraining's binary_logloss: 0.39508\tvalid_1's binary_logloss: 0.371448\n",
      "[98]\ttraining's binary_logloss: 0.394785\tvalid_1's binary_logloss: 0.371792\n",
      "[99]\ttraining's binary_logloss: 0.39436\tvalid_1's binary_logloss: 0.371856\n",
      "[100]\ttraining's binary_logloss: 0.394109\tvalid_1's binary_logloss: 0.372046\n",
      "[101]\ttraining's binary_logloss: 0.393669\tvalid_1's binary_logloss: 0.372825\n",
      "[102]\ttraining's binary_logloss: 0.392897\tvalid_1's binary_logloss: 0.373343\n",
      "[103]\ttraining's binary_logloss: 0.392526\tvalid_1's binary_logloss: 0.373411\n",
      "[104]\ttraining's binary_logloss: 0.392306\tvalid_1's binary_logloss: 0.373571\n",
      "[105]\ttraining's binary_logloss: 0.39198\tvalid_1's binary_logloss: 0.373673\n",
      "[106]\ttraining's binary_logloss: 0.391777\tvalid_1's binary_logloss: 0.373863\n",
      "[107]\ttraining's binary_logloss: 0.391371\tvalid_1's binary_logloss: 0.374411\n",
      "[108]\ttraining's binary_logloss: 0.391125\tvalid_1's binary_logloss: 0.374705\n",
      "Early stopping, best iteration is:\n",
      "[78]\ttraining's binary_logloss: 0.401934\tvalid_1's binary_logloss: 0.369157\n"
     ]
    },
    {
     "name": "stderr",
     "output_type": "stream",
     "text": [
      "[Parallel(n_jobs=-1)]: Done  72 out of  72 | elapsed:    2.7s finished\n"
     ]
    },
    {
     "data": {
      "text/plain": [
       "GridSearchCV(cv=3, estimator=LGBMClassifier(n_estimators=400), n_jobs=-1,\n",
       "             param_grid={'max_depth': [128, 160, None],\n",
       "                         'min_child_samples': [60, 100], 'num_leaves': [32, 64],\n",
       "                         'subsample': [0.8, 1]},\n",
       "             verbose=3)"
      ]
     },
     "execution_count": 87,
     "metadata": {},
     "output_type": "execute_result"
    }
   ],
   "source": [
    "gridcv.fit(X_train, y_train, early_stopping_rounds=30, eval_metric=\"f1\",\n",
    "           eval_set=[(X_train, y_train), (X_test, y_test)])"
   ]
  },
  {
   "cell_type": "code",
   "execution_count": 88,
   "metadata": {},
   "outputs": [
    {
     "data": {
      "text/plain": [
       "LGBMClassifier(max_depth=128, min_child_samples=60, n_estimators=400,\n",
       "               num_leaves=32, subsample=0.8)"
      ]
     },
     "execution_count": 88,
     "metadata": {},
     "output_type": "execute_result"
    }
   ],
   "source": [
    "gridcv.best_estimator_"
   ]
  },
  {
   "cell_type": "code",
   "execution_count": 89,
   "metadata": {},
   "outputs": [],
   "source": [
    "lgbm_clf_best = LGBMClassifier(max_depth=128, min_child_samples=100, n_estimators=400,\n",
    "               num_leaves=32, subsample=0.8)"
   ]
  },
  {
   "cell_type": "code",
   "execution_count": 90,
   "metadata": {},
   "outputs": [
    {
     "data": {
      "text/plain": [
       "LGBMClassifier(max_depth=128, min_child_samples=100, n_estimators=400,\n",
       "               num_leaves=32, subsample=0.8)"
      ]
     },
     "execution_count": 90,
     "metadata": {},
     "output_type": "execute_result"
    }
   ],
   "source": [
    "lgbm_clf_best.fit(X_train, y_train)"
   ]
  },
  {
   "cell_type": "code",
   "execution_count": 91,
   "metadata": {},
   "outputs": [],
   "source": [
    "from sklearn.metrics import accuracy_score, precision_score , recall_score , confusion_matrix, f1_score\n",
    "\n",
    "def get_clf_eval(y_test , pred):\n",
    "    confusion = confusion_matrix( y_test, pred)\n",
    "    accuracy = accuracy_score(y_test , pred)\n",
    "    precision = precision_score(y_test , pred)\n",
    "    recall = recall_score(y_test , pred)\n",
    "    f1_score = metrics.f1_score(y_test, pred)\n",
    "    print('오차 행렬')\n",
    "    print(confusion)\n",
    "    print('정확도: {0:.4f}, 정밀도: {1:.4f}, 재현율: {2:.4f}, F1_score: {2: 4f}'.format(accuracy , precision ,recall, f1_score))"
   ]
  },
  {
   "cell_type": "code",
   "execution_count": 92,
   "metadata": {},
   "outputs": [
    {
     "name": "stdout",
     "output_type": "stream",
     "text": [
      "pred_proba()결과 Shape : (179, 2)\n",
      "pred_proba array에서 앞 3개만 샘플로 추출 \n",
      ": [[0.92621433 0.07378567]\n",
      " [0.83772652 0.16227348]\n",
      " [0.90425811 0.09574189]]\n",
      "두개의 class 중에서 더 큰 확률을 클래스 값으로 예측 \n",
      " [[0.92621433 0.07378567 0.92621433 0.07378567]\n",
      " [0.83772652 0.16227348 0.83772652 0.16227348]\n",
      " [0.90425811 0.09574189 0.90425811 0.09574189]]\n"
     ]
    }
   ],
   "source": [
    "pred_proba = lgbm_clf_best.predict_proba(X_test)\n",
    "pred  = lgbm_clf_best.predict_proba(X_test)\n",
    "print('pred_proba()결과 Shape : {0}'.format(pred_proba.shape))\n",
    "print('pred_proba array에서 앞 3개만 샘플로 추출 \\n:', pred_proba[:3])\n",
    "\n",
    "# 예측 확률 array 와 예측 결과값 array 를 concatenate 하여 예측 확률과 결과값을 한눈에 확인\n",
    "pred_proba_result = np.concatenate([pred_proba , pred.reshape(-1,2)],axis=1)\n",
    "print('두개의 class 중에서 더 큰 확률을 클래스 값으로 예측 \\n',pred_proba_result[:3])\n"
   ]
  },
  {
   "cell_type": "code",
   "execution_count": 93,
   "metadata": {},
   "outputs": [
    {
     "name": "stdout",
     "output_type": "stream",
     "text": [
      "오차 행렬\n",
      "[[107   3]\n",
      " [ 23  46]]\n",
      "정확도: 0.8547, 정밀도: 0.9388, 재현율: 0.6667, F1_score:  0.666667\n"
     ]
    }
   ],
   "source": [
    "from sklearn.preprocessing import Binarizer\n",
    "\n",
    "#Binarizer의 threshold 설정값. 분류 결정 임곗값임.  \n",
    "custom_threshold = 0.5\n",
    "\n",
    "# predict_proba( ) 반환값의 두번째 컬럼 , 즉 Positive 클래스 컬럼 하나만 추출하여 Binarizer를 적용\n",
    "pred_proba_1 = pred_proba[:,1].reshape(-1,1)\n",
    "\n",
    "binarizer = Binarizer(threshold=custom_threshold).fit(pred_proba_1) \n",
    "custom_predict = binarizer.transform(pred_proba_1)\n",
    "\n",
    "get_clf_eval(y_test, custom_predict)"
   ]
  },
  {
   "cell_type": "code",
   "execution_count": 94,
   "metadata": {},
   "outputs": [],
   "source": [
    "from sklearn.metrics import precision_recall_curve\n",
    "\n",
    "# 레이블 값이 1일때의 예측 확률을 추출 \n",
    "\n",
    "pred_proba_class1 = lgbm_clf_best.predict_proba(X_test)[:, 1] "
   ]
  },
  {
   "cell_type": "code",
   "execution_count": 95,
   "metadata": {},
   "outputs": [
    {
     "data": {
      "image/png": "[encoded data removed]",
      "text/plain": [
       "<Figure size 576x432 with 1 Axes>"
      ]
     },
     "metadata": {
      "needs_background": "light"
     },
     "output_type": "display_data"
    }
   ],
   "source": [
    "import matplotlib.pyplot as plt\n",
    "import matplotlib.ticker as ticker\n",
    "%matplotlib inline\n",
    "\n",
    "def precision_recall_curve_plot(y_test, pred_proba_c1):\n",
    "    # threshold ndarray와 이 threshold에 따른 정밀도, 재현율 ndarray 추출. \n",
    "    precisions, recalls, thresholds = precision_recall_curve(y_test, pred_proba_c1)\n",
    "    \n",
    "    # X축을 threshold값으로, Y축은 정밀도, 재현율 값으로 각각 Plot 수행. 정밀도는 점선으로 표시\n",
    "    plt.figure(figsize=(8,6))\n",
    "    threshold_boundary = thresholds.shape[0]\n",
    "    plt.plot(thresholds, precisions[0:threshold_boundary], linestyle='--', label='precision')\n",
    "    plt.plot(thresholds, recalls[0:threshold_boundary],label='recall')\n",
    "    \n",
    "    # threshold 값 X 축의 Scale을 0.1 단위로 변경\n",
    "    start, end = plt.xlim()\n",
    "    plt.xticks(np.round(np.arange(start, end, 0.1),2))\n",
    "    \n",
    "    # x축, y축 label과 legend, 그리고 grid 설정\n",
    "    plt.xlabel('Threshold value'); plt.ylabel('Precision and Recall value')\n",
    "    plt.legend(); plt.grid()\n",
    "    plt.show()\n",
    "    \n",
    "precision_recall_curve_plot(y_test, lgbm_clf_best.predict_proba(X_test)[:, 1] )"
   ]
  },
  {
   "cell_type": "code",
   "execution_count": 96,
   "metadata": {},
   "outputs": [
    {
     "data": {
      "text/plain": [
       "(0.351, 0.8062)"
      ]
     },
     "execution_count": 96,
     "metadata": {},
     "output_type": "execute_result"
    }
   ],
   "source": [
    "def Find_threshold(model, X_test, y_test):\n",
    "    thresholds = np.arange(0,1,0.001)\n",
    "    threshold_count = []\n",
    "    pred_proba=model.predict_proba(X_test)\n",
    "    pred_proba_1 = pred_proba[:,1].reshape(-1,1)\n",
    "    for threshold in thresholds:\n",
    "        binarizer = Binarizer(threshold=threshold)\n",
    "        model_cl_pred = binarizer.transform(pred_proba_1)\n",
    "        threshold_count.append([threshold, metrics.f1_score(model_cl_pred, y_test)])\n",
    "\n",
    "    MAX=thresholds[np.array(threshold_count)[:,1].argmax()]\n",
    "    \n",
    "    thresholds = np.arange(MAX-0.05,MAX+0.05,0.005)\n",
    "    threshold_count = []\n",
    "    for threshold in thresholds:\n",
    "        binarizer = Binarizer(threshold=threshold)\n",
    "        model_cl_pred = binarizer.transform(pred_proba_1)\n",
    "        #threshold_count.append([threshold, metrics.f1_score(log_cl_pred, y_test)])\n",
    "        #print('threshold: {0:.4f}, f1_score: {1:.4f}'.format(threshold,metrics.f1_score(model_cl_pred, y_test)))\n",
    "        threshold_count.append([threshold, metrics.f1_score(model_cl_pred, y_test)])\n",
    "    \n",
    "    return np.round(thresholds[np.array(threshold_count)[:,1].argmax()],4), np.round(metrics.f1_score(Binarizer(threshold=thresholds[np.array(threshold_count)[:,1].argmax()]).transform(pred_proba_1), y_test),4)\n",
    "\n",
    "Find_threshold(lgbm_clf_best, X_test, y_test)"
   ]
  },
  {
   "cell_type": "code",
   "execution_count": 165,
   "metadata": {},
   "outputs": [
    {
     "name": "stdout",
     "output_type": "stream",
     "text": [
      "오차 행렬\n",
      "[[72 38]\n",
      " [12 57]]\n",
      "정확도: 0.7207, 정밀도: 0.6000, 재현율: 0.8261, F1_score:  0.826087\n"
     ]
    }
   ],
   "source": [
    "# Binarizer의 베스트 threshold 설정값 지정 \n",
    "\n",
    "custom_threshold = 0.351\n",
    "pred_proba_1 = pred_proba[:,1].reshape(-1,1)\n",
    "binarizer = Binarizer(threshold=custom_threshold).fit(pred_proba_1) \n",
    "custom_predict = binarizer.transform(pred_proba_1)\n",
    "\n",
    "get_clf_eval(y_test , custom_predict)"
   ]
  },
  {
   "cell_type": "markdown",
   "metadata": {},
   "source": [
    "## 6-2. RandomizedSearchCV"
   ]
  },
  {
   "cell_type": "code",
   "execution_count": 98,
   "metadata": {},
   "outputs": [],
   "source": [
    "from sklearn.model_selection import RandomizedSearchCV\n",
    "\n",
    "# Number of trees in random forest\n",
    "\n",
    "n_estimators = [int(x) for x in np.linspace(start = 200, stop = 2000, num = 10)]\n",
    "\n",
    "# Number of features to consider at every split\n",
    "\n",
    "max_features = ['auto', 'sqrt']\n",
    "\n",
    "# Maximum number of levels in tree\n",
    "\n",
    "max_depth = [int(x) for x in np.linspace(10, 110, num = 11)]\n",
    "\n",
    "max_depth.append(None)\n",
    "\n",
    "# Minimum number of samples required to split a node\n",
    "\n",
    "min_samples_split = [2, 5, 10]\n",
    "\n",
    "# Minimum number of samples required at each leaf node\n",
    "\n",
    "min_samples_leaf = [1, 2, 4]\n",
    "\n",
    "# Method of selecting samples for training each tree\n",
    "\n",
    "bootstrap = [True, False]\n",
    "\n",
    "# Create the random grid\n",
    "\n",
    "random_grid = {'n_estimators': n_estimators,\n",
    "               'max_features': max_features,\n",
    "               'max_depth': max_depth,\n",
    "               'min_samples_split': min_samples_split,\n",
    "               'min_samples_leaf': min_samples_leaf,\n",
    "               'bootstrap': bootstrap}"
   ]
  },
  {
   "cell_type": "code",
   "execution_count": 99,
   "metadata": {},
   "outputs": [
    {
     "name": "stdout",
     "output_type": "stream",
     "text": [
      "Fitting 3 folds for each of 100 candidates, totalling 300 fits\n"
     ]
    },
    {
     "name": "stderr",
     "output_type": "stream",
     "text": [
      "[Parallel(n_jobs=-1)]: Using backend LokyBackend with 8 concurrent workers.\n",
      "[Parallel(n_jobs=-1)]: Done  34 tasks      | elapsed:    1.9s\n",
      "[Parallel(n_jobs=-1)]: Done 186 tasks      | elapsed:   16.2s\n"
     ]
    },
    {
     "name": "stdout",
     "output_type": "stream",
     "text": [
      "LGBMClassifier(bootstrap=True, max_depth=None, max_features='sqrt',\n",
      "               min_samples_leaf=2, min_samples_split=10, n_estimators=200)\n"
     ]
    },
    {
     "name": "stderr",
     "output_type": "stream",
     "text": [
      "[Parallel(n_jobs=-1)]: Done 300 out of 300 | elapsed:   27.8s finished\n"
     ]
    }
   ],
   "source": [
    "# Use the random grid to search for best hyperparameters\n",
    "# First create the base model to tune\n",
    "\n",
    "lg_cl = LGBMClassifier()\n",
    "\n",
    "# Random search of parameters, using 3 fold cross validation, \n",
    "# search across 100 different combinations, and use all available cores\n",
    "\n",
    "lg_random = RandomizedSearchCV(estimator = lg_cl, param_distributions = random_grid, n_iter = 100, cv = 3, verbose=2, n_jobs = -1)\n",
    "\n",
    "# Fit the random search model\n",
    "\n",
    "lg_random.fit(X_train, y_train)\n",
    "print(lg_random.best_estimator_)"
   ]
  },
  {
   "cell_type": "code",
   "execution_count": 100,
   "metadata": {},
   "outputs": [],
   "source": [
    "lgb_random_best = LGBMClassifier(bootstrap=True, max_depth=50, max_features='sqrt',\n",
    "               min_samples_leaf=1, min_samples_split=10, n_estimators=1400)"
   ]
  },
  {
   "cell_type": "code",
   "execution_count": 101,
   "metadata": {},
   "outputs": [
    {
     "data": {
      "text/plain": [
       "LGBMClassifier(bootstrap=True, max_depth=50, max_features='sqrt',\n",
       "               min_samples_leaf=1, min_samples_split=10, n_estimators=1400)"
      ]
     },
     "execution_count": 101,
     "metadata": {},
     "output_type": "execute_result"
    }
   ],
   "source": [
    "lgb_random_best.fit(X_train, y_train)"
   ]
  },
  {
   "cell_type": "code",
   "execution_count": 102,
   "metadata": {},
   "outputs": [
    {
     "name": "stdout",
     "output_type": "stream",
     "text": [
      "pred_proba()결과 Shape : (179, 2)\n",
      "pred_proba array에서 앞 3개만 샘플로 추출 \n",
      ": [[9.99999984e-01 1.58320707e-08]\n",
      " [7.66074184e-01 2.33925816e-01]\n",
      " [9.99529699e-01 4.70301109e-04]]\n",
      "두개의 class 중에서 더 큰 확률을 클래스 값으로 예측 \n",
      " [[9.99999984e-01 1.58320707e-08 9.99999984e-01 1.58320707e-08]\n",
      " [7.66074184e-01 2.33925816e-01 7.66074184e-01 2.33925816e-01]\n",
      " [9.99529699e-01 4.70301109e-04 9.99529699e-01 4.70301109e-04]]\n"
     ]
    }
   ],
   "source": [
    "## 1 ##\n",
    "\n",
    "pred_proba = lgb_random_best.predict_proba(X_test)\n",
    "pred  = lgb_random_best.predict_proba(X_test)\n",
    "print('pred_proba()결과 Shape : {0}'.format(pred_proba.shape))\n",
    "print('pred_proba array에서 앞 3개만 샘플로 추출 \\n:', pred_proba[:3])\n",
    "\n",
    "# 예측 확률 array 와 예측 결과값 array 를 concatenate 하여 예측 확률과 결과값을 한눈에 확인\n",
    "pred_proba_result = np.concatenate([pred_proba , pred.reshape(-1,2)],axis=1)\n",
    "print('두개의 class 중에서 더 큰 확률을 클래스 값으로 예측 \\n',pred_proba_result[:3])\n"
   ]
  },
  {
   "cell_type": "code",
   "execution_count": 103,
   "metadata": {},
   "outputs": [
    {
     "name": "stdout",
     "output_type": "stream",
     "text": [
      "오차 행렬\n",
      "[[105   5]\n",
      " [ 21  48]]\n",
      "정확도: 0.8547, 정밀도: 0.9057, 재현율: 0.6957, F1_score:  0.695652\n"
     ]
    }
   ],
   "source": [
    "## 2\n",
    "\n",
    "from sklearn.preprocessing import Binarizer\n",
    "\n",
    "#Binarizer의 threshold 설정값. 분류 결정 임곗값임.  \n",
    "custom_threshold = 0.5\n",
    "\n",
    "# predict_proba( ) 반환값의 두번째 컬럼 , 즉 Positive 클래스 컬럼 하나만 추출하여 Binarizer를 적용\n",
    "pred_proba_1 = pred_proba[:,1].reshape(-1,1)\n",
    "\n",
    "binarizer = Binarizer(threshold=custom_threshold).fit(pred_proba_1) \n",
    "custom_predict = binarizer.transform(pred_proba_1)\n",
    "\n",
    "get_clf_eval(y_test, custom_predict)"
   ]
  },
  {
   "cell_type": "code",
   "execution_count": 104,
   "metadata": {},
   "outputs": [],
   "source": [
    "from sklearn.metrics import precision_recall_curve\n",
    "\n",
    "# 레이블 값이 1일때의 예측 확률을 추출 \n",
    "pred_proba_class1 = lgb_random_best.predict_proba(X_test)[:, 1] ###\n"
   ]
  },
  {
   "cell_type": "code",
   "execution_count": 105,
   "metadata": {},
   "outputs": [
    {
     "data": {
      "image/png": "[encoded data removed]",
      "text/plain": [
       "<Figure size 576x432 with 1 Axes>"
      ]
     },
     "metadata": {
      "needs_background": "light"
     },
     "output_type": "display_data"
    }
   ],
   "source": [
    "import matplotlib.pyplot as plt\n",
    "import matplotlib.ticker as ticker\n",
    "%matplotlib inline\n",
    "\n",
    "def precision_recall_curve_plot(y_test, pred_proba_c1):\n",
    "    # threshold ndarray와 이 threshold에 따른 정밀도, 재현율 ndarray 추출. \n",
    "    precisions, recalls, thresholds = precision_recall_curve( y_test, pred_proba_c1)\n",
    "    \n",
    "    # X축을 threshold값으로, Y축은 정밀도, 재현율 값으로 각각 Plot 수행. 정밀도는 점선으로 표시\n",
    "    plt.figure(figsize=(8,6))\n",
    "    threshold_boundary = thresholds.shape[0]\n",
    "    plt.plot(thresholds, precisions[0:threshold_boundary], linestyle='--', label='precision')\n",
    "    plt.plot(thresholds, recalls[0:threshold_boundary],label='recall')\n",
    "    \n",
    "    # threshold 값 X 축의 Scale을 0.1 단위로 변경\n",
    "    start, end = plt.xlim()\n",
    "    plt.xticks(np.round(np.arange(start, end, 0.1),2))\n",
    "    \n",
    "    # x축, y축 label과 legend, 그리고 grid 설정\n",
    "    plt.xlabel('Threshold value'); plt.ylabel('Precision and Recall value')\n",
    "    plt.legend(); plt.grid()\n",
    "    plt.show()\n",
    "    \n",
    "precision_recall_curve_plot(y_test, lgb_random_best.predict_proba(X_test)[:, 1]) ##\n"
   ]
  },
  {
   "cell_type": "code",
   "execution_count": 106,
   "metadata": {},
   "outputs": [
    {
     "data": {
      "text/plain": [
       "(0.5, 0.7869)"
      ]
     },
     "execution_count": 106,
     "metadata": {},
     "output_type": "execute_result"
    }
   ],
   "source": [
    "def Find_threshold(model, X_test, y_test):\n",
    "    thresholds = np.arange(0,1,0.01)\n",
    "    threshold_count = []\n",
    "    pred_proba=model.predict_proba(X_test)\n",
    "    pred_proba_1 = pred_proba[:,1].reshape(-1,1)\n",
    "    for threshold in thresholds:\n",
    "        binarizer = Binarizer(threshold=threshold)\n",
    "        model_cl_pred = binarizer.transform(pred_proba_1)\n",
    "        threshold_count.append([threshold, metrics.f1_score(model_cl_pred, y_test)])\n",
    "\n",
    "    MAX=thresholds[np.array(threshold_count)[:,1].argmax()]\n",
    "    \n",
    "    thresholds = np.arange(MAX-0.05,MAX+0.05,0.005)\n",
    "    threshold_count = []\n",
    "    for threshold in thresholds:\n",
    "        binarizer = Binarizer(threshold=threshold)\n",
    "        model_cl_pred = binarizer.transform(pred_proba_1)\n",
    "        #threshold_count.append([threshold, metrics.f1_score(log_cl_pred, y_test)])\n",
    "        #print('threshold: {0:.4f}, f1_score: {1:.4f}'.format(threshold,metrics.f1_score(model_cl_pred, y_test)))\n",
    "        threshold_count.append([threshold, metrics.f1_score(model_cl_pred, y_test)])\n",
    "    \n",
    "    return np.round(thresholds[np.array(threshold_count)[:,1].argmax()],4), np.round(metrics.f1_score(Binarizer(threshold=thresholds[np.array(threshold_count)[:,1].argmax()]).transform(pred_proba_1), y_test),4)\n",
    "\n",
    "Find_threshold(lgb_random_best, X_test, y_test)"
   ]
  },
  {
   "cell_type": "code",
   "execution_count": 107,
   "metadata": {},
   "outputs": [
    {
     "name": "stdout",
     "output_type": "stream",
     "text": [
      "오차 행렬\n",
      "[[105   5]\n",
      " [ 21  48]]\n",
      "정확도: 0.8547, 정밀도: 0.9057, 재현율: 0.6957, F1_score:  0.695652\n"
     ]
    }
   ],
   "source": [
    "# Binarizer의 베스트 threshold 설정값 지정 \n",
    "\n",
    "custom_threshold = 0.5\n",
    "pred_proba_1 = pred_proba[:,1].reshape(-1,1)\n",
    "binarizer = Binarizer(threshold=custom_threshold).fit(pred_proba_1) \n",
    "custom_predict = binarizer.transform(pred_proba_1)\n",
    "\n",
    "get_clf_eval(y_test , custom_predict)"
   ]
  },
  {
   "cell_type": "markdown",
   "metadata": {},
   "source": [
    "## 6-3. BaysianOptimization"
   ]
  },
  {
   "cell_type": "code",
   "execution_count": 112,
   "metadata": {},
   "outputs": [],
   "source": [
    "bayes_params = {\n",
    "    'num_leaves': (1, 199),\n",
    "    'colsample_bytree':(0.5, 1), \n",
    "    'subsample': (0.5, 1),\n",
    "    'max_depth': (1, 200),\n",
    "    'reg_alpha': (0, 0.5),\n",
    "    'reg_lambda': (0, 0.5), \n",
    "    'min_split_gain': (0.001, 0.1),\n",
    "    'min_child_weight':(5, 50)\n",
    "}"
   ]
  },
  {
   "cell_type": "code",
   "execution_count": 113,
   "metadata": {},
   "outputs": [],
   "source": [
    "from lightgbm import LGBMClassifier\n",
    "from sklearn.metrics import roc_auc_score\n",
    "\n",
    "def lgb_roc_eval(num_leaves, colsample_bytree, subsample, max_depth, reg_alpha, reg_lambda, min_split_gain, min_child_weight):\n",
    "    \n",
    "    params = {\n",
    "        \"n_estimator\":200,\n",
    "        \"learning_rate\":0.02,\n",
    "        'num_leaves': int(round(num_leaves)),\n",
    "        'colsample_bytree': colsample_bytree, \n",
    "        'subsample': subsample,\n",
    "        'max_depth': int(round(max_depth)),\n",
    "        'reg_alpha': reg_alpha,\n",
    "        'reg_lambda': reg_lambda, \n",
    "        'min_split_gain': min_split_gain,\n",
    "        'min_child_weight': min_child_weight,\n",
    "        'verbosity': -1\n",
    "    }\n",
    "    print(\"params:\", params)\n",
    "    lgb_model = LGBMClassifier(**params)\n",
    "    lgb_model.fit(X_train, y_train, eval_set=[(X_test, y_test)], early_stopping_rounds=30, eval_metric=\"auc\", verbose=100 )\n",
    "    best_iter = lgb_model.best_iteration_\n",
    "    print('best_iter:', best_iter)\n",
    "    valid_proba = lgb_model.predict_proba(X_test, num_iteration=best_iter)[:, 1]\n",
    "    roc_preds = roc_auc_score(y_test, valid_proba)\n",
    "    print('roc_auc:', roc_preds)\n",
    "    return roc_preds\n",
    "    \n",
    "    "
   ]
  },
  {
   "cell_type": "code",
   "execution_count": 114,
   "metadata": {},
   "outputs": [],
   "source": [
    "from bayes_opt import BayesianOptimization\n",
    "\n",
    "BO_lgb = BayesianOptimization(lgb_roc_eval, bayes_params, random_state=0)\n"
   ]
  },
  {
   "cell_type": "code",
   "execution_count": 115,
   "metadata": {},
   "outputs": [
    {
     "name": "stdout",
     "output_type": "stream",
     "text": [
      "|   iter    |  target   | colsam... | max_depth | min_ch... | min_sp... | num_le... | reg_alpha | reg_la... | subsample |\n",
      "-------------------------------------------------------------------------------------------------------------------------\n",
      "params: {'n_estimator': 200, 'learning_rate': 0.02, 'num_leaves': 85, 'colsample_bytree': 0.7744067519636624, 'subsample': 0.9458865003910399, 'max_depth': 143, 'reg_alpha': 0.32294705653332806, 'reg_lambda': 0.21879360563134626, 'min_split_gain': 0.05494343511669279, 'min_child_weight': 32.12435192322397, 'verbosity': -1}\n",
      "Training until validation scores don't improve for 30 rounds\n",
      "Early stopping, best iteration is:\n",
      "[28]\tvalid_0's auc: 0.885639\tvalid_0's binary_logloss: 0.534156\n",
      "best_iter: 28\n",
      "roc_auc: 0.8856389986824771\n",
      "| \u001b[0m 1       \u001b[0m | \u001b[0m 0.8856  \u001b[0m | \u001b[0m 0.7744  \u001b[0m | \u001b[0m 143.3   \u001b[0m | \u001b[0m 32.12   \u001b[0m | \u001b[0m 0.05494 \u001b[0m | \u001b[0m 84.88   \u001b[0m | \u001b[0m 0.3229  \u001b[0m | \u001b[0m 0.2188  \u001b[0m | \u001b[0m 0.9459  \u001b[0m |\n",
      "params: {'n_estimator': 200, 'learning_rate': 0.02, 'num_leaves': 113, 'colsample_bytree': 0.9818313802505146, 'subsample': 0.5435646498507704, 'max_depth': 77, 'reg_alpha': 0.4627983191463305, 'reg_lambda': 0.03551802909894347, 'min_split_gain': 0.05336059705553755, 'min_child_weight': 40.627626713719906, 'verbosity': -1}\n",
      "Training until validation scores don't improve for 30 rounds\n",
      "Early stopping, best iteration is:\n",
      "[14]\tvalid_0's auc: 0.846443\tvalid_0's binary_logloss: 0.598755\n",
      "best_iter: 14\n",
      "roc_auc: 0.8464426877470356\n",
      "| \u001b[0m 2       \u001b[0m | \u001b[0m 0.8464  \u001b[0m | \u001b[0m 0.9818  \u001b[0m | \u001b[0m 77.3    \u001b[0m | \u001b[0m 40.63   \u001b[0m | \u001b[0m 0.05336 \u001b[0m | \u001b[0m 113.5   \u001b[0m | \u001b[0m 0.4628  \u001b[0m | \u001b[0m 0.03552 \u001b[0m | \u001b[0m 0.5436  \u001b[0m |\n",
      "params: {'n_estimator': 200, 'learning_rate': 0.02, 'num_leaves': 195, 'colsample_bytree': 0.5101091987201629, 'subsample': 0.8902645881432277, 'max_depth': 167, 'reg_alpha': 0.3995792821083618, 'reg_lambda': 0.23073968112646592, 'min_split_gain': 0.08713120267643511, 'min_child_weight': 40.01705379274327, 'verbosity': -1}\n",
      "Training until validation scores don't improve for 30 rounds\n",
      "Early stopping, best iteration is:\n",
      "[27]\tvalid_0's auc: 0.877075\tvalid_0's binary_logloss: 0.567568\n",
      "best_iter: 27\n",
      "roc_auc: 0.8770750988142292\n",
      "| \u001b[0m 3       \u001b[0m | \u001b[0m 0.8771  \u001b[0m | \u001b[0m 0.5101  \u001b[0m | \u001b[0m 166.7   \u001b[0m | \u001b[0m 40.02   \u001b[0m | \u001b[0m 0.08713 \u001b[0m | \u001b[0m 194.8   \u001b[0m | \u001b[0m 0.3996  \u001b[0m | \u001b[0m 0.2307  \u001b[0m | \u001b[0m 0.8903  \u001b[0m |\n",
      "params: {'n_estimator': 200, 'learning_rate': 0.02, 'num_leaves': 104, 'colsample_bytree': 0.5591372129344666, 'subsample': 0.8871168447171083, 'max_depth': 128, 'reg_alpha': 0.2073309699952618, 'reg_lambda': 0.13227780605231348, 'min_split_gain': 0.09452222278790881, 'min_child_weight': 11.450897933407088, 'verbosity': -1}\n",
      "Training until validation scores don't improve for 30 rounds\n",
      "Early stopping, best iteration is:\n",
      "[49]\tvalid_0's auc: 0.897036\tvalid_0's binary_logloss: 0.472541\n",
      "best_iter: 49\n",
      "roc_auc: 0.8970355731225297\n",
      "| \u001b[95m 4       \u001b[0m | \u001b[95m 0.897   \u001b[0m | \u001b[95m 0.5591  \u001b[0m | \u001b[95m 128.3   \u001b[0m | \u001b[95m 11.45   \u001b[0m | \u001b[95m 0.09452 \u001b[0m | \u001b[95m 104.3   \u001b[0m | \u001b[95m 0.2073  \u001b[0m | \u001b[95m 0.1323  \u001b[0m | \u001b[95m 0.8871  \u001b[0m |\n",
      "params: {'n_estimator': 200, 'learning_rate': 0.02, 'num_leaves': 122, 'colsample_bytree': 0.7280751661082743, 'subsample': 0.8409101495517417, 'max_depth': 114, 'reg_alpha': 0.30846699843737846, 'reg_lambda': 0.4718740392573121, 'min_split_gain': 0.062145914210511834, 'min_child_weight': 5.845541019635982, 'verbosity': -1}\n",
      "Training until validation scores don't improve for 30 rounds\n",
      "Early stopping, best iteration is:\n",
      "[36]\tvalid_0's auc: 0.89058\tvalid_0's binary_logloss: 0.485826\n",
      "best_iter: 36\n",
      "roc_auc: 0.8905797101449275\n",
      "| \u001b[0m 5       \u001b[0m | \u001b[0m 0.8906  \u001b[0m | \u001b[0m 0.7281  \u001b[0m | \u001b[0m 114.1   \u001b[0m | \u001b[0m 5.846   \u001b[0m | \u001b[0m 0.06215 \u001b[0m | \u001b[0m 122.2   \u001b[0m | \u001b[0m 0.3085  \u001b[0m | \u001b[0m 0.4719  \u001b[0m | \u001b[0m 0.8409  \u001b[0m |\n",
      "params: {'n_estimator': 200, 'learning_rate': 0.02, 'num_leaves': 125, 'colsample_bytree': 0.5, 'subsample': 0.5215024051018385, 'max_depth': 156, 'reg_alpha': 0.0, 'reg_lambda': 0.42627731719066464, 'min_split_gain': 0.08568922148962946, 'min_child_weight': 5.0, 'verbosity': -1}\n",
      "Training until validation scores don't improve for 30 rounds\n",
      "Early stopping, best iteration is:\n",
      "[28]\tvalid_0's auc: 0.894005\tvalid_0's binary_logloss: 0.531178\n",
      "best_iter: 28\n",
      "roc_auc: 0.8940052700922266\n",
      "| \u001b[0m 6       \u001b[0m | \u001b[0m 0.894   \u001b[0m | \u001b[0m 0.5     \u001b[0m | \u001b[0m 156.3   \u001b[0m | \u001b[0m 5.0     \u001b[0m | \u001b[0m 0.08569 \u001b[0m | \u001b[0m 125.2   \u001b[0m | \u001b[0m 0.0     \u001b[0m | \u001b[0m 0.4263  \u001b[0m | \u001b[0m 0.5215  \u001b[0m |\n",
      "params: {'n_estimator': 200, 'learning_rate': 0.02, 'num_leaves': 84, 'colsample_bytree': 0.5, 'subsample': 1.0, 'max_depth': 200, 'reg_alpha': 0.5, 'reg_lambda': 0.0, 'min_split_gain': 0.1, 'min_child_weight': 5.0, 'verbosity': -1}\n",
      "Training until validation scores don't improve for 30 rounds\n",
      "Early stopping, best iteration is:\n",
      "[58]\tvalid_0's auc: 0.894005\tvalid_0's binary_logloss: 0.458804\n",
      "best_iter: 58\n",
      "roc_auc: 0.8940052700922266\n",
      "| \u001b[0m 7       \u001b[0m | \u001b[0m 0.894   \u001b[0m | \u001b[0m 0.5     \u001b[0m | \u001b[0m 200.0   \u001b[0m | \u001b[0m 5.0     \u001b[0m | \u001b[0m 0.1     \u001b[0m | \u001b[0m 83.56   \u001b[0m | \u001b[0m 0.5     \u001b[0m | \u001b[0m 0.0     \u001b[0m | \u001b[0m 1.0     \u001b[0m |\n",
      "params: {'n_estimator': 200, 'learning_rate': 0.02, 'num_leaves': 24, 'colsample_bytree': 0.5, 'subsample': 0.9738254146779998, 'max_depth': 200, 'reg_alpha': 0.0, 'reg_lambda': 0.0, 'min_split_gain': 0.1, 'min_child_weight': 5.0, 'verbosity': -1}\n",
      "Training until validation scores don't improve for 30 rounds\n",
      "Early stopping, best iteration is:\n",
      "[17]\tvalid_0's auc: 0.892029\tvalid_0's binary_logloss: 0.572236\n",
      "best_iter: 17\n",
      "roc_auc: 0.8920289855072463\n",
      "| \u001b[0m 8       \u001b[0m | \u001b[0m 0.892   \u001b[0m | \u001b[0m 0.5     \u001b[0m | \u001b[0m 200.0   \u001b[0m | \u001b[0m 5.0     \u001b[0m | \u001b[0m 0.1     \u001b[0m | \u001b[0m 23.69   \u001b[0m | \u001b[0m 0.0     \u001b[0m | \u001b[0m 0.0     \u001b[0m | \u001b[0m 0.9738  \u001b[0m |\n",
      "params: {'n_estimator': 200, 'learning_rate': 0.02, 'num_leaves': 124, 'colsample_bytree': 0.638832489827059, 'subsample': 0.5281439202513736, 'max_depth': 157, 'reg_alpha': 0.023134096873324794, 'reg_lambda': 0.3247197543647179, 'min_split_gain': 0.018464250964294285, 'min_child_weight': 7.603336550439339, 'verbosity': -1}\n",
      "Training until validation scores don't improve for 30 rounds\n",
      "Early stopping, best iteration is:\n",
      "[3]\tvalid_0's auc: 0.881094\tvalid_0's binary_logloss: 0.644172\n",
      "best_iter: 3\n",
      "roc_auc: 0.8810935441370225\n",
      "| \u001b[0m 9       \u001b[0m | \u001b[0m 0.8811  \u001b[0m | \u001b[0m 0.6388  \u001b[0m | \u001b[0m 157.0   \u001b[0m | \u001b[0m 7.603   \u001b[0m | \u001b[0m 0.01846 \u001b[0m | \u001b[0m 124.4   \u001b[0m | \u001b[0m 0.02313 \u001b[0m | \u001b[0m 0.3247  \u001b[0m | \u001b[0m 0.5281  \u001b[0m |\n",
      "params: {'n_estimator': 200, 'learning_rate': 0.02, 'num_leaves': 194, 'colsample_bytree': 0.7938575367700749, 'subsample': 0.5435940695073487, 'max_depth': 27, 'reg_alpha': 0.40445613739603187, 'reg_lambda': 0.30440629345289194, 'min_split_gain': 0.0076985060011006265, 'min_child_weight': 11.306184037494198, 'verbosity': -1}\n",
      "Training until validation scores don't improve for 30 rounds\n",
      "Early stopping, best iteration is:\n",
      "[49]\tvalid_0's auc: 0.89058\tvalid_0's binary_logloss: 0.458582\n",
      "best_iter: 49\n",
      "roc_auc: 0.8905797101449275\n",
      "| \u001b[0m 10      \u001b[0m | \u001b[0m 0.8906  \u001b[0m | \u001b[0m 0.7939  \u001b[0m | \u001b[0m 27.2    \u001b[0m | \u001b[0m 11.31   \u001b[0m | \u001b[0m 0.007699\u001b[0m | \u001b[0m 194.1   \u001b[0m | \u001b[0m 0.4045  \u001b[0m | \u001b[0m 0.3044  \u001b[0m | \u001b[0m 0.5436  \u001b[0m |\n",
      "params: {'n_estimator': 200, 'learning_rate': 0.02, 'num_leaves': 120, 'colsample_bytree': 0.9306368742048947, 'subsample': 0.9299529005082734, 'max_depth': 88, 'reg_alpha': 0.19637994851163287, 'reg_lambda': 0.1750667333739045, 'min_split_gain': 0.058336100242476395, 'min_child_weight': 22.935679282856086, 'verbosity': -1}\n",
      "Training until validation scores don't improve for 30 rounds\n",
      "[100]\tvalid_0's auc: 0.885771\tvalid_0's binary_logloss: 0.422095\n",
      "Did not meet early stopping. Best iteration is:\n",
      "[72]\tvalid_0's auc: 0.886693\tvalid_0's binary_logloss: 0.438525\n",
      "best_iter: 72\n",
      "roc_auc: 0.8866930171277998\n",
      "| \u001b[0m 11      \u001b[0m | \u001b[0m 0.8867  \u001b[0m | \u001b[0m 0.9306  \u001b[0m | \u001b[0m 87.59   \u001b[0m | \u001b[0m 22.94   \u001b[0m | \u001b[0m 0.05834 \u001b[0m | \u001b[0m 119.9   \u001b[0m | \u001b[0m 0.1964  \u001b[0m | \u001b[0m 0.1751  \u001b[0m | \u001b[0m 0.93    \u001b[0m |\n",
      "params: {'n_estimator': 200, 'learning_rate': 0.02, 'num_leaves': 176, 'colsample_bytree': 0.792985541295224, 'subsample': 0.6861540787879228, 'max_depth': 186, 'reg_alpha': 0.09854595285010953, 'reg_lambda': 0.34131373291389805, 'min_split_gain': 0.031081060947158217, 'min_child_weight': 28.510112111257893, 'verbosity': -1}\n",
      "Training until validation scores don't improve for 30 rounds\n",
      "Early stopping, best iteration is:\n",
      "[28]\tvalid_0's auc: 0.885244\tvalid_0's binary_logloss: 0.523689\n",
      "best_iter: 28\n",
      "roc_auc: 0.885243741765481\n",
      "| \u001b[0m 12      \u001b[0m | \u001b[0m 0.8852  \u001b[0m | \u001b[0m 0.793   \u001b[0m | \u001b[0m 186.2   \u001b[0m | \u001b[0m 28.51   \u001b[0m | \u001b[0m 0.03108 \u001b[0m | \u001b[0m 176.2   \u001b[0m | \u001b[0m 0.09855 \u001b[0m | \u001b[0m 0.3413  \u001b[0m | \u001b[0m 0.6862  \u001b[0m |\n"
     ]
    },
    {
     "name": "stdout",
     "output_type": "stream",
     "text": [
      "params: {'n_estimator': 200, 'learning_rate': 0.02, 'num_leaves': 40, 'colsample_bytree': 0.8949651533981737, 'subsample': 0.9489380543524266, 'max_depth': 2, 'reg_alpha': 0.14634245076025804, 'reg_lambda': 0.3522969006796076, 'min_split_gain': 0.060521525870239574, 'min_child_weight': 17.55625413484478, 'verbosity': -1}\n",
      "Training until validation scores don't improve for 30 rounds\n",
      "Early stopping, best iteration is:\n",
      "[3]\tvalid_0's auc: 0.886495\tvalid_0's binary_logloss: 0.644886\n",
      "best_iter: 3\n",
      "roc_auc: 0.8864953886693017\n",
      "| \u001b[0m 13      \u001b[0m | \u001b[0m 0.8865  \u001b[0m | \u001b[0m 0.895   \u001b[0m | \u001b[0m 2.442   \u001b[0m | \u001b[0m 17.56   \u001b[0m | \u001b[0m 0.06052 \u001b[0m | \u001b[0m 39.89   \u001b[0m | \u001b[0m 0.1463  \u001b[0m | \u001b[0m 0.3523  \u001b[0m | \u001b[0m 0.9489  \u001b[0m |\n",
      "params: {'n_estimator': 200, 'learning_rate': 0.02, 'num_leaves': 119, 'colsample_bytree': 0.6554150420073348, 'subsample': 0.9070428510477326, 'max_depth': 168, 'reg_alpha': 0.3116863781486092, 'reg_lambda': 0.2242081107031702, 'min_split_gain': 0.08873490442848239, 'min_child_weight': 46.056784622844944, 'verbosity': -1}\n",
      "Training until validation scores don't improve for 30 rounds\n",
      "Early stopping, best iteration is:\n",
      "[28]\tvalid_0's auc: 0.886232\tvalid_0's binary_logloss: 0.558522\n",
      "best_iter: 28\n",
      "roc_auc: 0.8862318840579712\n",
      "| \u001b[0m 14      \u001b[0m | \u001b[0m 0.8862  \u001b[0m | \u001b[0m 0.6554  \u001b[0m | \u001b[0m 168.2   \u001b[0m | \u001b[0m 46.06   \u001b[0m | \u001b[0m 0.08873 \u001b[0m | \u001b[0m 119.2   \u001b[0m | \u001b[0m 0.3117  \u001b[0m | \u001b[0m 0.2242  \u001b[0m | \u001b[0m 0.907   \u001b[0m |\n",
      "params: {'n_estimator': 200, 'learning_rate': 0.02, 'num_leaves': 64, 'colsample_bytree': 0.9669330899630086, 'subsample': 0.59013614684125, 'max_depth': 49, 'reg_alpha': 0.41848510904031977, 'reg_lambda': 0.11061236380858464, 'min_split_gain': 0.06866426705998722, 'min_child_weight': 20.392767903558685, 'verbosity': -1}\n",
      "Training until validation scores don't improve for 30 rounds\n",
      "Early stopping, best iteration is:\n",
      "[5]\tvalid_0's auc: 0.879842\tvalid_0's binary_logloss: 0.628554\n",
      "best_iter: 5\n",
      "roc_auc: 0.8798418972332016\n",
      "| \u001b[0m 15      \u001b[0m | \u001b[0m 0.8798  \u001b[0m | \u001b[0m 0.9669  \u001b[0m | \u001b[0m 49.2    \u001b[0m | \u001b[0m 20.39   \u001b[0m | \u001b[0m 0.06866 \u001b[0m | \u001b[0m 63.67   \u001b[0m | \u001b[0m 0.4185  \u001b[0m | \u001b[0m 0.1106  \u001b[0m | \u001b[0m 0.5901  \u001b[0m |\n",
      "=========================================================================================================================\n"
     ]
    }
   ],
   "source": [
    "BO_lgb.maximize(init_points=5, n_iter=10)"
   ]
  },
  {
   "cell_type": "code",
   "execution_count": 116,
   "metadata": {},
   "outputs": [
    {
     "data": {
      "text/plain": [
       "{'target': 0.8970355731225297,\n",
       " 'params': {'colsample_bytree': 0.5591372129344666,\n",
       "  'max_depth': 128.34428324417723,\n",
       "  'min_child_weight': 11.450897933407088,\n",
       "  'min_split_gain': 0.09452222278790881,\n",
       "  'num_leaves': 104.32596770651419,\n",
       "  'reg_alpha': 0.2073309699952618,\n",
       "  'reg_lambda': 0.13227780605231348,\n",
       "  'subsample': 0.8871168447171083}}"
      ]
     },
     "execution_count": 116,
     "metadata": {},
     "output_type": "execute_result"
    }
   ],
   "source": [
    "BO_lgb.max"
   ]
  },
  {
   "cell_type": "code",
   "execution_count": 117,
   "metadata": {},
   "outputs": [
    {
     "name": "stdout",
     "output_type": "stream",
     "text": [
      "[1]\tvalid_0's auc: 0.849407\tvalid_0's binary_logloss: 0.659671\n",
      "Training until validation scores don't improve for 100 rounds\n",
      "[2]\tvalid_0's auc: 0.857576\tvalid_0's binary_logloss: 0.657223\n",
      "[3]\tvalid_0's auc: 0.881555\tvalid_0's binary_logloss: 0.64903\n",
      "[4]\tvalid_0's auc: 0.881028\tvalid_0's binary_logloss: 0.642099\n",
      "[5]\tvalid_0's auc: 0.879315\tvalid_0's binary_logloss: 0.636227\n",
      "[6]\tvalid_0's auc: 0.882872\tvalid_0's binary_logloss: 0.628555\n",
      "[7]\tvalid_0's auc: 0.878788\tvalid_0's binary_logloss: 0.62288\n",
      "[8]\tvalid_0's auc: 0.884453\tvalid_0's binary_logloss: 0.615636\n",
      "[9]\tvalid_0's auc: 0.88643\tvalid_0's binary_logloss: 0.609004\n",
      "[10]\tvalid_0's auc: 0.887418\tvalid_0's binary_logloss: 0.603591\n",
      "[11]\tvalid_0's auc: 0.886957\tvalid_0's binary_logloss: 0.599107\n",
      "[12]\tvalid_0's auc: 0.887879\tvalid_0's binary_logloss: 0.59267\n",
      "[13]\tvalid_0's auc: 0.888142\tvalid_0's binary_logloss: 0.586475\n",
      "[14]\tvalid_0's auc: 0.887615\tvalid_0's binary_logloss: 0.582145\n",
      "[15]\tvalid_0's auc: 0.885837\tvalid_0's binary_logloss: 0.579097\n",
      "[16]\tvalid_0's auc: 0.884651\tvalid_0's binary_logloss: 0.576319\n",
      "[17]\tvalid_0's auc: 0.88531\tvalid_0's binary_logloss: 0.571126\n",
      "[18]\tvalid_0's auc: 0.884519\tvalid_0's binary_logloss: 0.566564\n",
      "[19]\tvalid_0's auc: 0.885705\tvalid_0's binary_logloss: 0.561243\n",
      "[20]\tvalid_0's auc: 0.885968\tvalid_0's binary_logloss: 0.556418\n",
      "[21]\tvalid_0's auc: 0.886759\tvalid_0's binary_logloss: 0.55196\n",
      "[22]\tvalid_0's auc: 0.887747\tvalid_0's binary_logloss: 0.548438\n",
      "[23]\tvalid_0's auc: 0.889592\tvalid_0's binary_logloss: 0.543995\n",
      "[24]\tvalid_0's auc: 0.889987\tvalid_0's binary_logloss: 0.53972\n",
      "[25]\tvalid_0's auc: 0.889328\tvalid_0's binary_logloss: 0.535531\n",
      "[26]\tvalid_0's auc: 0.889592\tvalid_0's binary_logloss: 0.532437\n",
      "[27]\tvalid_0's auc: 0.891502\tvalid_0's binary_logloss: 0.531256\n",
      "[28]\tvalid_0's auc: 0.892424\tvalid_0's binary_logloss: 0.529971\n",
      "[29]\tvalid_0's auc: 0.891765\tvalid_0's binary_logloss: 0.526623\n",
      "[30]\tvalid_0's auc: 0.894203\tvalid_0's binary_logloss: 0.522721\n",
      "[31]\tvalid_0's auc: 0.89473\tvalid_0's binary_logloss: 0.519198\n",
      "[32]\tvalid_0's auc: 0.894862\tvalid_0's binary_logloss: 0.516556\n",
      "[33]\tvalid_0's auc: 0.895125\tvalid_0's binary_logloss: 0.512687\n",
      "[34]\tvalid_0's auc: 0.894466\tvalid_0's binary_logloss: 0.51027\n",
      "[35]\tvalid_0's auc: 0.893478\tvalid_0's binary_logloss: 0.508116\n",
      "[36]\tvalid_0's auc: 0.892556\tvalid_0's binary_logloss: 0.505184\n",
      "[37]\tvalid_0's auc: 0.89361\tvalid_0's binary_logloss: 0.502261\n",
      "[38]\tvalid_0's auc: 0.893478\tvalid_0's binary_logloss: 0.499832\n",
      "[39]\tvalid_0's auc: 0.895323\tvalid_0's binary_logloss: 0.496263\n",
      "[40]\tvalid_0's auc: 0.895586\tvalid_0's binary_logloss: 0.493321\n",
      "[41]\tvalid_0's auc: 0.896772\tvalid_0's binary_logloss: 0.490369\n",
      "[42]\tvalid_0's auc: 0.895586\tvalid_0's binary_logloss: 0.487905\n",
      "[43]\tvalid_0's auc: 0.895718\tvalid_0's binary_logloss: 0.485026\n",
      "[44]\tvalid_0's auc: 0.895059\tvalid_0's binary_logloss: 0.483085\n",
      "[45]\tvalid_0's auc: 0.896509\tvalid_0's binary_logloss: 0.480468\n",
      "[46]\tvalid_0's auc: 0.896509\tvalid_0's binary_logloss: 0.47844\n",
      "[47]\tvalid_0's auc: 0.896245\tvalid_0's binary_logloss: 0.476231\n",
      "[48]\tvalid_0's auc: 0.896509\tvalid_0's binary_logloss: 0.474135\n",
      "[49]\tvalid_0's auc: 0.897036\tvalid_0's binary_logloss: 0.472541\n",
      "[50]\tvalid_0's auc: 0.895455\tvalid_0's binary_logloss: 0.471293\n",
      "[51]\tvalid_0's auc: 0.895455\tvalid_0's binary_logloss: 0.469809\n",
      "[52]\tvalid_0's auc: 0.894928\tvalid_0's binary_logloss: 0.468395\n",
      "[53]\tvalid_0's auc: 0.894664\tvalid_0's binary_logloss: 0.466238\n",
      "[54]\tvalid_0's auc: 0.892029\tvalid_0's binary_logloss: 0.464855\n",
      "[55]\tvalid_0's auc: 0.894796\tvalid_0's binary_logloss: 0.46294\n",
      "[56]\tvalid_0's auc: 0.894005\tvalid_0's binary_logloss: 0.460913\n",
      "[57]\tvalid_0's auc: 0.894532\tvalid_0's binary_logloss: 0.459099\n",
      "[58]\tvalid_0's auc: 0.89473\tvalid_0's binary_logloss: 0.458177\n",
      "[59]\tvalid_0's auc: 0.894862\tvalid_0's binary_logloss: 0.456963\n",
      "[60]\tvalid_0's auc: 0.894203\tvalid_0's binary_logloss: 0.456397\n",
      "[61]\tvalid_0's auc: 0.894466\tvalid_0's binary_logloss: 0.454423\n",
      "[62]\tvalid_0's auc: 0.893676\tvalid_0's binary_logloss: 0.453198\n",
      "[63]\tvalid_0's auc: 0.893676\tvalid_0's binary_logloss: 0.452017\n",
      "[64]\tvalid_0's auc: 0.894466\tvalid_0's binary_logloss: 0.450228\n",
      "[65]\tvalid_0's auc: 0.89473\tvalid_0's binary_logloss: 0.449403\n",
      "[66]\tvalid_0's auc: 0.894993\tvalid_0's binary_logloss: 0.448628\n",
      "[67]\tvalid_0's auc: 0.894203\tvalid_0's binary_logloss: 0.447764\n",
      "[68]\tvalid_0's auc: 0.894335\tvalid_0's binary_logloss: 0.446352\n",
      "[69]\tvalid_0's auc: 0.894335\tvalid_0's binary_logloss: 0.445391\n",
      "[70]\tvalid_0's auc: 0.894071\tvalid_0's binary_logloss: 0.44456\n",
      "[71]\tvalid_0's auc: 0.894993\tvalid_0's binary_logloss: 0.442959\n",
      "[72]\tvalid_0's auc: 0.894993\tvalid_0's binary_logloss: 0.441219\n",
      "[73]\tvalid_0's auc: 0.895257\tvalid_0's binary_logloss: 0.43994\n",
      "[74]\tvalid_0's auc: 0.892885\tvalid_0's binary_logloss: 0.438301\n",
      "[75]\tvalid_0's auc: 0.892622\tvalid_0's binary_logloss: 0.436782\n",
      "[76]\tvalid_0's auc: 0.892754\tvalid_0's binary_logloss: 0.435943\n",
      "[77]\tvalid_0's auc: 0.89249\tvalid_0's binary_logloss: 0.434541\n",
      "[78]\tvalid_0's auc: 0.892622\tvalid_0's binary_logloss: 0.434164\n",
      "[79]\tvalid_0's auc: 0.892754\tvalid_0's binary_logloss: 0.433534\n",
      "[80]\tvalid_0's auc: 0.892622\tvalid_0's binary_logloss: 0.432304\n",
      "[81]\tvalid_0's auc: 0.892622\tvalid_0's binary_logloss: 0.431625\n",
      "[82]\tvalid_0's auc: 0.892754\tvalid_0's binary_logloss: 0.430246\n",
      "[83]\tvalid_0's auc: 0.892754\tvalid_0's binary_logloss: 0.429573\n",
      "[84]\tvalid_0's auc: 0.892754\tvalid_0's binary_logloss: 0.428336\n",
      "[85]\tvalid_0's auc: 0.892754\tvalid_0's binary_logloss: 0.427781\n",
      "[86]\tvalid_0's auc: 0.892754\tvalid_0's binary_logloss: 0.426586\n",
      "[87]\tvalid_0's auc: 0.893017\tvalid_0's binary_logloss: 0.425517\n",
      "[88]\tvalid_0's auc: 0.893017\tvalid_0's binary_logloss: 0.425053\n",
      "[89]\tvalid_0's auc: 0.893017\tvalid_0's binary_logloss: 0.423767\n",
      "[90]\tvalid_0's auc: 0.893017\tvalid_0's binary_logloss: 0.422592\n",
      "[91]\tvalid_0's auc: 0.893017\tvalid_0's binary_logloss: 0.422083\n",
      "[92]\tvalid_0's auc: 0.893149\tvalid_0's binary_logloss: 0.421013\n",
      "[93]\tvalid_0's auc: 0.892622\tvalid_0's binary_logloss: 0.420394\n",
      "[94]\tvalid_0's auc: 0.89249\tvalid_0's binary_logloss: 0.419725\n",
      "[95]\tvalid_0's auc: 0.892358\tvalid_0's binary_logloss: 0.419351\n",
      "[96]\tvalid_0's auc: 0.892885\tvalid_0's binary_logloss: 0.418974\n",
      "[97]\tvalid_0's auc: 0.893281\tvalid_0's binary_logloss: 0.418301\n",
      "[98]\tvalid_0's auc: 0.893281\tvalid_0's binary_logloss: 0.417169\n",
      "[99]\tvalid_0's auc: 0.893544\tvalid_0's binary_logloss: 0.416115\n",
      "[100]\tvalid_0's auc: 0.893544\tvalid_0's binary_logloss: 0.415645\n",
      "[101]\tvalid_0's auc: 0.893412\tvalid_0's binary_logloss: 0.415314\n",
      "[102]\tvalid_0's auc: 0.893281\tvalid_0's binary_logloss: 0.415005\n",
      "[103]\tvalid_0's auc: 0.893281\tvalid_0's binary_logloss: 0.41463\n",
      "[104]\tvalid_0's auc: 0.893281\tvalid_0's binary_logloss: 0.414131\n",
      "[105]\tvalid_0's auc: 0.893412\tvalid_0's binary_logloss: 0.413524\n",
      "[106]\tvalid_0's auc: 0.893281\tvalid_0's binary_logloss: 0.413213\n",
      "[107]\tvalid_0's auc: 0.893676\tvalid_0's binary_logloss: 0.412624\n",
      "[108]\tvalid_0's auc: 0.893676\tvalid_0's binary_logloss: 0.411945\n",
      "[109]\tvalid_0's auc: 0.893808\tvalid_0's binary_logloss: 0.411113\n",
      "[110]\tvalid_0's auc: 0.893281\tvalid_0's binary_logloss: 0.410625\n",
      "[111]\tvalid_0's auc: 0.893544\tvalid_0's binary_logloss: 0.409578\n",
      "[112]\tvalid_0's auc: 0.893544\tvalid_0's binary_logloss: 0.409023\n",
      "[113]\tvalid_0's auc: 0.893544\tvalid_0's binary_logloss: 0.408284\n",
      "[114]\tvalid_0's auc: 0.893544\tvalid_0's binary_logloss: 0.408051\n",
      "[115]\tvalid_0's auc: 0.893544\tvalid_0's binary_logloss: 0.407808\n",
      "[116]\tvalid_0's auc: 0.893544\tvalid_0's binary_logloss: 0.407476\n",
      "[117]\tvalid_0's auc: 0.893676\tvalid_0's binary_logloss: 0.40725\n",
      "[118]\tvalid_0's auc: 0.894071\tvalid_0's binary_logloss: 0.40668\n",
      "[119]\tvalid_0's auc: 0.894335\tvalid_0's binary_logloss: 0.406386\n",
      "[120]\tvalid_0's auc: 0.894466\tvalid_0's binary_logloss: 0.405302\n",
      "[121]\tvalid_0's auc: 0.894335\tvalid_0's binary_logloss: 0.404876\n",
      "[122]\tvalid_0's auc: 0.894335\tvalid_0's binary_logloss: 0.404751\n",
      "[123]\tvalid_0's auc: 0.894466\tvalid_0's binary_logloss: 0.404137\n",
      "[124]\tvalid_0's auc: 0.894335\tvalid_0's binary_logloss: 0.403843\n",
      "[125]\tvalid_0's auc: 0.894335\tvalid_0's binary_logloss: 0.403588\n",
      "[126]\tvalid_0's auc: 0.894335\tvalid_0's binary_logloss: 0.403251\n",
      "[127]\tvalid_0's auc: 0.894466\tvalid_0's binary_logloss: 0.402659\n",
      "[128]\tvalid_0's auc: 0.894598\tvalid_0's binary_logloss: 0.402141\n",
      "[129]\tvalid_0's auc: 0.894862\tvalid_0's binary_logloss: 0.401534\n",
      "[130]\tvalid_0's auc: 0.895389\tvalid_0's binary_logloss: 0.401014\n",
      "[131]\tvalid_0's auc: 0.894466\tvalid_0's binary_logloss: 0.400877\n",
      "[132]\tvalid_0's auc: 0.894993\tvalid_0's binary_logloss: 0.400224\n",
      "[133]\tvalid_0's auc: 0.894993\tvalid_0's binary_logloss: 0.399702\n",
      "[134]\tvalid_0's auc: 0.895784\tvalid_0's binary_logloss: 0.399518\n",
      "[135]\tvalid_0's auc: 0.895784\tvalid_0's binary_logloss: 0.399241\n",
      "[136]\tvalid_0's auc: 0.895784\tvalid_0's binary_logloss: 0.39868\n",
      "[137]\tvalid_0's auc: 0.895652\tvalid_0's binary_logloss: 0.398695\n",
      "[138]\tvalid_0's auc: 0.89552\tvalid_0's binary_logloss: 0.398209\n",
      "[139]\tvalid_0's auc: 0.89552\tvalid_0's binary_logloss: 0.397967\n",
      "[140]\tvalid_0's auc: 0.895652\tvalid_0's binary_logloss: 0.397774\n",
      "[141]\tvalid_0's auc: 0.895652\tvalid_0's binary_logloss: 0.397609\n",
      "[142]\tvalid_0's auc: 0.89552\tvalid_0's binary_logloss: 0.397241\n",
      "[143]\tvalid_0's auc: 0.896047\tvalid_0's binary_logloss: 0.397064\n",
      "[144]\tvalid_0's auc: 0.895784\tvalid_0's binary_logloss: 0.396592\n",
      "[145]\tvalid_0's auc: 0.89552\tvalid_0's binary_logloss: 0.396368\n",
      "[146]\tvalid_0's auc: 0.89552\tvalid_0's binary_logloss: 0.395969\n",
      "[147]\tvalid_0's auc: 0.895652\tvalid_0's binary_logloss: 0.395512\n",
      "[148]\tvalid_0's auc: 0.895784\tvalid_0's binary_logloss: 0.394774\n",
      "[149]\tvalid_0's auc: 0.895916\tvalid_0's binary_logloss: 0.394054\n",
      "Early stopping, best iteration is:\n",
      "[49]\tvalid_0's auc: 0.897036\tvalid_0's binary_logloss: 0.472541\n",
      "ROC AUC: 0.8970\n"
     ]
    }
   ],
   "source": [
    "max_params = BO_lgb.max['params']\n",
    "\n",
    "max_params['num_leaves'] = int(round(max_params['num_leaves']))\n",
    "max_params['max_depth'] = int(round(max_params['max_depth']))\n",
    "\n",
    "lgbm_clf_bayes_best = LGBMClassifier(n_estimators=1000, learning_rate=0.02, **max_params)\n",
    "\n",
    "evals = [(X_test, y_test)]\n",
    "lgbm_clf_bayes_best.fit(X_train, y_train, early_stopping_rounds=100, eval_metric=\"auc\", eval_set=evals,\n",
    "                verbose=True)\n",
    "\n",
    "lgbm_roc_score = roc_auc_score(y_test, lgbm_clf_bayes_best.predict_proba(X_test)[:,1],average='macro')\n",
    "print('ROC AUC: {0:.4f}'.format(lgbm_roc_score))"
   ]
  },
  {
   "cell_type": "code",
   "execution_count": 118,
   "metadata": {},
   "outputs": [
    {
     "data": {
      "text/plain": [
       "LGBMClassifier(colsample_bytree=0.5591372129344666, learning_rate=0.02,\n",
       "               max_depth=128, min_child_weight=11.450897933407088,\n",
       "               min_split_gain=0.09452222278790881, n_estimators=1000,\n",
       "               num_leaves=104, reg_alpha=0.2073309699952618,\n",
       "               reg_lambda=0.13227780605231348, subsample=0.8871168447171083)"
      ]
     },
     "execution_count": 118,
     "metadata": {},
     "output_type": "execute_result"
    }
   ],
   "source": [
    "lgbm_clf_bayes_best"
   ]
  },
  {
   "cell_type": "code",
   "execution_count": 119,
   "metadata": {},
   "outputs": [
    {
     "data": {
      "text/plain": [
       "LGBMClassifier(colsample_bytree=0.5591372129344666, learning_rate=0.02,\n",
       "               max_depth=128, min_child_weight=11.450897933407088,\n",
       "               min_split_gain=0.09452222278790881, n_estimators=1000,\n",
       "               num_leaves=104, reg_alpha=0.2073309699952618,\n",
       "               reg_lambda=0.13227780605231348, subsample=0.8871168447171083)"
      ]
     },
     "execution_count": 119,
     "metadata": {},
     "output_type": "execute_result"
    }
   ],
   "source": [
    "lgbm_clf_bayes_best.fit(X_train, y_train)"
   ]
  },
  {
   "cell_type": "code",
   "execution_count": 120,
   "metadata": {},
   "outputs": [
    {
     "name": "stdout",
     "output_type": "stream",
     "text": [
      "pred_proba()결과 Shape : (179, 2)\n",
      "pred_proba array에서 앞 3개만 샘플로 추출 \n",
      ": [[0.92557576 0.07442424]\n",
      " [0.84646393 0.15353607]\n",
      " [0.85301871 0.14698129]]\n",
      "두개의 class 중에서 더 큰 확률을 클래스 값으로 예측 \n",
      " [[0.92557576 0.07442424 0.92621433 0.07378567]\n",
      " [0.84646393 0.15353607 0.83772652 0.16227348]\n",
      " [0.85301871 0.14698129 0.90425811 0.09574189]]\n"
     ]
    }
   ],
   "source": [
    "## 1 ##\n",
    "\n",
    "pred_proba = lgbm_clf_bayes_best.predict_proba(X_test) ##\n",
    "pred  = lgbm_clf_best.predict_proba(X_test) ##\n",
    "print('pred_proba()결과 Shape : {0}'.format(pred_proba.shape))\n",
    "print('pred_proba array에서 앞 3개만 샘플로 추출 \\n:', pred_proba[:3])\n",
    "\n",
    "# 예측 확률 array 와 예측 결과값 array 를 concatenate 하여 예측 확률과 결과값을 한눈에 확인\n",
    "pred_proba_result = np.concatenate([pred_proba , pred.reshape(-1,2)],axis=1)\n",
    "print('두개의 class 중에서 더 큰 확률을 클래스 값으로 예측 \\n',pred_proba_result[:3])\n"
   ]
  },
  {
   "cell_type": "code",
   "execution_count": 121,
   "metadata": {},
   "outputs": [
    {
     "name": "stdout",
     "output_type": "stream",
     "text": [
      "오차 행렬\n",
      "[[108   2]\n",
      " [ 21  48]]\n",
      "정확도: 0.8715, 정밀도: 0.9600, 재현율: 0.6957, F1_score:  0.695652\n"
     ]
    }
   ],
   "source": [
    "## 2\n",
    "\n",
    "from sklearn.preprocessing import Binarizer\n",
    "\n",
    "#Binarizer의 threshold 설정값. 분류 결정 임곗값임.  \n",
    "custom_threshold = 0.5\n",
    "\n",
    "# predict_proba( ) 반환값의 두번째 컬럼 , 즉 Positive 클래스 컬럼 하나만 추출하여 Binarizer를 적용\n",
    "pred_proba_1 = pred_proba[:,1].reshape(-1,1)\n",
    "\n",
    "binarizer = Binarizer(threshold=custom_threshold).fit(pred_proba_1) \n",
    "custom_predict = binarizer.transform(pred_proba_1)\n",
    "\n",
    "get_clf_eval(y_test, custom_predict)"
   ]
  },
  {
   "cell_type": "code",
   "execution_count": 122,
   "metadata": {},
   "outputs": [],
   "source": [
    "from sklearn.metrics import precision_recall_curve\n",
    "\n",
    "# 레이블 값이 1일때의 예측 확률을 추출 \n",
    "pred_proba_class1 = lgbm_clf_bayes_best.predict_proba(X_test)[:, 1] ###\n"
   ]
  },
  {
   "cell_type": "code",
   "execution_count": 123,
   "metadata": {},
   "outputs": [
    {
     "data": {
      "image/png": "[encoded data removed]",
      "text/plain": [
       "<Figure size 576x432 with 1 Axes>"
      ]
     },
     "metadata": {
      "needs_background": "light"
     },
     "output_type": "display_data"
    }
   ],
   "source": [
    "import matplotlib.pyplot as plt\n",
    "import matplotlib.ticker as ticker\n",
    "%matplotlib inline\n",
    "\n",
    "def precision_recall_curve_plot(y_test, pred_proba_c1):\n",
    "    # threshold ndarray와 이 threshold에 따른 정밀도, 재현율 ndarray 추출. \n",
    "    precisions, recalls, thresholds = precision_recall_curve( y_test, pred_proba_c1)\n",
    "    \n",
    "    # X축을 threshold값으로, Y축은 정밀도, 재현율 값으로 각각 Plot 수행. 정밀도는 점선으로 표시\n",
    "    plt.figure(figsize=(8,6))\n",
    "    threshold_boundary = thresholds.shape[0]\n",
    "    plt.plot(thresholds, precisions[0:threshold_boundary], linestyle='--', label='precision')\n",
    "    plt.plot(thresholds, recalls[0:threshold_boundary],label='recall')\n",
    "    \n",
    "    # threshold 값 X 축의 Scale을 0.1 단위로 변경\n",
    "    start, end = plt.xlim()\n",
    "    plt.xticks(np.round(np.arange(start, end, 0.1),2))\n",
    "    \n",
    "    # x축, y축 label과 legend, 그리고 grid 설정\n",
    "    plt.xlabel('Threshold value'); plt.ylabel('Precision and Recall value')\n",
    "    plt.legend(); plt.grid()\n",
    "    plt.show()\n",
    "    \n",
    "precision_recall_curve_plot(y_test, lgbm_clf_best.predict_proba(X_test)[:, 1] ) ####\n"
   ]
  },
  {
   "cell_type": "code",
   "execution_count": 124,
   "metadata": {},
   "outputs": [
    {
     "data": {
      "text/plain": [
       "(0.312, 0.8085)"
      ]
     },
     "execution_count": 124,
     "metadata": {},
     "output_type": "execute_result"
    }
   ],
   "source": [
    "def Find_threshold(model, X_test, y_test):\n",
    "    thresholds = np.arange(0,1,0.001)\n",
    "    threshold_count = []\n",
    "    pred_proba=model.predict_proba(X_test)\n",
    "    pred_proba_1 = pred_proba[:,1].reshape(-1,1)\n",
    "    for threshold in thresholds:\n",
    "        binarizer = Binarizer(threshold=threshold)\n",
    "        model_cl_pred = binarizer.transform(pred_proba_1)\n",
    "        threshold_count.append([threshold, metrics.f1_score(model_cl_pred, y_test)])\n",
    "\n",
    "    MAX=thresholds[np.array(threshold_count)[:,1].argmax()]\n",
    "    \n",
    "    thresholds = np.arange(MAX-0.05,MAX+0.05,0.005)\n",
    "    threshold_count = []\n",
    "    for threshold in thresholds:\n",
    "        binarizer = Binarizer(threshold=threshold)\n",
    "        model_cl_pred = binarizer.transform(pred_proba_1)\n",
    "        #threshold_count.append([threshold, metrics.f1_score(log_cl_pred, y_test)])\n",
    "        #print('threshold: {0:.4f}, f1_score: {1:.4f}'.format(threshold,metrics.f1_score(model_cl_pred, y_test)))\n",
    "        threshold_count.append([threshold, metrics.f1_score(model_cl_pred, y_test)])\n",
    "    \n",
    "    return np.round(thresholds[np.array(threshold_count)[:,1].argmax()],4), np.round(metrics.f1_score(Binarizer(threshold=thresholds[np.array(threshold_count)[:,1].argmax()]).transform(pred_proba_1), y_test),4)\n",
    "\n",
    "Find_threshold(lgbm_clf_bayes_best, X_test, y_test)"
   ]
  },
  {
   "cell_type": "code",
   "execution_count": 125,
   "metadata": {},
   "outputs": [
    {
     "name": "stdout",
     "output_type": "stream",
     "text": [
      "오차 행렬\n",
      "[[95 15]\n",
      " [12 57]]\n",
      "정확도: 0.8492, 정밀도: 0.7917, 재현율: 0.8261, F1_score:  0.826087\n"
     ]
    }
   ],
   "source": [
    "# Binarizer의 베스트 threshold 설정값 지정 \n",
    "\n",
    "custom_threshold = 0.312\n",
    "pred_proba_1 = pred_proba[:,1].reshape(-1,1)\n",
    "binarizer = Binarizer(threshold=custom_threshold).fit(pred_proba_1) \n",
    "custom_predict = binarizer.transform(pred_proba_1)\n",
    "\n",
    "get_clf_eval(y_test , custom_predict)"
   ]
  },
  {
   "cell_type": "markdown",
   "metadata": {},
   "source": [
    "# 7. 샘플링기법 적용(오버샘플링) - ADASYN\n",
    "- ADASYN(Adaptive Synthetic Sampling) 방법은 소수 클래스 데이터와 그 데이터에서 가장 가까운 k개의 소수 클래스 데이터 중 무작위로 선택된 데이터 사이의 직선상에 가상의 소수 클래스 데이터를 만드는 방법이다."
   ]
  },
  {
   "cell_type": "code",
   "execution_count": 126,
   "metadata": {},
   "outputs": [],
   "source": [
    "from imblearn.over_sampling import *"
   ]
  },
  {
   "cell_type": "code",
   "execution_count": 127,
   "metadata": {},
   "outputs": [],
   "source": [
    "from sklearn.model_selection import train_test_split\n",
    "\n",
    "X_train, X_test, y_train, y_test = train_test_split(X, y, test_size = 0.2, shuffle = True, stratify = y)\n",
    "\n",
    "# 분류학습시 stratify = target으로 설정해야함."
   ]
  },
  {
   "cell_type": "code",
   "execution_count": 128,
   "metadata": {},
   "outputs": [],
   "source": [
    "X_train, y_train = ADASYN(random_state=0).fit_sample(X_train, y_train)"
   ]
  },
  {
   "cell_type": "code",
   "execution_count": 129,
   "metadata": {},
   "outputs": [
    {
     "name": "stdout",
     "output_type": "stream",
     "text": [
      "학습 세트 Shape:(869, 24), 테스트 세트 Shape:(179, 24)\n",
      " 학습 세트 레이블 값 분포 비율\n",
      "0    0.505178\n",
      "1    0.494822\n",
      "Name: Survived, dtype: float64\n",
      "\n",
      " 테스트 세트 레이블 값 분포 비율\n",
      "0    0.614525\n",
      "1    0.385475\n",
      "Name: Survived, dtype: float64\n"
     ]
    }
   ],
   "source": [
    "# 추후 오버,언더,하이드리브 샘플링 적용시 레이블 값 분포를 보기위한 코드.\n",
    "\n",
    "train_cnt = y_train.count()\n",
    "test_cnt = y_test.count()\n",
    "print('학습 세트 Shape:{0}, 테스트 세트 Shape:{1}'.format(X_train.shape , X_test.shape))\n",
    "\n",
    "print(' 학습 세트 레이블 값 분포 비율')\n",
    "print(y_train.value_counts()/train_cnt)\n",
    "print('\\n 테스트 세트 레이블 값 분포 비율')\n",
    "print(y_test.value_counts()/test_cnt)"
   ]
  },
  {
   "cell_type": "markdown",
   "metadata": {},
   "source": [
    "# 7-1. GridsearchCV"
   ]
  },
  {
   "cell_type": "code",
   "execution_count": 130,
   "metadata": {},
   "outputs": [],
   "source": [
    "from sklearn.model_selection import GridSearchCV\n",
    "\n",
    "params = {'num_leaves': [32, 64],\n",
    "          'max_depth':[128, 160],\n",
    "          'min_child_samples':[60, 100],\n",
    "          'subsample':[0.8, 1]}\n",
    "\n",
    "\n",
    "gridcv = GridSearchCV(lgbm_clf, param_grid=params, verbose=3, n_jobs=-1, cv=3)"
   ]
  },
  {
   "cell_type": "code",
   "execution_count": 131,
   "metadata": {},
   "outputs": [
    {
     "name": "stdout",
     "output_type": "stream",
     "text": [
      "Fitting 3 folds for each of 16 candidates, totalling 48 fits\n"
     ]
    },
    {
     "name": "stderr",
     "output_type": "stream",
     "text": [
      "[Parallel(n_jobs=-1)]: Using backend LokyBackend with 8 concurrent workers.\n",
      "[Parallel(n_jobs=-1)]: Done  16 tasks      | elapsed:    0.3s\n"
     ]
    },
    {
     "name": "stdout",
     "output_type": "stream",
     "text": [
      "[1]\ttraining's binary_logloss: 0.669271\tvalid_1's binary_logloss: 0.666905\n",
      "Training until validation scores don't improve for 30 rounds\n",
      "[2]\ttraining's binary_logloss: 0.649889\tvalid_1's binary_logloss: 0.64752\n",
      "[3]\ttraining's binary_logloss: 0.630738\tvalid_1's binary_logloss: 0.629782\n",
      "[4]\ttraining's binary_logloss: 0.614912\tvalid_1's binary_logloss: 0.615229\n",
      "[5]\ttraining's binary_logloss: 0.603536\tvalid_1's binary_logloss: 0.603883\n",
      "[6]\ttraining's binary_logloss: 0.593627\tvalid_1's binary_logloss: 0.593605\n",
      "[7]\ttraining's binary_logloss: 0.585558\tvalid_1's binary_logloss: 0.585619\n",
      "[8]\ttraining's binary_logloss: 0.576646\tvalid_1's binary_logloss: 0.577867\n",
      "[9]\ttraining's binary_logloss: 0.570863\tvalid_1's binary_logloss: 0.572234\n",
      "[10]\ttraining's binary_logloss: 0.564142\tvalid_1's binary_logloss: 0.56657\n",
      "[11]\ttraining's binary_logloss: 0.55998\tvalid_1's binary_logloss: 0.562612\n",
      "[12]\ttraining's binary_logloss: 0.554859\tvalid_1's binary_logloss: 0.558458\n",
      "[13]\ttraining's binary_logloss: 0.551746\tvalid_1's binary_logloss: 0.555234\n",
      "[14]\ttraining's binary_logloss: 0.547745\tvalid_1's binary_logloss: 0.552052\n",
      "[15]\ttraining's binary_logloss: 0.544449\tvalid_1's binary_logloss: 0.548499\n",
      "[16]\ttraining's binary_logloss: 0.541385\tvalid_1's binary_logloss: 0.54615\n",
      "[17]\ttraining's binary_logloss: 0.539243\tvalid_1's binary_logloss: 0.544188\n",
      "[18]\ttraining's binary_logloss: 0.536752\tvalid_1's binary_logloss: 0.543164\n",
      "[19]\ttraining's binary_logloss: 0.535129\tvalid_1's binary_logloss: 0.541648\n",
      "[20]\ttraining's binary_logloss: 0.533112\tvalid_1's binary_logloss: 0.540044\n",
      "[21]\ttraining's binary_logloss: 0.531869\tvalid_1's binary_logloss: 0.538874\n",
      "[22]\ttraining's binary_logloss: 0.530474\tvalid_1's binary_logloss: 0.53707\n",
      "[23]\ttraining's binary_logloss: 0.528958\tvalid_1's binary_logloss: 0.536798\n",
      "[24]\ttraining's binary_logloss: 0.5277\tvalid_1's binary_logloss: 0.536666\n",
      "[25]\ttraining's binary_logloss: 0.526612\tvalid_1's binary_logloss: 0.535172\n",
      "[26]\ttraining's binary_logloss: 0.525828\tvalid_1's binary_logloss: 0.534461\n",
      "[27]\ttraining's binary_logloss: 0.524258\tvalid_1's binary_logloss: 0.533906\n",
      "[28]\ttraining's binary_logloss: 0.523614\tvalid_1's binary_logloss: 0.532465\n",
      "[29]\ttraining's binary_logloss: 0.522289\tvalid_1's binary_logloss: 0.532051\n",
      "[30]\ttraining's binary_logloss: 0.521721\tvalid_1's binary_logloss: 0.531642\n",
      "[31]\ttraining's binary_logloss: 0.520605\tvalid_1's binary_logloss: 0.531332\n",
      "[32]\ttraining's binary_logloss: 0.519653\tvalid_1's binary_logloss: 0.53056\n",
      "[33]\ttraining's binary_logloss: 0.519142\tvalid_1's binary_logloss: 0.530219\n",
      "[34]\ttraining's binary_logloss: 0.51832\tvalid_1's binary_logloss: 0.529563\n",
      "[35]\ttraining's binary_logloss: 0.517872\tvalid_1's binary_logloss: 0.529277\n",
      "[36]\ttraining's binary_logloss: 0.517269\tvalid_1's binary_logloss: 0.52933\n",
      "[37]\ttraining's binary_logloss: 0.516881\tvalid_1's binary_logloss: 0.529079\n",
      "[38]\ttraining's binary_logloss: 0.516192\tvalid_1's binary_logloss: 0.529051\n",
      "[39]\ttraining's binary_logloss: 0.515801\tvalid_1's binary_logloss: 0.528065\n",
      "[40]\ttraining's binary_logloss: 0.515192\tvalid_1's binary_logloss: 0.527605\n",
      "[41]\ttraining's binary_logloss: 0.514684\tvalid_1's binary_logloss: 0.526798\n",
      "[42]\ttraining's binary_logloss: 0.514235\tvalid_1's binary_logloss: 0.52691\n",
      "[43]\ttraining's binary_logloss: 0.513936\tvalid_1's binary_logloss: 0.526789\n",
      "[44]\ttraining's binary_logloss: 0.513434\tvalid_1's binary_logloss: 0.52643\n",
      "[45]\ttraining's binary_logloss: 0.513092\tvalid_1's binary_logloss: 0.526582\n",
      "[46]\ttraining's binary_logloss: 0.512807\tvalid_1's binary_logloss: 0.526461\n",
      "[47]\ttraining's binary_logloss: 0.512405\tvalid_1's binary_logloss: 0.526192\n",
      "[48]\ttraining's binary_logloss: 0.51198\tvalid_1's binary_logloss: 0.525534\n",
      "[49]\ttraining's binary_logloss: 0.511629\tvalid_1's binary_logloss: 0.525313\n",
      "[50]\ttraining's binary_logloss: 0.511379\tvalid_1's binary_logloss: 0.525233\n",
      "[51]\ttraining's binary_logloss: 0.51109\tvalid_1's binary_logloss: 0.525769\n",
      "[52]\ttraining's binary_logloss: 0.510796\tvalid_1's binary_logloss: 0.525597\n",
      "[53]\ttraining's binary_logloss: 0.510622\tvalid_1's binary_logloss: 0.525094\n",
      "[54]\ttraining's binary_logloss: 0.509725\tvalid_1's binary_logloss: 0.523522\n",
      "[55]\ttraining's binary_logloss: 0.509078\tvalid_1's binary_logloss: 0.522607\n",
      "[56]\ttraining's binary_logloss: 0.50886\tvalid_1's binary_logloss: 0.522526\n",
      "[57]\ttraining's binary_logloss: 0.508314\tvalid_1's binary_logloss: 0.521738\n",
      "[58]\ttraining's binary_logloss: 0.50811\tvalid_1's binary_logloss: 0.52175\n",
      "[59]\ttraining's binary_logloss: 0.507888\tvalid_1's binary_logloss: 0.521751\n",
      "[60]\ttraining's binary_logloss: 0.507695\tvalid_1's binary_logloss: 0.52182\n",
      "[61]\ttraining's binary_logloss: 0.507501\tvalid_1's binary_logloss: 0.521829\n",
      "[62]\ttraining's binary_logloss: 0.50733\tvalid_1's binary_logloss: 0.521936\n",
      "[63]\ttraining's binary_logloss: 0.507169\tvalid_1's binary_logloss: 0.521878\n",
      "[64]\ttraining's binary_logloss: 0.506845\tvalid_1's binary_logloss: 0.521387\n",
      "[65]\ttraining's binary_logloss: 0.506695\tvalid_1's binary_logloss: 0.52146\n",
      "[66]\ttraining's binary_logloss: 0.506411\tvalid_1's binary_logloss: 0.521029\n",
      "[67]\ttraining's binary_logloss: 0.50627\tvalid_1's binary_logloss: 0.521094\n",
      "[68]\ttraining's binary_logloss: 0.506093\tvalid_1's binary_logloss: 0.521101\n",
      "[69]\ttraining's binary_logloss: 0.505906\tvalid_1's binary_logloss: 0.521327\n",
      "[70]\ttraining's binary_logloss: 0.505777\tvalid_1's binary_logloss: 0.521411\n",
      "[71]\ttraining's binary_logloss: 0.505314\tvalid_1's binary_logloss: 0.520776\n",
      "[72]\ttraining's binary_logloss: 0.505189\tvalid_1's binary_logloss: 0.52071\n",
      "[73]\ttraining's binary_logloss: 0.505082\tvalid_1's binary_logloss: 0.520292\n",
      "[74]\ttraining's binary_logloss: 0.504571\tvalid_1's binary_logloss: 0.521209\n",
      "[75]\ttraining's binary_logloss: 0.504319\tvalid_1's binary_logloss: 0.520846\n",
      "[76]\ttraining's binary_logloss: 0.504193\tvalid_1's binary_logloss: 0.520753\n",
      "[77]\ttraining's binary_logloss: 0.5041\tvalid_1's binary_logloss: 0.520374\n",
      "[78]\ttraining's binary_logloss: 0.503677\tvalid_1's binary_logloss: 0.521146\n",
      "[79]\ttraining's binary_logloss: 0.503454\tvalid_1's binary_logloss: 0.52085\n",
      "[80]\ttraining's binary_logloss: 0.503342\tvalid_1's binary_logloss: 0.520797\n",
      "[81]\ttraining's binary_logloss: 0.50315\tvalid_1's binary_logloss: 0.520533\n",
      "[82]\ttraining's binary_logloss: 0.502786\tvalid_1's binary_logloss: 0.521354\n",
      "[83]\ttraining's binary_logloss: 0.502662\tvalid_1's binary_logloss: 0.521574\n",
      "[84]\ttraining's binary_logloss: 0.502577\tvalid_1's binary_logloss: 0.521213\n",
      "[85]\ttraining's binary_logloss: 0.502283\tvalid_1's binary_logloss: 0.522024\n",
      "[86]\ttraining's binary_logloss: 0.502097\tvalid_1's binary_logloss: 0.521791\n",
      "[87]\ttraining's binary_logloss: 0.502014\tvalid_1's binary_logloss: 0.521728\n",
      "[88]\ttraining's binary_logloss: 0.501638\tvalid_1's binary_logloss: 0.521191\n",
      "[89]\ttraining's binary_logloss: 0.501377\tvalid_1's binary_logloss: 0.521831\n",
      "[90]\ttraining's binary_logloss: 0.501301\tvalid_1's binary_logloss: 0.521492\n",
      "[91]\ttraining's binary_logloss: 0.501229\tvalid_1's binary_logloss: 0.521435\n",
      "[92]\ttraining's binary_logloss: 0.501\tvalid_1's binary_logloss: 0.521029\n",
      "[93]\ttraining's binary_logloss: 0.50074\tvalid_1's binary_logloss: 0.522007\n",
      "[94]\ttraining's binary_logloss: 0.500089\tvalid_1's binary_logloss: 0.521414\n",
      "[95]\ttraining's binary_logloss: 0.499887\tvalid_1's binary_logloss: 0.521042\n",
      "[96]\ttraining's binary_logloss: 0.499481\tvalid_1's binary_logloss: 0.521811\n",
      "[97]\ttraining's binary_logloss: 0.499416\tvalid_1's binary_logloss: 0.521776\n",
      "[98]\ttraining's binary_logloss: 0.49923\tvalid_1's binary_logloss: 0.521416\n",
      "[99]\ttraining's binary_logloss: 0.499017\tvalid_1's binary_logloss: 0.522342\n",
      "[100]\ttraining's binary_logloss: 0.498846\tvalid_1's binary_logloss: 0.522003\n",
      "[101]\ttraining's binary_logloss: 0.498654\tvalid_1's binary_logloss: 0.522885\n",
      "[102]\ttraining's binary_logloss: 0.498593\tvalid_1's binary_logloss: 0.522837\n",
      "[103]\ttraining's binary_logloss: 0.498426\tvalid_1's binary_logloss: 0.522501\n",
      "Early stopping, best iteration is:\n",
      "[73]\ttraining's binary_logloss: 0.505082\tvalid_1's binary_logloss: 0.520292\n"
     ]
    },
    {
     "name": "stderr",
     "output_type": "stream",
     "text": [
      "[Parallel(n_jobs=-1)]: Done  48 out of  48 | elapsed:    0.8s finished\n"
     ]
    },
    {
     "data": {
      "text/plain": [
       "GridSearchCV(cv=3, estimator=LGBMClassifier(n_estimators=400), n_jobs=-1,\n",
       "             param_grid={'max_depth': [128, 160],\n",
       "                         'min_child_samples': [60, 100], 'num_leaves': [32, 64],\n",
       "                         'subsample': [0.8, 1]},\n",
       "             verbose=3)"
      ]
     },
     "execution_count": 131,
     "metadata": {},
     "output_type": "execute_result"
    }
   ],
   "source": [
    "gridcv.fit(X_train, y_train, early_stopping_rounds=30, eval_metric=\"f1\",\n",
    "           eval_set=[(X_train, y_train), (X_test, y_test)])"
   ]
  },
  {
   "cell_type": "code",
   "execution_count": 132,
   "metadata": {},
   "outputs": [
    {
     "data": {
      "text/plain": [
       "LGBMClassifier(max_depth=128, min_child_samples=100, n_estimators=400,\n",
       "               num_leaves=32, subsample=0.8)"
      ]
     },
     "execution_count": 132,
     "metadata": {},
     "output_type": "execute_result"
    }
   ],
   "source": [
    "gridcv.best_estimator_"
   ]
  },
  {
   "cell_type": "code",
   "execution_count": 133,
   "metadata": {},
   "outputs": [],
   "source": [
    "lgbm_clf_best = LGBMClassifier(max_depth=128, min_child_samples=60, n_estimators=400,\n",
    "               num_leaves=32, subsample=0.8)"
   ]
  },
  {
   "cell_type": "code",
   "execution_count": 134,
   "metadata": {},
   "outputs": [
    {
     "data": {
      "text/plain": [
       "LGBMClassifier(max_depth=128, min_child_samples=60, n_estimators=400,\n",
       "               num_leaves=32, subsample=0.8)"
      ]
     },
     "execution_count": 134,
     "metadata": {},
     "output_type": "execute_result"
    }
   ],
   "source": [
    "lgbm_clf_best.fit(X_train, y_train)"
   ]
  },
  {
   "cell_type": "code",
   "execution_count": 135,
   "metadata": {},
   "outputs": [
    {
     "name": "stdout",
     "output_type": "stream",
     "text": [
      "pred_proba()결과 Shape : (179, 2)\n",
      "pred_proba array에서 앞 3개만 샘플로 추출 \n",
      ": [[0.75131076 0.24868924]\n",
      " [0.85000112 0.14999888]\n",
      " [0.20276547 0.79723453]]\n",
      "두개의 class 중에서 더 큰 확률을 클래스 값으로 예측 \n",
      " [[0.75131076 0.24868924 0.75131076 0.24868924]\n",
      " [0.85000112 0.14999888 0.85000112 0.14999888]\n",
      " [0.20276547 0.79723453 0.20276547 0.79723453]]\n"
     ]
    }
   ],
   "source": [
    "##\n",
    "\n",
    "pred_proba = lgbm_clf_best.predict_proba(X_test)\n",
    "pred  = lgbm_clf_best.predict_proba(X_test)\n",
    "print('pred_proba()결과 Shape : {0}'.format(pred_proba.shape))\n",
    "print('pred_proba array에서 앞 3개만 샘플로 추출 \\n:', pred_proba[:3])\n",
    "\n",
    "# 예측 확률 array 와 예측 결과값 array 를 concatenate 하여 예측 확률과 결과값을 한눈에 확인\n",
    "pred_proba_result = np.concatenate([pred_proba , pred.reshape(-1,2)],axis=1)\n",
    "print('두개의 class 중에서 더 큰 확률을 클래스 값으로 예측 \\n',pred_proba_result[:3])\n"
   ]
  },
  {
   "cell_type": "code",
   "execution_count": 136,
   "metadata": {},
   "outputs": [
    {
     "name": "stdout",
     "output_type": "stream",
     "text": [
      "오차 행렬\n",
      "[[77 33]\n",
      " [17 52]]\n",
      "정확도: 0.7207, 정밀도: 0.6118, 재현율: 0.7536, F1_score:  0.753623\n"
     ]
    }
   ],
   "source": [
    "from sklearn.preprocessing import Binarizer\n",
    "\n",
    "#Binarizer의 threshold 설정값. 분류 결정 임곗값임.  \n",
    "custom_threshold = 0.5\n",
    "\n",
    "# predict_proba( ) 반환값의 두번째 컬럼 , 즉 Positive 클래스 컬럼 하나만 추출하여 Binarizer를 적용\n",
    "pred_proba_1 = pred_proba[:,1].reshape(-1,1)\n",
    "\n",
    "binarizer = Binarizer(threshold=custom_threshold).fit(pred_proba_1) \n",
    "custom_predict = binarizer.transform(pred_proba_1)\n",
    "\n",
    "get_clf_eval(y_test, custom_predict)"
   ]
  },
  {
   "cell_type": "code",
   "execution_count": 137,
   "metadata": {},
   "outputs": [],
   "source": [
    "from sklearn.metrics import precision_recall_curve\n",
    "\n",
    "# 레이블 값이 1일때의 예측 확률을 추출 \n",
    "pred_proba_class1 = lgbm_clf_best.predict_proba(X_test)[:, 1] \n"
   ]
  },
  {
   "cell_type": "code",
   "execution_count": 138,
   "metadata": {},
   "outputs": [
    {
     "data": {
      "image/png": "[encoded data removed]",
      "text/plain": [
       "<Figure size 576x432 with 1 Axes>"
      ]
     },
     "metadata": {
      "needs_background": "light"
     },
     "output_type": "display_data"
    }
   ],
   "source": [
    "import matplotlib.pyplot as plt\n",
    "import matplotlib.ticker as ticker\n",
    "%matplotlib inline\n",
    "\n",
    "def precision_recall_curve_plot(y_test, pred_proba_c1):\n",
    "    # threshold ndarray와 이 threshold에 따른 정밀도, 재현율 ndarray 추출. \n",
    "    precisions, recalls, thresholds = precision_recall_curve( y_test, pred_proba_c1)\n",
    "    \n",
    "    # X축을 threshold값으로, Y축은 정밀도, 재현율 값으로 각각 Plot 수행. 정밀도는 점선으로 표시\n",
    "    plt.figure(figsize=(8,6))\n",
    "    threshold_boundary = thresholds.shape[0]\n",
    "    plt.plot(thresholds, precisions[0:threshold_boundary], linestyle='--', label='precision')\n",
    "    plt.plot(thresholds, recalls[0:threshold_boundary],label='recall')\n",
    "    \n",
    "    # threshold 값 X 축의 Scale을 0.1 단위로 변경\n",
    "    start, end = plt.xlim()\n",
    "    plt.xticks(np.round(np.arange(start, end, 0.1),2))\n",
    "    \n",
    "    # x축, y축 label과 legend, 그리고 grid 설정\n",
    "    plt.xlabel('Threshold value'); plt.ylabel('Precision and Recall value')\n",
    "    plt.legend(); plt.grid()\n",
    "    plt.show()\n",
    "    \n",
    "precision_recall_curve_plot(y_test, lgbm_clf_best.predict_proba(X_test)[:, 1] )\n"
   ]
  },
  {
   "cell_type": "code",
   "execution_count": 139,
   "metadata": {},
   "outputs": [
    {
     "data": {
      "text/plain": [
       "(0.533, 0.7183)"
      ]
     },
     "execution_count": 139,
     "metadata": {},
     "output_type": "execute_result"
    }
   ],
   "source": [
    "def Find_threshold(model, X_test, y_test):\n",
    "    thresholds = np.arange(0,1,0.001)\n",
    "    threshold_count = []\n",
    "    pred_proba=model.predict_proba(X_test)\n",
    "    pred_proba_1 = pred_proba[:,1].reshape(-1,1)\n",
    "    for threshold in thresholds:\n",
    "        binarizer = Binarizer(threshold=threshold)\n",
    "        model_cl_pred = binarizer.transform(pred_proba_1)\n",
    "        threshold_count.append([threshold, metrics.f1_score(model_cl_pred, y_test)])\n",
    "\n",
    "    MAX=thresholds[np.array(threshold_count)[:,1].argmax()]\n",
    "    \n",
    "    thresholds = np.arange(MAX-0.05,MAX+0.05,0.005)\n",
    "    threshold_count = []\n",
    "    for threshold in thresholds:\n",
    "        binarizer = Binarizer(threshold=threshold)\n",
    "        model_cl_pred = binarizer.transform(pred_proba_1)\n",
    "        #threshold_count.append([threshold, metrics.f1_score(log_cl_pred, y_test)])\n",
    "        #print('threshold: {0:.4f}, f1_score: {1:.4f}'.format(threshold,metrics.f1_score(model_cl_pred, y_test)))\n",
    "        threshold_count.append([threshold, metrics.f1_score(model_cl_pred, y_test)])\n",
    "    \n",
    "    return np.round(thresholds[np.array(threshold_count)[:,1].argmax()],4), np.round(metrics.f1_score(Binarizer(threshold=thresholds[np.array(threshold_count)[:,1].argmax()]).transform(pred_proba_1), y_test),4)\n",
    "\n",
    "Find_threshold(lgbm_clf_best, X_test, y_test)"
   ]
  },
  {
   "cell_type": "code",
   "execution_count": 140,
   "metadata": {},
   "outputs": [
    {
     "name": "stdout",
     "output_type": "stream",
     "text": [
      "오차 행렬\n",
      "[[88 22]\n",
      " [18 51]]\n",
      "정확도: 0.7765, 정밀도: 0.6986, 재현율: 0.7391, F1_score:  0.739130\n"
     ]
    }
   ],
   "source": [
    "# Binarizer의 베스트 threshold 설정값 지정 \n",
    "\n",
    "custom_threshold = 0.533\n",
    "pred_proba_1 = pred_proba[:,1].reshape(-1,1)\n",
    "binarizer = Binarizer(threshold=custom_threshold).fit(pred_proba_1) \n",
    "custom_predict = binarizer.transform(pred_proba_1)\n",
    "\n",
    "get_clf_eval(y_test , custom_predict)"
   ]
  },
  {
   "cell_type": "markdown",
   "metadata": {},
   "source": [
    "# 7-2. RandomizedSearchCV"
   ]
  },
  {
   "cell_type": "code",
   "execution_count": 141,
   "metadata": {},
   "outputs": [
    {
     "name": "stdout",
     "output_type": "stream",
     "text": [
      "{'n_estimators': [200, 400, 600, 800, 1000, 1200, 1400, 1600, 1800, 2000], 'max_features': ['auto', 'sqrt'], 'max_depth': [10, 20, 30, 40, 50, 60, 70, 80, 90, 100, 110, None], 'min_samples_split': [2, 5, 10], 'min_samples_leaf': [1, 2, 4], 'bootstrap': [True, False]}\n"
     ]
    }
   ],
   "source": [
    "from sklearn.model_selection import RandomizedSearchCV\n",
    "\n",
    "# Number of trees in random forest\n",
    "\n",
    "n_estimators = [int(x) for x in np.linspace(start = 200, stop = 2000, num = 10)]\n",
    "\n",
    "# Number of features to consider at every split\n",
    "\n",
    "max_features = ['auto', 'sqrt']\n",
    "\n",
    "# Maximum number of levels in tree\n",
    "\n",
    "max_depth = [int(x) for x in np.linspace(10, 110, num = 11)]\n",
    "\n",
    "max_depth.append(None)\n",
    "\n",
    "# Minimum number of samples required to split a node\n",
    "\n",
    "min_samples_split = [2, 5, 10]\n",
    "\n",
    "# Minimum number of samples required at each leaf node\n",
    "\n",
    "min_samples_leaf = [1, 2, 4]\n",
    "\n",
    "# Method of selecting samples for training each tree\n",
    "\n",
    "bootstrap = [True, False]\n",
    "\n",
    "# Create the random grid\n",
    "\n",
    "random_grid = {'n_estimators': n_estimators,\n",
    "               'max_features': max_features,\n",
    "               'max_depth': max_depth,\n",
    "               'min_samples_split': min_samples_split,\n",
    "               'min_samples_leaf': min_samples_leaf,\n",
    "               'bootstrap': bootstrap}\n",
    "\n",
    "print(random_grid)\n",
    "\n",
    "# {'bootstrap': [True, False],\n",
    "#  'max_depth': [10, 20, 30, 40, 50, 60, 70, 80, 90, 100, None],\n",
    "#  'max_features': ['auto', 'sqrt'],\n",
    "#  'min_samples_leaf': [1, 2, 4],\n",
    "#  'min_samples_split': [2, 5, 10],\n",
    "#  'n_estimators': [200, 400, 600, 800, 1000, 1200, 1400, 1600, 1800, 2000]}"
   ]
  },
  {
   "cell_type": "code",
   "execution_count": 142,
   "metadata": {},
   "outputs": [
    {
     "name": "stdout",
     "output_type": "stream",
     "text": [
      "Fitting 3 folds for each of 100 candidates, totalling 300 fits\n"
     ]
    },
    {
     "name": "stderr",
     "output_type": "stream",
     "text": [
      "[Parallel(n_jobs=-1)]: Using backend LokyBackend with 8 concurrent workers.\n",
      "[Parallel(n_jobs=-1)]: Done  34 tasks      | elapsed:    3.1s\n",
      "[Parallel(n_jobs=-1)]: Done 170 tasks      | elapsed:   16.8s\n",
      "[Parallel(n_jobs=-1)]: Done 300 out of 300 | elapsed:   30.1s finished\n"
     ]
    },
    {
     "name": "stdout",
     "output_type": "stream",
     "text": [
      "LGBMClassifier(bootstrap=True, max_depth=10, max_features='sqrt',\n",
      "               min_samples_leaf=1, min_samples_split=10, n_estimators=1000)\n"
     ]
    }
   ],
   "source": [
    "# Use the random grid to search for best hyperparameters\n",
    "# First create the base model to tune\n",
    "\n",
    "lg_cl = LGBMClassifier()\n",
    "\n",
    "# Random search of parameters, using 3 fold cross validation, \n",
    "# search across 100 different combinations, and use all available cores\n",
    "\n",
    "lg_random = RandomizedSearchCV(estimator = lg_cl, param_distributions = random_grid, n_iter = 100, cv = 3, verbose=2, n_jobs = -1)\n",
    "\n",
    "# Fit the random search model\n",
    "\n",
    "lg_random.fit(X_train, y_train)\n",
    "print(lg_random.best_estimator_)"
   ]
  },
  {
   "cell_type": "code",
   "execution_count": 143,
   "metadata": {},
   "outputs": [],
   "source": [
    "lgb_random_best = LGBMClassifier(bootstrap=True, max_depth=20, max_features='auto',\n",
    "               min_samples_leaf=1, min_samples_split=2, n_estimators=2000)"
   ]
  },
  {
   "cell_type": "code",
   "execution_count": 144,
   "metadata": {},
   "outputs": [
    {
     "data": {
      "text/plain": [
       "LGBMClassifier(bootstrap=True, max_depth=20, max_features='auto',\n",
       "               min_samples_leaf=1, min_samples_split=2, n_estimators=2000)"
      ]
     },
     "execution_count": 144,
     "metadata": {},
     "output_type": "execute_result"
    }
   ],
   "source": [
    "lgb_random_best.fit(X_train, y_train)"
   ]
  },
  {
   "cell_type": "code",
   "execution_count": 145,
   "metadata": {},
   "outputs": [
    {
     "name": "stdout",
     "output_type": "stream",
     "text": [
      "pred_proba()결과 Shape : (179, 2)\n",
      "pred_proba array에서 앞 3개만 샘플로 추출 \n",
      ": [[0.99189779 0.00810221]\n",
      " [0.86341579 0.13658421]\n",
      " [0.00159966 0.99840034]]\n",
      "두개의 class 중에서 더 큰 확률을 클래스 값으로 예측 \n",
      " [[0.99189779 0.00810221 0.99189779 0.00810221]\n",
      " [0.86341579 0.13658421 0.86341579 0.13658421]\n",
      " [0.00159966 0.99840034 0.00159966 0.99840034]]\n"
     ]
    }
   ],
   "source": [
    "## 1 ##\n",
    "\n",
    "pred_proba = lgb_random_best.predict_proba(X_test)\n",
    "pred  = lgb_random_best.predict_proba(X_test)\n",
    "print('pred_proba()결과 Shape : {0}'.format(pred_proba.shape))\n",
    "print('pred_proba array에서 앞 3개만 샘플로 추출 \\n:', pred_proba[:3])\n",
    "\n",
    "# 예측 확률 array 와 예측 결과값 array 를 concatenate 하여 예측 확률과 결과값을 한눈에 확인\n",
    "pred_proba_result = np.concatenate([pred_proba , pred.reshape(-1,2)],axis=1)\n",
    "print('두개의 class 중에서 더 큰 확률을 클래스 값으로 예측 \\n',pred_proba_result[:3])\n"
   ]
  },
  {
   "cell_type": "code",
   "execution_count": 146,
   "metadata": {},
   "outputs": [
    {
     "name": "stdout",
     "output_type": "stream",
     "text": [
      "오차 행렬\n",
      "[[82 28]\n",
      " [18 51]]\n",
      "정확도: 0.7430, 정밀도: 0.6456, 재현율: 0.7391, F1_score:  0.739130\n"
     ]
    }
   ],
   "source": [
    "## 2\n",
    "\n",
    "from sklearn.preprocessing import Binarizer\n",
    "\n",
    "#Binarizer의 threshold 설정값. 분류 결정 임곗값임.  \n",
    "custom_threshold = 0.5\n",
    "\n",
    "# predict_proba( ) 반환값의 두번째 컬럼 , 즉 Positive 클래스 컬럼 하나만 추출하여 Binarizer를 적용\n",
    "pred_proba_1 = pred_proba[:,1].reshape(-1,1)\n",
    "\n",
    "binarizer = Binarizer(threshold=custom_threshold).fit(pred_proba_1) \n",
    "custom_predict = binarizer.transform(pred_proba_1)\n",
    "\n",
    "get_clf_eval(y_test, custom_predict)"
   ]
  },
  {
   "cell_type": "code",
   "execution_count": 147,
   "metadata": {},
   "outputs": [],
   "source": [
    "from sklearn.metrics import precision_recall_curve\n",
    "\n",
    "# 레이블 값이 1일때의 예측 확률을 추출 \n",
    "pred_proba_class1 = lgb_random_best.predict_proba(X_test)[:, 1] ###\n"
   ]
  },
  {
   "cell_type": "code",
   "execution_count": 148,
   "metadata": {},
   "outputs": [
    {
     "data": {
      "image/png": "[encoded data removed]",
      "text/plain": [
       "<Figure size 576x432 with 1 Axes>"
      ]
     },
     "metadata": {
      "needs_background": "light"
     },
     "output_type": "display_data"
    }
   ],
   "source": [
    "import matplotlib.pyplot as plt\n",
    "import matplotlib.ticker as ticker\n",
    "%matplotlib inline\n",
    "\n",
    "def precision_recall_curve_plot(y_test, pred_proba_c1):\n",
    "    # threshold ndarray와 이 threshold에 따른 정밀도, 재현율 ndarray 추출. \n",
    "    precisions, recalls, thresholds = precision_recall_curve( y_test, pred_proba_c1)\n",
    "    \n",
    "    # X축을 threshold값으로, Y축은 정밀도, 재현율 값으로 각각 Plot 수행. 정밀도는 점선으로 표시\n",
    "    plt.figure(figsize=(8,6))\n",
    "    threshold_boundary = thresholds.shape[0]\n",
    "    plt.plot(thresholds, precisions[0:threshold_boundary], linestyle='--', label='precision')\n",
    "    plt.plot(thresholds, recalls[0:threshold_boundary],label='recall')\n",
    "    \n",
    "    # threshold 값 X 축의 Scale을 0.1 단위로 변경\n",
    "    start, end = plt.xlim()\n",
    "    plt.xticks(np.round(np.arange(start, end, 0.1),2))\n",
    "    \n",
    "    # x축, y축 label과 legend, 그리고 grid 설정\n",
    "    plt.xlabel('Threshold value'); plt.ylabel('Precision and Recall value')\n",
    "    plt.legend(); plt.grid()\n",
    "    plt.show()\n",
    "    \n",
    "precision_recall_curve_plot(y_test, lgb_random_best.predict_proba(X_test)[:, 1]) ##\n"
   ]
  },
  {
   "cell_type": "code",
   "execution_count": 149,
   "metadata": {},
   "outputs": [
    {
     "data": {
      "text/plain": [
       "(0.667, 0.7385)"
      ]
     },
     "execution_count": 149,
     "metadata": {},
     "output_type": "execute_result"
    }
   ],
   "source": [
    "def Find_threshold(model, X_test, y_test):\n",
    "    thresholds = np.arange(0,1,0.001)\n",
    "    threshold_count = []\n",
    "    pred_proba=model.predict_proba(X_test)\n",
    "    pred_proba_1 = pred_proba[:,1].reshape(-1,1)\n",
    "    for threshold in thresholds:\n",
    "        binarizer = Binarizer(threshold=threshold)\n",
    "        model_cl_pred = binarizer.transform(pred_proba_1)\n",
    "        threshold_count.append([threshold, metrics.f1_score(model_cl_pred, y_test)])\n",
    "\n",
    "    MAX=thresholds[np.array(threshold_count)[:,1].argmax()]\n",
    "    \n",
    "    thresholds = np.arange(MAX-0.05,MAX+0.05,0.005)\n",
    "    threshold_count = []\n",
    "    for threshold in thresholds:\n",
    "        binarizer = Binarizer(threshold=threshold)\n",
    "        model_cl_pred = binarizer.transform(pred_proba_1)\n",
    "        #threshold_count.append([threshold, metrics.f1_score(log_cl_pred, y_test)])\n",
    "        #print('threshold: {0:.4f}, f1_score: {1:.4f}'.format(threshold,metrics.f1_score(model_cl_pred, y_test)))\n",
    "        threshold_count.append([threshold, metrics.f1_score(model_cl_pred, y_test)])\n",
    "    \n",
    "    return np.round(thresholds[np.array(threshold_count)[:,1].argmax()],4), np.round(metrics.f1_score(Binarizer(threshold=thresholds[np.array(threshold_count)[:,1].argmax()]).transform(pred_proba_1), y_test),4)\n",
    "\n",
    "Find_threshold(lgb_random_best, X_test, y_test)"
   ]
  },
  {
   "cell_type": "code",
   "execution_count": 150,
   "metadata": {},
   "outputs": [
    {
     "name": "stdout",
     "output_type": "stream",
     "text": [
      "오차 행렬\n",
      "[[97 13]\n",
      " [21 48]]\n",
      "정확도: 0.8101, 정밀도: 0.7869, 재현율: 0.6957, F1_score:  0.695652\n"
     ]
    }
   ],
   "source": [
    "# Binarizer의 베스트 threshold 설정값 지정 \n",
    "\n",
    "custom_threshold = 0.667\n",
    "pred_proba_1 = pred_proba[:,1].reshape(-1,1)\n",
    "binarizer = Binarizer(threshold=custom_threshold).fit(pred_proba_1) \n",
    "custom_predict = binarizer.transform(pred_proba_1)\n",
    "\n",
    "get_clf_eval(y_test , custom_predict)"
   ]
  },
  {
   "cell_type": "markdown",
   "metadata": {},
   "source": [
    "# 7-3. BaysianOptimization"
   ]
  },
  {
   "cell_type": "code",
   "execution_count": 151,
   "metadata": {},
   "outputs": [],
   "source": [
    "bayes_params = {\n",
    "    'num_leaves': (1, 100),\n",
    "    'colsample_bytree':(0.5, 1), \n",
    "    'subsample': (0.5, 1),\n",
    "    'max_depth': (1, 200),\n",
    "    'reg_alpha': (0, 0.5),\n",
    "    'reg_lambda': (0, 0.5), \n",
    "    'min_split_gain': (0.001, 0.1),\n",
    "    'min_child_weight':(5, 50)\n",
    "}"
   ]
  },
  {
   "cell_type": "code",
   "execution_count": 152,
   "metadata": {},
   "outputs": [],
   "source": [
    "from lightgbm import LGBMClassifier\n",
    "from sklearn.metrics import roc_auc_score\n",
    "\n",
    "def lgb_roc_eval(num_leaves, colsample_bytree, subsample, max_depth, reg_alpha, reg_lambda, min_split_gain, min_child_weight):\n",
    "    \n",
    "    params = {\n",
    "        \"n_estimator\":200,\n",
    "        \"learning_rate\":0.02,\n",
    "        'num_leaves': int(round(num_leaves)),\n",
    "        'colsample_bytree': colsample_bytree, \n",
    "        'subsample': subsample,\n",
    "        'max_depth': int(round(max_depth)),\n",
    "        'reg_alpha': reg_alpha,\n",
    "        'reg_lambda': reg_lambda, \n",
    "        'min_split_gain': min_split_gain,\n",
    "        'min_child_weight': min_child_weight,\n",
    "        'verbosity': -1\n",
    "    }\n",
    "    print(\"params:\", params)\n",
    "    lgb_model = LGBMClassifier(**params)\n",
    "    lgb_model.fit(X_train, y_train, eval_set=[(X_test, y_test)], early_stopping_rounds=30, eval_metric=\"auc\", verbose=100 )\n",
    "    best_iter = lgb_model.best_iteration_\n",
    "    print('best_iter:', best_iter)\n",
    "    valid_proba = lgb_model.predict_proba(X_test, num_iteration=best_iter)[:, 1]\n",
    "    roc_preds = roc_auc_score(y_test, valid_proba)\n",
    "    print('roc_auc:', roc_preds)\n",
    "    return roc_preds\n",
    "    \n",
    "    "
   ]
  },
  {
   "cell_type": "code",
   "execution_count": 153,
   "metadata": {},
   "outputs": [],
   "source": [
    "from bayes_opt import BayesianOptimization\n",
    "\n",
    "BO_lgb = BayesianOptimization(lgb_roc_eval, bayes_params, random_state=0)\n"
   ]
  },
  {
   "cell_type": "code",
   "execution_count": 154,
   "metadata": {},
   "outputs": [
    {
     "name": "stdout",
     "output_type": "stream",
     "text": [
      "|   iter    |  target   | colsam... | max_depth | min_ch... | min_sp... | num_le... | reg_alpha | reg_la... | subsample |\n",
      "-------------------------------------------------------------------------------------------------------------------------\n",
      "params: {'n_estimator': 200, 'learning_rate': 0.02, 'num_leaves': 43, 'colsample_bytree': 0.7744067519636624, 'subsample': 0.9458865003910399, 'max_depth': 143, 'reg_alpha': 0.32294705653332806, 'reg_lambda': 0.21879360563134626, 'min_split_gain': 0.05494343511669279, 'min_child_weight': 32.12435192322397, 'verbosity': -1}\n",
      "Training until validation scores don't improve for 30 rounds\n",
      "Early stopping, best iteration is:\n",
      "[3]\tvalid_0's auc: 0.796113\tvalid_0's binary_logloss: 0.677285\n",
      "best_iter: 3\n",
      "roc_auc: 0.7961133069828722\n",
      "| \u001b[0m 1       \u001b[0m | \u001b[0m 0.7961  \u001b[0m | \u001b[0m 0.7744  \u001b[0m | \u001b[0m 143.3   \u001b[0m | \u001b[0m 32.12   \u001b[0m | \u001b[0m 0.05494 \u001b[0m | \u001b[0m 42.94   \u001b[0m | \u001b[0m 0.3229  \u001b[0m | \u001b[0m 0.2188  \u001b[0m | \u001b[0m 0.9459  \u001b[0m |\n",
      "params: {'n_estimator': 200, 'learning_rate': 0.02, 'num_leaves': 57, 'colsample_bytree': 0.9818313802505146, 'subsample': 0.5435646498507704, 'max_depth': 77, 'reg_alpha': 0.4627983191463305, 'reg_lambda': 0.03551802909894347, 'min_split_gain': 0.05336059705553755, 'min_child_weight': 40.627626713719906, 'verbosity': -1}\n",
      "Training until validation scores don't improve for 30 rounds\n",
      "Early stopping, best iteration is:\n",
      "[7]\tvalid_0's auc: 0.791436\tvalid_0's binary_logloss: 0.660733\n",
      "best_iter: 7\n",
      "roc_auc: 0.7914361001317523\n",
      "| \u001b[0m 2       \u001b[0m | \u001b[0m 0.7914  \u001b[0m | \u001b[0m 0.9818  \u001b[0m | \u001b[0m 77.3    \u001b[0m | \u001b[0m 40.63   \u001b[0m | \u001b[0m 0.05336 \u001b[0m | \u001b[0m 57.24   \u001b[0m | \u001b[0m 0.4628  \u001b[0m | \u001b[0m 0.03552 \u001b[0m | \u001b[0m 0.5436  \u001b[0m |\n",
      "params: {'n_estimator': 200, 'learning_rate': 0.02, 'num_leaves': 98, 'colsample_bytree': 0.5101091987201629, 'subsample': 0.8902645881432277, 'max_depth': 167, 'reg_alpha': 0.3995792821083618, 'reg_lambda': 0.23073968112646592, 'min_split_gain': 0.08713120267643511, 'min_child_weight': 40.01705379274327, 'verbosity': -1}\n",
      "Training until validation scores don't improve for 30 rounds\n",
      "Early stopping, best iteration is:\n",
      "[42]\tvalid_0's auc: 0.802503\tvalid_0's binary_logloss: 0.601799\n",
      "best_iter: 42\n",
      "roc_auc: 0.8025032938076416\n",
      "| \u001b[95m 3       \u001b[0m | \u001b[95m 0.8025  \u001b[0m | \u001b[95m 0.5101  \u001b[0m | \u001b[95m 166.7   \u001b[0m | \u001b[95m 40.02   \u001b[0m | \u001b[95m 0.08713 \u001b[0m | \u001b[95m 97.88   \u001b[0m | \u001b[95m 0.3996  \u001b[0m | \u001b[95m 0.2307  \u001b[0m | \u001b[95m 0.8903  \u001b[0m |\n",
      "params: {'n_estimator': 200, 'learning_rate': 0.02, 'num_leaves': 53, 'colsample_bytree': 0.5591372129344666, 'subsample': 0.8871168447171083, 'max_depth': 128, 'reg_alpha': 0.2073309699952618, 'reg_lambda': 0.13227780605231348, 'min_split_gain': 0.09452222278790881, 'min_child_weight': 11.450897933407088, 'verbosity': -1}\n",
      "Training until validation scores don't improve for 30 rounds\n",
      "Early stopping, best iteration is:\n",
      "[55]\tvalid_0's auc: 0.815547\tvalid_0's binary_logloss: 0.56711\n",
      "best_iter: 55\n",
      "roc_auc: 0.8155467720685112\n",
      "| \u001b[95m 4       \u001b[0m | \u001b[95m 0.8155  \u001b[0m | \u001b[95m 0.5591  \u001b[0m | \u001b[95m 128.3   \u001b[0m | \u001b[95m 11.45   \u001b[0m | \u001b[95m 0.09452 \u001b[0m | \u001b[95m 52.66   \u001b[0m | \u001b[95m 0.2073  \u001b[0m | \u001b[95m 0.1323  \u001b[0m | \u001b[95m 0.8871  \u001b[0m |\n",
      "params: {'n_estimator': 200, 'learning_rate': 0.02, 'num_leaves': 62, 'colsample_bytree': 0.7280751661082743, 'subsample': 0.8409101495517417, 'max_depth': 114, 'reg_alpha': 0.30846699843737846, 'reg_lambda': 0.4718740392573121, 'min_split_gain': 0.062145914210511834, 'min_child_weight': 5.845541019635982, 'verbosity': -1}\n",
      "Training until validation scores don't improve for 30 rounds\n",
      "Early stopping, best iteration is:\n",
      "[20]\tvalid_0's auc: 0.83083\tvalid_0's binary_logloss: 0.611936\n",
      "best_iter: 20\n",
      "roc_auc: 0.8308300395256917\n",
      "| \u001b[95m 5       \u001b[0m | \u001b[95m 0.8308  \u001b[0m | \u001b[95m 0.7281  \u001b[0m | \u001b[95m 114.1   \u001b[0m | \u001b[95m 5.846   \u001b[0m | \u001b[95m 0.06215 \u001b[0m | \u001b[95m 61.6    \u001b[0m | \u001b[95m 0.3085  \u001b[0m | \u001b[95m 0.4719  \u001b[0m | \u001b[95m 0.8409  \u001b[0m |\n",
      "params: {'n_estimator': 200, 'learning_rate': 0.02, 'num_leaves': 76, 'colsample_bytree': 0.9209814903842845, 'subsample': 1.0, 'max_depth': 118, 'reg_alpha': 0.45769107844813145, 'reg_lambda': 0.3680174104044492, 'min_split_gain': 0.005088767484726971, 'min_child_weight': 5.0, 'verbosity': -1}\n",
      "Training until validation scores don't improve for 30 rounds\n",
      "Early stopping, best iteration is:\n",
      "[28]\tvalid_0's auc: 0.853294\tvalid_0's binary_logloss: 0.579066\n",
      "best_iter: 28\n",
      "roc_auc: 0.8532938076416337\n",
      "| \u001b[95m 6       \u001b[0m | \u001b[95m 0.8533  \u001b[0m | \u001b[95m 0.921   \u001b[0m | \u001b[95m 118.5   \u001b[0m | \u001b[95m 5.0     \u001b[0m | \u001b[95m 0.005089\u001b[0m | \u001b[95m 76.26   \u001b[0m | \u001b[95m 0.4577  \u001b[0m | \u001b[95m 0.368   \u001b[0m | \u001b[95m 1.0     \u001b[0m |\n",
      "params: {'n_estimator': 200, 'learning_rate': 0.02, 'num_leaves': 95, 'colsample_bytree': 0.874005368008616, 'subsample': 1.0, 'max_depth': 113, 'reg_alpha': 0.1740715929583457, 'reg_lambda': 0.5, 'min_split_gain': 0.001, 'min_child_weight': 5.0, 'verbosity': -1}\n",
      "Training until validation scores don't improve for 30 rounds\n",
      "Early stopping, best iteration is:\n",
      "[11]\tvalid_0's auc: 0.847958\tvalid_0's binary_logloss: 0.636299\n",
      "best_iter: 11\n",
      "roc_auc: 0.847957839262187\n",
      "| \u001b[0m 7       \u001b[0m | \u001b[0m 0.848   \u001b[0m | \u001b[0m 0.874   \u001b[0m | \u001b[0m 112.9   \u001b[0m | \u001b[0m 5.0     \u001b[0m | \u001b[0m 0.001   \u001b[0m | \u001b[0m 95.25   \u001b[0m | \u001b[0m 0.1741  \u001b[0m | \u001b[0m 0.5     \u001b[0m | \u001b[0m 1.0     \u001b[0m |\n",
      "params: {'n_estimator': 200, 'learning_rate': 0.02, 'num_leaves': 92, 'colsample_bytree': 1.0, 'subsample': 0.7287945569591319, 'max_depth': 138, 'reg_alpha': 0.012930955421774075, 'reg_lambda': 0.5, 'min_split_gain': 0.001, 'min_child_weight': 5.0, 'verbosity': -1}\n",
      "Training until validation scores don't improve for 30 rounds\n",
      "Early stopping, best iteration is:\n",
      "[6]\tvalid_0's auc: 0.839262\tvalid_0's binary_logloss: 0.656458\n",
      "best_iter: 6\n",
      "roc_auc: 0.839262187088274\n",
      "| \u001b[0m 8       \u001b[0m | \u001b[0m 0.8393  \u001b[0m | \u001b[0m 1.0     \u001b[0m | \u001b[0m 138.0   \u001b[0m | \u001b[0m 5.0     \u001b[0m | \u001b[0m 0.001   \u001b[0m | \u001b[0m 92.03   \u001b[0m | \u001b[0m 0.01293 \u001b[0m | \u001b[0m 0.5     \u001b[0m | \u001b[0m 0.7288  \u001b[0m |\n",
      "params: {'n_estimator': 200, 'learning_rate': 0.02, 'num_leaves': 74, 'colsample_bytree': 0.508036538786643, 'subsample': 0.9240291178598659, 'max_depth': 118, 'reg_alpha': 0.0522315651565865, 'reg_lambda': 0.13877062182062255, 'min_split_gain': 0.03052422770705997, 'min_child_weight': 7.429884163606305, 'verbosity': -1}\n",
      "Training until validation scores don't improve for 30 rounds\n",
      "[100]\tvalid_0's auc: 0.824901\tvalid_0's binary_logloss: 0.537714\n",
      "Did not meet early stopping. Best iteration is:\n",
      "[99]\tvalid_0's auc: 0.825165\tvalid_0's binary_logloss: 0.53767\n",
      "best_iter: 99\n",
      "roc_auc: 0.8251646903820817\n",
      "| \u001b[0m 9       \u001b[0m | \u001b[0m 0.8252  \u001b[0m | \u001b[0m 0.508   \u001b[0m | \u001b[0m 118.4   \u001b[0m | \u001b[0m 7.43    \u001b[0m | \u001b[0m 0.03052 \u001b[0m | \u001b[0m 74.01   \u001b[0m | \u001b[0m 0.05223 \u001b[0m | \u001b[0m 0.1388  \u001b[0m | \u001b[0m 0.924   \u001b[0m |\n",
      "params: {'n_estimator': 200, 'learning_rate': 0.02, 'num_leaves': 77, 'colsample_bytree': 0.8543721338252868, 'subsample': 0.9665996955507155, 'max_depth': 116, 'reg_alpha': 0.007046957602165338, 'reg_lambda': 0.12121881006072749, 'min_split_gain': 0.0634651002356283, 'min_child_weight': 7.3341848903102145, 'verbosity': -1}\n",
      "Training until validation scores don't improve for 30 rounds\n",
      "Early stopping, best iteration is:\n",
      "[32]\tvalid_0's auc: 0.82635\tvalid_0's binary_logloss: 0.582177\n",
      "best_iter: 32\n",
      "roc_auc: 0.8263504611330698\n",
      "| \u001b[0m 10      \u001b[0m | \u001b[0m 0.8264  \u001b[0m | \u001b[0m 0.8544  \u001b[0m | \u001b[0m 116.3   \u001b[0m | \u001b[0m 7.334   \u001b[0m | \u001b[0m 0.06347 \u001b[0m | \u001b[0m 77.06   \u001b[0m | \u001b[0m 0.007047\u001b[0m | \u001b[0m 0.1212  \u001b[0m | \u001b[0m 0.9666  \u001b[0m |\n",
      "params: {'n_estimator': 200, 'learning_rate': 0.02, 'num_leaves': 98, 'colsample_bytree': 0.9134049636386179, 'subsample': 0.5045885244796764, 'max_depth': 113, 'reg_alpha': 0.4785922158299215, 'reg_lambda': 0.08680198408009698, 'min_split_gain': 0.07399061507023048, 'min_child_weight': 6.033250174333242, 'verbosity': -1}\n",
      "Training until validation scores don't improve for 30 rounds\n",
      "Early stopping, best iteration is:\n",
      "[20]\tvalid_0's auc: 0.839592\tvalid_0's binary_logloss: 0.605285\n",
      "best_iter: 20\n",
      "roc_auc: 0.8395915678524374\n",
      "| \u001b[0m 11      \u001b[0m | \u001b[0m 0.8396  \u001b[0m | \u001b[0m 0.9134  \u001b[0m | \u001b[0m 112.7   \u001b[0m | \u001b[0m 6.033   \u001b[0m | \u001b[0m 0.07399 \u001b[0m | \u001b[0m 98.14   \u001b[0m | \u001b[0m 0.4786  \u001b[0m | \u001b[0m 0.0868  \u001b[0m | \u001b[0m 0.5046  \u001b[0m |\n",
      "params: {'n_estimator': 200, 'learning_rate': 0.02, 'num_leaves': 80, 'colsample_bytree': 0.8378851696971683, 'subsample': 0.5214334055556327, 'max_depth': 120, 'reg_alpha': 0.2503302058590406, 'reg_lambda': 0.01493173935359654, 'min_split_gain': 0.06772208107568645, 'min_child_weight': 5.5370455457788195, 'verbosity': -1}\n",
      "Training until validation scores don't improve for 30 rounds\n",
      "Early stopping, best iteration is:\n",
      "[13]\tvalid_0's auc: 0.835573\tvalid_0's binary_logloss: 0.629925\n",
      "best_iter: 13\n",
      "roc_auc: 0.8355731225296442\n",
      "| \u001b[0m 12      \u001b[0m | \u001b[0m 0.8356  \u001b[0m | \u001b[0m 0.8379  \u001b[0m | \u001b[0m 119.8   \u001b[0m | \u001b[0m 5.537   \u001b[0m | \u001b[0m 0.06772 \u001b[0m | \u001b[0m 80.02   \u001b[0m | \u001b[0m 0.2503  \u001b[0m | \u001b[0m 0.01493 \u001b[0m | \u001b[0m 0.5214  \u001b[0m |\n"
     ]
    },
    {
     "name": "stdout",
     "output_type": "stream",
     "text": [
      "params: {'n_estimator': 200, 'learning_rate': 0.02, 'num_leaves': 95, 'colsample_bytree': 0.6607015732493655, 'subsample': 0.5399356922329321, 'max_depth': 116, 'reg_alpha': 0.12052453981853983, 'reg_lambda': 0.43865131164827, 'min_split_gain': 0.004685462961493013, 'min_child_weight': 6.732823465575059, 'verbosity': -1}\n",
      "Training until validation scores don't improve for 30 rounds\n",
      "[100]\tvalid_0's auc: 0.840053\tvalid_0's binary_logloss: 0.528284\n",
      "Did not meet early stopping. Best iteration is:\n",
      "[99]\tvalid_0's auc: 0.840448\tvalid_0's binary_logloss: 0.528436\n",
      "best_iter: 99\n",
      "roc_auc: 0.8404479578392622\n",
      "| \u001b[0m 13      \u001b[0m | \u001b[0m 0.8404  \u001b[0m | \u001b[0m 0.6607  \u001b[0m | \u001b[0m 116.0   \u001b[0m | \u001b[0m 6.733   \u001b[0m | \u001b[0m 0.004685\u001b[0m | \u001b[0m 95.47   \u001b[0m | \u001b[0m 0.1205  \u001b[0m | \u001b[0m 0.4387  \u001b[0m | \u001b[0m 0.5399  \u001b[0m |\n",
      "params: {'n_estimator': 200, 'learning_rate': 0.02, 'num_leaves': 93, 'colsample_bytree': 0.6791021262823287, 'subsample': 0.5813619852448733, 'max_depth': 110, 'reg_alpha': 0.22369350064006893, 'reg_lambda': 0.1441936971427692, 'min_split_gain': 0.0710309870165746, 'min_child_weight': 8.962451216705876, 'verbosity': -1}\n",
      "Training until validation scores don't improve for 30 rounds\n",
      "Early stopping, best iteration is:\n",
      "[25]\tvalid_0's auc: 0.81693\tvalid_0's binary_logloss: 0.606734\n",
      "best_iter: 25\n",
      "roc_auc: 0.8169301712779973\n",
      "| \u001b[0m 14      \u001b[0m | \u001b[0m 0.8169  \u001b[0m | \u001b[0m 0.6791  \u001b[0m | \u001b[0m 109.9   \u001b[0m | \u001b[0m 8.962   \u001b[0m | \u001b[0m 0.07103 \u001b[0m | \u001b[0m 93.09   \u001b[0m | \u001b[0m 0.2237  \u001b[0m | \u001b[0m 0.1442  \u001b[0m | \u001b[0m 0.5814  \u001b[0m |\n",
      "params: {'n_estimator': 200, 'learning_rate': 0.02, 'num_leaves': 76, 'colsample_bytree': 1.0, 'subsample': 1.0, 'max_depth': 122, 'reg_alpha': 0.5, 'reg_lambda': 0.5, 'min_split_gain': 0.001, 'min_child_weight': 5.0, 'verbosity': -1}\n",
      "Training until validation scores don't improve for 30 rounds\n",
      "Early stopping, best iteration is:\n",
      "[36]\tvalid_0's auc: 0.853096\tvalid_0's binary_logloss: 0.560482\n",
      "best_iter: 36\n",
      "roc_auc: 0.8530961791831357\n",
      "| \u001b[0m 15      \u001b[0m | \u001b[0m 0.8531  \u001b[0m | \u001b[0m 1.0     \u001b[0m | \u001b[0m 121.8   \u001b[0m | \u001b[0m 5.0     \u001b[0m | \u001b[0m 0.001   \u001b[0m | \u001b[0m 76.12   \u001b[0m | \u001b[0m 0.5     \u001b[0m | \u001b[0m 0.5     \u001b[0m | \u001b[0m 1.0     \u001b[0m |\n",
      "=========================================================================================================================\n"
     ]
    }
   ],
   "source": [
    "BO_lgb.maximize(init_points=5, n_iter=10)"
   ]
  },
  {
   "cell_type": "code",
   "execution_count": 155,
   "metadata": {},
   "outputs": [
    {
     "data": {
      "text/plain": [
       "{'target': 0.8532938076416337,\n",
       " 'params': {'colsample_bytree': 0.9209814903842845,\n",
       "  'max_depth': 118.47670789666758,\n",
       "  'min_child_weight': 5.0,\n",
       "  'min_split_gain': 0.005088767484726971,\n",
       "  'num_leaves': 76.26078332684591,\n",
       "  'reg_alpha': 0.45769107844813145,\n",
       "  'reg_lambda': 0.3680174104044492,\n",
       "  'subsample': 1.0}}"
      ]
     },
     "execution_count": 155,
     "metadata": {},
     "output_type": "execute_result"
    }
   ],
   "source": [
    "BO_lgb.max"
   ]
  },
  {
   "cell_type": "code",
   "execution_count": 156,
   "metadata": {},
   "outputs": [
    {
     "name": "stdout",
     "output_type": "stream",
     "text": [
      "[1]\tvalid_0's auc: 0.814822\tvalid_0's binary_logloss: 0.684945\n",
      "Training until validation scores don't improve for 100 rounds\n",
      "[2]\tvalid_0's auc: 0.805468\tvalid_0's binary_logloss: 0.680232\n",
      "[3]\tvalid_0's auc: 0.823057\tvalid_0's binary_logloss: 0.674347\n",
      "[4]\tvalid_0's auc: 0.830435\tvalid_0's binary_logloss: 0.668679\n",
      "[5]\tvalid_0's auc: 0.837681\tvalid_0's binary_logloss: 0.663452\n",
      "[6]\tvalid_0's auc: 0.830567\tvalid_0's binary_logloss: 0.659036\n",
      "[7]\tvalid_0's auc: 0.833004\tvalid_0's binary_logloss: 0.654755\n",
      "[8]\tvalid_0's auc: 0.834848\tvalid_0's binary_logloss: 0.649966\n",
      "[9]\tvalid_0's auc: 0.84025\tvalid_0's binary_logloss: 0.645217\n",
      "[10]\tvalid_0's auc: 0.839855\tvalid_0's binary_logloss: 0.640492\n",
      "[11]\tvalid_0's auc: 0.840514\tvalid_0's binary_logloss: 0.635984\n",
      "[12]\tvalid_0's auc: 0.846113\tvalid_0's binary_logloss: 0.631434\n",
      "[13]\tvalid_0's auc: 0.842029\tvalid_0's binary_logloss: 0.62734\n",
      "[14]\tvalid_0's auc: 0.841765\tvalid_0's binary_logloss: 0.623271\n",
      "[15]\tvalid_0's auc: 0.839921\tvalid_0's binary_logloss: 0.619443\n",
      "[16]\tvalid_0's auc: 0.840053\tvalid_0's binary_logloss: 0.616349\n",
      "[17]\tvalid_0's auc: 0.84025\tvalid_0's binary_logloss: 0.612751\n",
      "[18]\tvalid_0's auc: 0.85\tvalid_0's binary_logloss: 0.609124\n",
      "[19]\tvalid_0's auc: 0.852899\tvalid_0's binary_logloss: 0.605638\n",
      "[20]\tvalid_0's auc: 0.853162\tvalid_0's binary_logloss: 0.602095\n",
      "[21]\tvalid_0's auc: 0.852372\tvalid_0's binary_logloss: 0.598859\n",
      "[22]\tvalid_0's auc: 0.852108\tvalid_0's binary_logloss: 0.595727\n",
      "[23]\tvalid_0's auc: 0.851976\tvalid_0's binary_logloss: 0.592648\n",
      "[24]\tvalid_0's auc: 0.85224\tvalid_0's binary_logloss: 0.589917\n",
      "[25]\tvalid_0's auc: 0.850659\tvalid_0's binary_logloss: 0.587092\n",
      "[26]\tvalid_0's auc: 0.851186\tvalid_0's binary_logloss: 0.584265\n",
      "[27]\tvalid_0's auc: 0.852767\tvalid_0's binary_logloss: 0.581505\n",
      "[28]\tvalid_0's auc: 0.853294\tvalid_0's binary_logloss: 0.579066\n",
      "[29]\tvalid_0's auc: 0.852767\tvalid_0's binary_logloss: 0.576659\n",
      "[30]\tvalid_0's auc: 0.85303\tvalid_0's binary_logloss: 0.574317\n",
      "[31]\tvalid_0's auc: 0.852306\tvalid_0's binary_logloss: 0.57274\n",
      "[32]\tvalid_0's auc: 0.851252\tvalid_0's binary_logloss: 0.570875\n",
      "[33]\tvalid_0's auc: 0.851515\tvalid_0's binary_logloss: 0.568671\n",
      "[34]\tvalid_0's auc: 0.852042\tvalid_0's binary_logloss: 0.566539\n",
      "[35]\tvalid_0's auc: 0.852042\tvalid_0's binary_logloss: 0.564486\n",
      "[36]\tvalid_0's auc: 0.85112\tvalid_0's binary_logloss: 0.562549\n",
      "[37]\tvalid_0's auc: 0.850725\tvalid_0's binary_logloss: 0.560616\n",
      "[38]\tvalid_0's auc: 0.850856\tvalid_0's binary_logloss: 0.559084\n",
      "[39]\tvalid_0's auc: 0.851383\tvalid_0's binary_logloss: 0.557257\n",
      "[40]\tvalid_0's auc: 0.850856\tvalid_0's binary_logloss: 0.555528\n",
      "[41]\tvalid_0's auc: 0.850329\tvalid_0's binary_logloss: 0.553968\n",
      "[42]\tvalid_0's auc: 0.849934\tvalid_0's binary_logloss: 0.552464\n",
      "[43]\tvalid_0's auc: 0.850791\tvalid_0's binary_logloss: 0.550713\n",
      "[44]\tvalid_0's auc: 0.853294\tvalid_0's binary_logloss: 0.548986\n",
      "[45]\tvalid_0's auc: 0.851845\tvalid_0's binary_logloss: 0.547808\n",
      "[46]\tvalid_0's auc: 0.852372\tvalid_0's binary_logloss: 0.546538\n",
      "[47]\tvalid_0's auc: 0.852372\tvalid_0's binary_logloss: 0.545441\n",
      "[48]\tvalid_0's auc: 0.85224\tvalid_0's binary_logloss: 0.544187\n",
      "[49]\tvalid_0's auc: 0.852372\tvalid_0's binary_logloss: 0.543117\n",
      "[50]\tvalid_0's auc: 0.851713\tvalid_0's binary_logloss: 0.541913\n",
      "[51]\tvalid_0's auc: 0.850659\tvalid_0's binary_logloss: 0.540994\n",
      "[52]\tvalid_0's auc: 0.851581\tvalid_0's binary_logloss: 0.539954\n",
      "[53]\tvalid_0's auc: 0.851713\tvalid_0's binary_logloss: 0.539089\n",
      "[54]\tvalid_0's auc: 0.851845\tvalid_0's binary_logloss: 0.538026\n",
      "[55]\tvalid_0's auc: 0.851449\tvalid_0's binary_logloss: 0.537163\n",
      "[56]\tvalid_0's auc: 0.85224\tvalid_0's binary_logloss: 0.536144\n",
      "[57]\tvalid_0's auc: 0.85224\tvalid_0's binary_logloss: 0.535258\n",
      "[58]\tvalid_0's auc: 0.85224\tvalid_0's binary_logloss: 0.534486\n",
      "[59]\tvalid_0's auc: 0.850922\tvalid_0's binary_logloss: 0.533466\n",
      "[60]\tvalid_0's auc: 0.851581\tvalid_0's binary_logloss: 0.533042\n",
      "[61]\tvalid_0's auc: 0.850132\tvalid_0's binary_logloss: 0.532077\n",
      "[62]\tvalid_0's auc: 0.850791\tvalid_0's binary_logloss: 0.531169\n",
      "[63]\tvalid_0's auc: 0.851186\tvalid_0's binary_logloss: 0.53029\n",
      "[64]\tvalid_0's auc: 0.85224\tvalid_0's binary_logloss: 0.529516\n",
      "[65]\tvalid_0's auc: 0.850922\tvalid_0's binary_logloss: 0.528668\n",
      "[66]\tvalid_0's auc: 0.85\tvalid_0's binary_logloss: 0.527895\n",
      "[67]\tvalid_0's auc: 0.849868\tvalid_0's binary_logloss: 0.527581\n",
      "[68]\tvalid_0's auc: 0.850066\tvalid_0's binary_logloss: 0.526719\n",
      "[69]\tvalid_0's auc: 0.850198\tvalid_0's binary_logloss: 0.526043\n",
      "[70]\tvalid_0's auc: 0.850461\tvalid_0's binary_logloss: 0.525222\n",
      "[71]\tvalid_0's auc: 0.851252\tvalid_0's binary_logloss: 0.524447\n",
      "[72]\tvalid_0's auc: 0.850593\tvalid_0's binary_logloss: 0.523697\n",
      "[73]\tvalid_0's auc: 0.850395\tvalid_0's binary_logloss: 0.522931\n",
      "[74]\tvalid_0's auc: 0.850264\tvalid_0's binary_logloss: 0.522314\n",
      "[75]\tvalid_0's auc: 0.851054\tvalid_0's binary_logloss: 0.521702\n",
      "[76]\tvalid_0's auc: 0.851581\tvalid_0's binary_logloss: 0.520932\n",
      "[77]\tvalid_0's auc: 0.851186\tvalid_0's binary_logloss: 0.520257\n",
      "[78]\tvalid_0's auc: 0.851449\tvalid_0's binary_logloss: 0.519701\n",
      "[79]\tvalid_0's auc: 0.851054\tvalid_0's binary_logloss: 0.519019\n",
      "[80]\tvalid_0's auc: 0.851186\tvalid_0's binary_logloss: 0.518503\n",
      "[81]\tvalid_0's auc: 0.851318\tvalid_0's binary_logloss: 0.51788\n",
      "[82]\tvalid_0's auc: 0.851845\tvalid_0's binary_logloss: 0.517272\n",
      "[83]\tvalid_0's auc: 0.851318\tvalid_0's binary_logloss: 0.516854\n",
      "[84]\tvalid_0's auc: 0.851713\tvalid_0's binary_logloss: 0.516529\n",
      "[85]\tvalid_0's auc: 0.851054\tvalid_0's binary_logloss: 0.515997\n",
      "[86]\tvalid_0's auc: 0.851976\tvalid_0's binary_logloss: 0.515398\n",
      "[87]\tvalid_0's auc: 0.850132\tvalid_0's binary_logloss: 0.514887\n",
      "[88]\tvalid_0's auc: 0.850395\tvalid_0's binary_logloss: 0.514445\n",
      "[89]\tvalid_0's auc: 0.850527\tvalid_0's binary_logloss: 0.513895\n",
      "[90]\tvalid_0's auc: 0.850791\tvalid_0's binary_logloss: 0.513603\n",
      "[91]\tvalid_0's auc: 0.850659\tvalid_0's binary_logloss: 0.513286\n",
      "[92]\tvalid_0's auc: 0.850659\tvalid_0's binary_logloss: 0.512842\n",
      "[93]\tvalid_0's auc: 0.850395\tvalid_0's binary_logloss: 0.512462\n",
      "[94]\tvalid_0's auc: 0.850132\tvalid_0's binary_logloss: 0.512031\n",
      "[95]\tvalid_0's auc: 0.850395\tvalid_0's binary_logloss: 0.511598\n",
      "[96]\tvalid_0's auc: 0.850395\tvalid_0's binary_logloss: 0.511078\n",
      "[97]\tvalid_0's auc: 0.850791\tvalid_0's binary_logloss: 0.510688\n",
      "[98]\tvalid_0's auc: 0.849736\tvalid_0's binary_logloss: 0.51032\n",
      "[99]\tvalid_0's auc: 0.85\tvalid_0's binary_logloss: 0.51005\n",
      "[100]\tvalid_0's auc: 0.850132\tvalid_0's binary_logloss: 0.509913\n",
      "[101]\tvalid_0's auc: 0.849868\tvalid_0's binary_logloss: 0.509594\n",
      "[102]\tvalid_0's auc: 0.850132\tvalid_0's binary_logloss: 0.50936\n",
      "[103]\tvalid_0's auc: 0.849868\tvalid_0's binary_logloss: 0.509119\n",
      "[104]\tvalid_0's auc: 0.849671\tvalid_0's binary_logloss: 0.508558\n",
      "[105]\tvalid_0's auc: 0.850329\tvalid_0's binary_logloss: 0.507934\n",
      "[106]\tvalid_0's auc: 0.849934\tvalid_0's binary_logloss: 0.507656\n",
      "[107]\tvalid_0's auc: 0.850329\tvalid_0's binary_logloss: 0.507092\n",
      "[108]\tvalid_0's auc: 0.850461\tvalid_0's binary_logloss: 0.506548\n",
      "[109]\tvalid_0's auc: 0.850461\tvalid_0's binary_logloss: 0.506022\n",
      "[110]\tvalid_0's auc: 0.850593\tvalid_0's binary_logloss: 0.50559\n",
      "[111]\tvalid_0's auc: 0.85112\tvalid_0's binary_logloss: 0.50511\n",
      "[112]\tvalid_0's auc: 0.851515\tvalid_0's binary_logloss: 0.504634\n",
      "[113]\tvalid_0's auc: 0.851252\tvalid_0's binary_logloss: 0.504207\n",
      "[114]\tvalid_0's auc: 0.851515\tvalid_0's binary_logloss: 0.503838\n",
      "[115]\tvalid_0's auc: 0.852306\tvalid_0's binary_logloss: 0.503316\n",
      "[116]\tvalid_0's auc: 0.852306\tvalid_0's binary_logloss: 0.502823\n",
      "[117]\tvalid_0's auc: 0.852306\tvalid_0's binary_logloss: 0.502416\n",
      "[118]\tvalid_0's auc: 0.852569\tvalid_0's binary_logloss: 0.502023\n",
      "[119]\tvalid_0's auc: 0.852964\tvalid_0's binary_logloss: 0.501574\n",
      "[120]\tvalid_0's auc: 0.852964\tvalid_0's binary_logloss: 0.501204\n",
      "[121]\tvalid_0's auc: 0.852964\tvalid_0's binary_logloss: 0.500846\n",
      "[122]\tvalid_0's auc: 0.852701\tvalid_0's binary_logloss: 0.5005\n",
      "[123]\tvalid_0's auc: 0.852437\tvalid_0's binary_logloss: 0.500204\n",
      "[124]\tvalid_0's auc: 0.852701\tvalid_0's binary_logloss: 0.49992\n",
      "[125]\tvalid_0's auc: 0.852964\tvalid_0's binary_logloss: 0.499647\n",
      "[126]\tvalid_0's auc: 0.853096\tvalid_0's binary_logloss: 0.499323\n",
      "[127]\tvalid_0's auc: 0.853491\tvalid_0's binary_logloss: 0.498854\n",
      "[128]\tvalid_0's auc: 0.853755\tvalid_0's binary_logloss: 0.498321\n",
      "[129]\tvalid_0's auc: 0.853623\tvalid_0's binary_logloss: 0.497954\n",
      "[130]\tvalid_0's auc: 0.85415\tvalid_0's binary_logloss: 0.49767\n",
      "[131]\tvalid_0's auc: 0.853887\tvalid_0's binary_logloss: 0.497145\n",
      "[132]\tvalid_0's auc: 0.853755\tvalid_0's binary_logloss: 0.496947\n",
      "[133]\tvalid_0's auc: 0.855204\tvalid_0's binary_logloss: 0.496443\n",
      "[134]\tvalid_0's auc: 0.855204\tvalid_0's binary_logloss: 0.496138\n",
      "[135]\tvalid_0's auc: 0.854545\tvalid_0's binary_logloss: 0.495768\n",
      "[136]\tvalid_0's auc: 0.854809\tvalid_0's binary_logloss: 0.495388\n",
      "[137]\tvalid_0's auc: 0.854018\tvalid_0's binary_logloss: 0.494997\n",
      "[138]\tvalid_0's auc: 0.853755\tvalid_0's binary_logloss: 0.494838\n",
      "[139]\tvalid_0's auc: 0.853887\tvalid_0's binary_logloss: 0.494414\n",
      "[140]\tvalid_0's auc: 0.854941\tvalid_0's binary_logloss: 0.494091\n",
      "[141]\tvalid_0's auc: 0.855599\tvalid_0's binary_logloss: 0.493754\n",
      "[142]\tvalid_0's auc: 0.855995\tvalid_0's binary_logloss: 0.493449\n",
      "[143]\tvalid_0's auc: 0.856522\tvalid_0's binary_logloss: 0.493236\n",
      "[144]\tvalid_0's auc: 0.857444\tvalid_0's binary_logloss: 0.492906\n",
      "[145]\tvalid_0's auc: 0.857576\tvalid_0's binary_logloss: 0.492452\n",
      "[146]\tvalid_0's auc: 0.857312\tvalid_0's binary_logloss: 0.492276\n",
      "[147]\tvalid_0's auc: 0.856522\tvalid_0's binary_logloss: 0.492133\n",
      "[148]\tvalid_0's auc: 0.857312\tvalid_0's binary_logloss: 0.491981\n",
      "[149]\tvalid_0's auc: 0.857576\tvalid_0's binary_logloss: 0.491777\n",
      "[150]\tvalid_0's auc: 0.857708\tvalid_0's binary_logloss: 0.491535\n",
      "[151]\tvalid_0's auc: 0.857708\tvalid_0's binary_logloss: 0.491236\n",
      "[152]\tvalid_0's auc: 0.857576\tvalid_0's binary_logloss: 0.490945\n",
      "[153]\tvalid_0's auc: 0.857708\tvalid_0's binary_logloss: 0.490754\n",
      "[154]\tvalid_0's auc: 0.857576\tvalid_0's binary_logloss: 0.490655\n",
      "[155]\tvalid_0's auc: 0.857576\tvalid_0's binary_logloss: 0.490503\n",
      "[156]\tvalid_0's auc: 0.857312\tvalid_0's binary_logloss: 0.490338\n",
      "[157]\tvalid_0's auc: 0.857049\tvalid_0's binary_logloss: 0.490147\n",
      "[158]\tvalid_0's auc: 0.856917\tvalid_0's binary_logloss: 0.489972\n",
      "[159]\tvalid_0's auc: 0.856522\tvalid_0's binary_logloss: 0.489933\n",
      "[160]\tvalid_0's auc: 0.856522\tvalid_0's binary_logloss: 0.489793\n",
      "[161]\tvalid_0's auc: 0.855599\tvalid_0's binary_logloss: 0.489644\n",
      "[162]\tvalid_0's auc: 0.856126\tvalid_0's binary_logloss: 0.489497\n",
      "[163]\tvalid_0's auc: 0.855995\tvalid_0's binary_logloss: 0.489367\n",
      "[164]\tvalid_0's auc: 0.855995\tvalid_0's binary_logloss: 0.489196\n",
      "[165]\tvalid_0's auc: 0.854809\tvalid_0's binary_logloss: 0.489137\n",
      "[166]\tvalid_0's auc: 0.854941\tvalid_0's binary_logloss: 0.488995\n",
      "[167]\tvalid_0's auc: 0.855072\tvalid_0's binary_logloss: 0.488813\n",
      "[168]\tvalid_0's auc: 0.855204\tvalid_0's binary_logloss: 0.488796\n",
      "[169]\tvalid_0's auc: 0.855072\tvalid_0's binary_logloss: 0.488605\n",
      "[170]\tvalid_0's auc: 0.855336\tvalid_0's binary_logloss: 0.48849\n",
      "[171]\tvalid_0's auc: 0.85527\tvalid_0's binary_logloss: 0.488576\n",
      "[172]\tvalid_0's auc: 0.855007\tvalid_0's binary_logloss: 0.488464\n",
      "[173]\tvalid_0's auc: 0.855929\tvalid_0's binary_logloss: 0.488326\n",
      "[174]\tvalid_0's auc: 0.855138\tvalid_0's binary_logloss: 0.488178\n",
      "[175]\tvalid_0's auc: 0.855797\tvalid_0's binary_logloss: 0.487965\n",
      "[176]\tvalid_0's auc: 0.855402\tvalid_0's binary_logloss: 0.487912\n",
      "[177]\tvalid_0's auc: 0.855534\tvalid_0's binary_logloss: 0.487883\n",
      "[178]\tvalid_0's auc: 0.855534\tvalid_0's binary_logloss: 0.487831\n",
      "[179]\tvalid_0's auc: 0.855138\tvalid_0's binary_logloss: 0.487785\n",
      "[180]\tvalid_0's auc: 0.855534\tvalid_0's binary_logloss: 0.487628\n",
      "[181]\tvalid_0's auc: 0.855007\tvalid_0's binary_logloss: 0.487595\n",
      "[182]\tvalid_0's auc: 0.855138\tvalid_0's binary_logloss: 0.487511\n",
      "[183]\tvalid_0's auc: 0.855534\tvalid_0's binary_logloss: 0.487483\n",
      "[184]\tvalid_0's auc: 0.855534\tvalid_0's binary_logloss: 0.487415\n",
      "[185]\tvalid_0's auc: 0.855402\tvalid_0's binary_logloss: 0.487365\n",
      "[186]\tvalid_0's auc: 0.855534\tvalid_0's binary_logloss: 0.487199\n",
      "[187]\tvalid_0's auc: 0.855665\tvalid_0's binary_logloss: 0.487177\n",
      "[188]\tvalid_0's auc: 0.855797\tvalid_0's binary_logloss: 0.487114\n",
      "[189]\tvalid_0's auc: 0.855797\tvalid_0's binary_logloss: 0.487093\n",
      "[190]\tvalid_0's auc: 0.855797\tvalid_0's binary_logloss: 0.487014\n",
      "[191]\tvalid_0's auc: 0.854743\tvalid_0's binary_logloss: 0.48697\n",
      "[192]\tvalid_0's auc: 0.854611\tvalid_0's binary_logloss: 0.486886\n",
      "[193]\tvalid_0's auc: 0.854611\tvalid_0's binary_logloss: 0.486806\n",
      "[194]\tvalid_0's auc: 0.854611\tvalid_0's binary_logloss: 0.48671\n",
      "[195]\tvalid_0's auc: 0.854611\tvalid_0's binary_logloss: 0.486551\n",
      "[196]\tvalid_0's auc: 0.85448\tvalid_0's binary_logloss: 0.486474\n",
      "[197]\tvalid_0's auc: 0.854348\tvalid_0's binary_logloss: 0.486367\n",
      "[198]\tvalid_0's auc: 0.854348\tvalid_0's binary_logloss: 0.486312\n",
      "[199]\tvalid_0's auc: 0.853689\tvalid_0's binary_logloss: 0.48629\n",
      "[200]\tvalid_0's auc: 0.853689\tvalid_0's binary_logloss: 0.48619\n",
      "[201]\tvalid_0's auc: 0.853821\tvalid_0's binary_logloss: 0.486134\n",
      "[202]\tvalid_0's auc: 0.854611\tvalid_0's binary_logloss: 0.486067\n",
      "[203]\tvalid_0's auc: 0.854743\tvalid_0's binary_logloss: 0.486036\n",
      "[204]\tvalid_0's auc: 0.854611\tvalid_0's binary_logloss: 0.486008\n",
      "[205]\tvalid_0's auc: 0.85448\tvalid_0's binary_logloss: 0.486002\n",
      "[206]\tvalid_0's auc: 0.854611\tvalid_0's binary_logloss: 0.485996\n",
      "[207]\tvalid_0's auc: 0.854611\tvalid_0's binary_logloss: 0.485879\n",
      "[208]\tvalid_0's auc: 0.85448\tvalid_0's binary_logloss: 0.48583\n",
      "[209]\tvalid_0's auc: 0.853689\tvalid_0's binary_logloss: 0.485818\n",
      "[210]\tvalid_0's auc: 0.854084\tvalid_0's binary_logloss: 0.485789\n",
      "[211]\tvalid_0's auc: 0.853953\tvalid_0's binary_logloss: 0.485799\n",
      "[212]\tvalid_0's auc: 0.853953\tvalid_0's binary_logloss: 0.48574\n",
      "[213]\tvalid_0's auc: 0.854084\tvalid_0's binary_logloss: 0.485741\n",
      "[214]\tvalid_0's auc: 0.85448\tvalid_0's binary_logloss: 0.485668\n",
      "[215]\tvalid_0's auc: 0.854084\tvalid_0's binary_logloss: 0.485465\n",
      "[216]\tvalid_0's auc: 0.854348\tvalid_0's binary_logloss: 0.485417\n",
      "[217]\tvalid_0's auc: 0.854743\tvalid_0's binary_logloss: 0.4853\n",
      "[218]\tvalid_0's auc: 0.85448\tvalid_0's binary_logloss: 0.485272\n",
      "[219]\tvalid_0's auc: 0.854611\tvalid_0's binary_logloss: 0.485323\n",
      "[220]\tvalid_0's auc: 0.854611\tvalid_0's binary_logloss: 0.485312\n",
      "[221]\tvalid_0's auc: 0.854611\tvalid_0's binary_logloss: 0.485181\n",
      "[222]\tvalid_0's auc: 0.854611\tvalid_0's binary_logloss: 0.485163\n",
      "[223]\tvalid_0's auc: 0.85448\tvalid_0's binary_logloss: 0.48497\n",
      "[224]\tvalid_0's auc: 0.854875\tvalid_0's binary_logloss: 0.48478\n",
      "[225]\tvalid_0's auc: 0.854611\tvalid_0's binary_logloss: 0.484737\n",
      "[226]\tvalid_0's auc: 0.854348\tvalid_0's binary_logloss: 0.484712\n",
      "[227]\tvalid_0's auc: 0.854348\tvalid_0's binary_logloss: 0.484544\n",
      "[228]\tvalid_0's auc: 0.854611\tvalid_0's binary_logloss: 0.484364\n",
      "[229]\tvalid_0's auc: 0.854611\tvalid_0's binary_logloss: 0.484349\n",
      "[230]\tvalid_0's auc: 0.854743\tvalid_0's binary_logloss: 0.484259\n",
      "[231]\tvalid_0's auc: 0.854875\tvalid_0's binary_logloss: 0.484139\n",
      "[232]\tvalid_0's auc: 0.854875\tvalid_0's binary_logloss: 0.484133\n",
      "[233]\tvalid_0's auc: 0.85527\tvalid_0's binary_logloss: 0.484051\n",
      "[234]\tvalid_0's auc: 0.85527\tvalid_0's binary_logloss: 0.484003\n",
      "[235]\tvalid_0's auc: 0.854743\tvalid_0's binary_logloss: 0.484051\n",
      "[236]\tvalid_0's auc: 0.854348\tvalid_0's binary_logloss: 0.484026\n",
      "[237]\tvalid_0's auc: 0.854875\tvalid_0's binary_logloss: 0.484003\n",
      "[238]\tvalid_0's auc: 0.854875\tvalid_0's binary_logloss: 0.483894\n",
      "[239]\tvalid_0's auc: 0.854875\tvalid_0's binary_logloss: 0.483876\n",
      "[240]\tvalid_0's auc: 0.854611\tvalid_0's binary_logloss: 0.483829\n",
      "[241]\tvalid_0's auc: 0.85448\tvalid_0's binary_logloss: 0.483914\n",
      "[242]\tvalid_0's auc: 0.853953\tvalid_0's binary_logloss: 0.483851\n",
      "[243]\tvalid_0's auc: 0.853953\tvalid_0's binary_logloss: 0.48381\n",
      "[244]\tvalid_0's auc: 0.853953\tvalid_0's binary_logloss: 0.483664\n",
      "[245]\tvalid_0's auc: 0.853953\tvalid_0's binary_logloss: 0.483622\n",
      "[246]\tvalid_0's auc: 0.853953\tvalid_0's binary_logloss: 0.483611\n",
      "[247]\tvalid_0's auc: 0.854348\tvalid_0's binary_logloss: 0.483572\n",
      "[248]\tvalid_0's auc: 0.854348\tvalid_0's binary_logloss: 0.483463\n",
      "[249]\tvalid_0's auc: 0.854348\tvalid_0's binary_logloss: 0.48336\n",
      "[250]\tvalid_0's auc: 0.853426\tvalid_0's binary_logloss: 0.483302\n",
      "Early stopping, best iteration is:\n",
      "[150]\tvalid_0's auc: 0.857708\tvalid_0's binary_logloss: 0.491535\n",
      "ROC AUC: 0.8577\n"
     ]
    }
   ],
   "source": [
    "max_params = BO_lgb.max['params']\n",
    "\n",
    "max_params['num_leaves'] = int(round(max_params['num_leaves']))\n",
    "max_params['max_depth'] = int(round(max_params['max_depth']))\n",
    "\n",
    "lgbm_clf_bayes_best = LGBMClassifier(n_estimators=1000, learning_rate=0.02, **max_params)\n",
    "\n",
    "evals = [(X_test, y_test)]\n",
    "lgbm_clf_bayes_best.fit(X_train, y_train, early_stopping_rounds=100, eval_metric=\"auc\", eval_set=evals,\n",
    "                verbose=True)\n",
    "\n",
    "lgbm_roc_score = roc_auc_score(y_test, lgbm_clf_bayes_best.predict_proba(X_test)[:,1],average='macro')\n",
    "print('ROC AUC: {0:.4f}'.format(lgbm_roc_score))"
   ]
  },
  {
   "cell_type": "code",
   "execution_count": 157,
   "metadata": {},
   "outputs": [
    {
     "data": {
      "text/plain": [
       "LGBMClassifier(colsample_bytree=0.9209814903842845, learning_rate=0.02,\n",
       "               max_depth=118, min_child_weight=5.0,\n",
       "               min_split_gain=0.005088767484726971, n_estimators=1000,\n",
       "               num_leaves=76, reg_alpha=0.45769107844813145,\n",
       "               reg_lambda=0.3680174104044492)"
      ]
     },
     "execution_count": 157,
     "metadata": {},
     "output_type": "execute_result"
    }
   ],
   "source": [
    "lgbm_clf_bayes_best"
   ]
  },
  {
   "cell_type": "code",
   "execution_count": 158,
   "metadata": {},
   "outputs": [
    {
     "data": {
      "text/plain": [
       "LGBMClassifier(colsample_bytree=0.9209814903842845, learning_rate=0.02,\n",
       "               max_depth=118, min_child_weight=5.0,\n",
       "               min_split_gain=0.005088767484726971, n_estimators=1000,\n",
       "               num_leaves=76, reg_alpha=0.45769107844813145,\n",
       "               reg_lambda=0.3680174104044492)"
      ]
     },
     "execution_count": 158,
     "metadata": {},
     "output_type": "execute_result"
    }
   ],
   "source": [
    "lgbm_clf_bayes_best.fit(X_train, y_train)"
   ]
  },
  {
   "cell_type": "code",
   "execution_count": 159,
   "metadata": {},
   "outputs": [
    {
     "name": "stdout",
     "output_type": "stream",
     "text": [
      "pred_proba()결과 Shape : (179, 2)\n",
      "pred_proba array에서 앞 3개만 샘플로 추출 \n",
      ": [[0.76013617 0.23986383]\n",
      " [0.78529063 0.21470937]\n",
      " [0.30530589 0.69469411]]\n",
      "두개의 class 중에서 더 큰 확률을 클래스 값으로 예측 \n",
      " [[0.76013617 0.23986383 0.75131076 0.24868924]\n",
      " [0.78529063 0.21470937 0.85000112 0.14999888]\n",
      " [0.30530589 0.69469411 0.20276547 0.79723453]]\n"
     ]
    }
   ],
   "source": [
    "## 1 ##\n",
    "\n",
    "pred_proba = lgbm_clf_bayes_best.predict_proba(X_test) ##\n",
    "pred  = lgbm_clf_best.predict_proba(X_test) ##\n",
    "print('pred_proba()결과 Shape : {0}'.format(pred_proba.shape))\n",
    "print('pred_proba array에서 앞 3개만 샘플로 추출 \\n:', pred_proba[:3])\n",
    "\n",
    "# 예측 확률 array 와 예측 결과값 array 를 concatenate 하여 예측 확률과 결과값을 한눈에 확인\n",
    "pred_proba_result = np.concatenate([pred_proba , pred.reshape(-1,2)],axis=1)\n",
    "print('두개의 class 중에서 더 큰 확률을 클래스 값으로 예측 \\n',pred_proba_result[:3])\n"
   ]
  },
  {
   "cell_type": "code",
   "execution_count": 160,
   "metadata": {},
   "outputs": [
    {
     "name": "stdout",
     "output_type": "stream",
     "text": [
      "오차 행렬\n",
      "[[85 25]\n",
      " [14 55]]\n",
      "정확도: 0.7821, 정밀도: 0.6875, 재현율: 0.7971, F1_score:  0.797101\n"
     ]
    }
   ],
   "source": [
    "## 2\n",
    "\n",
    "from sklearn.preprocessing import Binarizer\n",
    "\n",
    "#Binarizer의 threshold 설정값. 분류 결정 임곗값임.  \n",
    "custom_threshold = 0.5\n",
    "\n",
    "# predict_proba( ) 반환값의 두번째 컬럼 , 즉 Positive 클래스 컬럼 하나만 추출하여 Binarizer를 적용\n",
    "pred_proba_1 = pred_proba[:,1].reshape(-1,1)\n",
    "\n",
    "binarizer = Binarizer(threshold=custom_threshold).fit(pred_proba_1) \n",
    "custom_predict = binarizer.transform(pred_proba_1)\n",
    "\n",
    "get_clf_eval(y_test, custom_predict)"
   ]
  },
  {
   "cell_type": "code",
   "execution_count": 161,
   "metadata": {},
   "outputs": [],
   "source": [
    "from sklearn.metrics import precision_recall_curve\n",
    "\n",
    "# 레이블 값이 1일때의 예측 확률을 추출 \n",
    "pred_proba_class1 = lgbm_clf_bayes_best.predict_proba(X_test)[:, 1] ###\n"
   ]
  },
  {
   "cell_type": "code",
   "execution_count": 162,
   "metadata": {},
   "outputs": [
    {
     "data": {
      "image/png": "[encoded data removed]",
      "text/plain": [
       "<Figure size 576x432 with 1 Axes>"
      ]
     },
     "metadata": {
      "needs_background": "light"
     },
     "output_type": "display_data"
    }
   ],
   "source": [
    "import matplotlib.pyplot as plt\n",
    "import matplotlib.ticker as ticker\n",
    "%matplotlib inline\n",
    "\n",
    "def precision_recall_curve_plot(y_test, pred_proba_c1):\n",
    "    # threshold ndarray와 이 threshold에 따른 정밀도, 재현율 ndarray 추출. \n",
    "    precisions, recalls, thresholds = precision_recall_curve( y_test, pred_proba_c1)\n",
    "    \n",
    "    # X축을 threshold값으로, Y축은 정밀도, 재현율 값으로 각각 Plot 수행. 정밀도는 점선으로 표시\n",
    "    plt.figure(figsize=(8,6))\n",
    "    threshold_boundary = thresholds.shape[0]\n",
    "    plt.plot(thresholds, precisions[0:threshold_boundary], linestyle='--', label='precision')\n",
    "    plt.plot(thresholds, recalls[0:threshold_boundary],label='recall')\n",
    "    \n",
    "    # threshold 값 X 축의 Scale을 0.1 단위로 변경\n",
    "    start, end = plt.xlim()\n",
    "    plt.xticks(np.round(np.arange(start, end, 0.1),2))\n",
    "    \n",
    "    # x축, y축 label과 legend, 그리고 grid 설정\n",
    "    plt.xlabel('Threshold value'); plt.ylabel('Precision and Recall value')\n",
    "    plt.legend(); plt.grid()\n",
    "    plt.show()\n",
    "    \n",
    "precision_recall_curve_plot(y_test, lgbm_clf_best.predict_proba(X_test)[:, 1] ) ####\n"
   ]
  },
  {
   "cell_type": "code",
   "execution_count": 163,
   "metadata": {},
   "outputs": [
    {
     "data": {
      "text/plain": [
       "(0.618, 0.7556)"
      ]
     },
     "execution_count": 163,
     "metadata": {},
     "output_type": "execute_result"
    }
   ],
   "source": [
    "def Find_threshold(model, X_test, y_test):\n",
    "    thresholds = np.arange(0,1,0.001)\n",
    "    threshold_count = []\n",
    "    pred_proba=model.predict_proba(X_test)\n",
    "    pred_proba_1 = pred_proba[:,1].reshape(-1,1)\n",
    "    for threshold in thresholds:\n",
    "        binarizer = Binarizer(threshold=threshold)\n",
    "        model_cl_pred = binarizer.transform(pred_proba_1)\n",
    "        threshold_count.append([threshold, metrics.f1_score(model_cl_pred, y_test)])\n",
    "\n",
    "    MAX=thresholds[np.array(threshold_count)[:,1].argmax()]\n",
    "    \n",
    "    thresholds = np.arange(MAX-0.05,MAX+0.05,0.005)\n",
    "    threshold_count = []\n",
    "    for threshold in thresholds:\n",
    "        binarizer = Binarizer(threshold=threshold)\n",
    "        model_cl_pred = binarizer.transform(pred_proba_1)\n",
    "        #threshold_count.append([threshold, metrics.f1_score(log_cl_pred, y_test)])\n",
    "        #print('threshold: {0:.4f}, f1_score: {1:.4f}'.format(threshold,metrics.f1_score(model_cl_pred, y_test)))\n",
    "        threshold_count.append([threshold, metrics.f1_score(model_cl_pred, y_test)])\n",
    "    \n",
    "    return np.round(thresholds[np.array(threshold_count)[:,1].argmax()],4), np.round(metrics.f1_score(Binarizer(threshold=thresholds[np.array(threshold_count)[:,1].argmax()]).transform(pred_proba_1), y_test),4)\n",
    "\n",
    "Find_threshold(lgbm_clf_bayes_best, X_test, y_test)"
   ]
  },
  {
   "cell_type": "code",
   "execution_count": 164,
   "metadata": {},
   "outputs": [
    {
     "name": "stdout",
     "output_type": "stream",
     "text": [
      "오차 행렬\n",
      "[[95 15]\n",
      " [18 51]]\n",
      "정확도: 0.8156, 정밀도: 0.7727, 재현율: 0.7391, F1_score:  0.739130\n"
     ]
    }
   ],
   "source": [
    "# Binarizer의 베스트 threshold 설정값 지정 \n",
    "\n",
    "custom_threshold = 0.618\n",
    "pred_proba_1 = pred_proba[:,1].reshape(-1,1)\n",
    "binarizer = Binarizer(threshold=custom_threshold).fit(pred_proba_1) \n",
    "custom_predict = binarizer.transform(pred_proba_1)\n",
    "\n",
    "get_clf_eval(y_test , custom_predict)"
   ]
  },
  {
   "cell_type": "markdown",
   "metadata": {},
   "source": [
    "# END"
   ]
  }
 ],
 "metadata": {
  "kernelspec": {
   "display_name": "Python 3",
   "language": "python",
   "name": "python3"
  },
  "language_info": {
   "codemirror_mode": {
    "name": "ipython",
    "version": 3
   },
   "file_extension": ".py",
   "mimetype": "text/x-python",
   "name": "python",
   "nbconvert_exporter": "python",
   "pygments_lexer": "ipython3",
   "version": "3.7.7"
  }
 },
 "nbformat": 4,
 "nbformat_minor": 2
}
